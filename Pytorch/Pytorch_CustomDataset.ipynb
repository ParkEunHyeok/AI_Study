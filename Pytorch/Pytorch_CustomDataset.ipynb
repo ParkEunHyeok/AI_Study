{
  "nbformat": 4,
  "nbformat_minor": 0,
  "metadata": {
    "colab": {
      "name": "Pytorch_CustomDataset.ipynb",
      "provenance": [],
      "authorship_tag": "ABX9TyNJD7TXDHvj3pCArUOxsf9S",
      "include_colab_link": true
    },
    "kernelspec": {
      "name": "python3",
      "display_name": "Python 3"
    },
    "language_info": {
      "name": "python"
    }
  },
  "cells": [
    {
      "cell_type": "markdown",
      "metadata": {
        "id": "view-in-github",
        "colab_type": "text"
      },
      "source": [
        "<a href=\"https://colab.research.google.com/github/ParkEunHyeok/AI_Study/blob/main/Pytorch/Pytorch_CustomDataset.ipynb\" target=\"_parent\"><img src=\"https://colab.research.google.com/assets/colab-badge.svg\" alt=\"Open In Colab\"/></a>"
      ]
    },
    {
      "cell_type": "code",
      "metadata": {
        "id": "AGjbdbPeilLG"
      },
      "source": [
        "import torch\n",
        "import torch.nn.functional as F\n",
        "from torch.utils.data import Dataset\n",
        "from torch.utils.data import DataLoader"
      ],
      "execution_count": 1,
      "outputs": []
    },
    {
      "cell_type": "code",
      "metadata": {
        "id": "H_Nb1c1ai1Eo"
      },
      "source": [
        "# Dataset 상속\n",
        "class CustomDataset(Dataset): \n",
        "  def __init__(self):\n",
        "    self.x_data = [[73, 80, 75],\n",
        "                   [93, 88, 93],\n",
        "                   [89, 91, 90],\n",
        "                   [96, 98, 100],\n",
        "                   [73, 66, 70]]\n",
        "    self.y_data = [[152], [185], [180], [196], [142]]\n",
        "\n",
        "  def __len__(self):\n",
        "    return len(self.x_data)\n",
        "  \n",
        "  def __getitem__(self, idx):\n",
        "    x = torch.FloatTensor(self.x_data[idx])\n",
        "    y = torch.FloatTensor(self.y_data[idx])\n",
        "    return x, y"
      ],
      "execution_count": 3,
      "outputs": []
    },
    {
      "cell_type": "code",
      "metadata": {
        "id": "0_BJ8fsJi3qd"
      },
      "source": [
        "dataset = CustomDataset()\n",
        "dataloader = DataLoader(dataset, batch_size=2, shuffle=True)"
      ],
      "execution_count": 4,
      "outputs": []
    },
    {
      "cell_type": "code",
      "metadata": {
        "id": "MMhkLZd8jPOE"
      },
      "source": [
        "model = torch.nn.Linear(3,1)\n",
        "optimizer = torch.optim.SGD(model.parameters(), lr=1e-5) "
      ],
      "execution_count": 5,
      "outputs": []
    },
    {
      "cell_type": "code",
      "metadata": {
        "colab": {
          "base_uri": "https://localhost:8080/"
        },
        "id": "nPyhbA42jQeT",
        "outputId": "b7ad72d9-d7b7-419b-903d-ca88bde193b2"
      },
      "source": [
        "nb_epochs = 20\n",
        "for epoch in range(nb_epochs + 1):\n",
        "  for batch_idx, samples in enumerate(dataloader):\n",
        "    # print(batch_idx)\n",
        "    # print(samples)\n",
        "    x_train, y_train = samples\n",
        "    # H(x) 계산\n",
        "    prediction = model(x_train)\n",
        "\n",
        "    # cost 계산\n",
        "    cost = F.mse_loss(prediction, y_train)\n",
        "\n",
        "    # cost로 H(x) 계산\n",
        "    optimizer.zero_grad()\n",
        "    cost.backward()\n",
        "    optimizer.step()\n",
        "\n",
        "    print('Epoch {:4d}/{} Batch {}/{} Cost: {:.6f}'.format(\n",
        "        epoch, nb_epochs, batch_idx+1, len(dataloader),\n",
        "        cost.item()\n",
        "        ))"
      ],
      "execution_count": 6,
      "outputs": [
        {
          "output_type": "stream",
          "text": [
            "Epoch    0/20 Batch 1/3 Cost: 43765.539062\n",
            "Epoch    0/20 Batch 2/3 Cost: 5671.835938\n",
            "Epoch    0/20 Batch 3/3 Cost: 3878.085449\n",
            "Epoch    1/20 Batch 1/3 Cost: 1035.090820\n",
            "Epoch    1/20 Batch 2/3 Cost: 197.312378\n",
            "Epoch    1/20 Batch 3/3 Cost: 130.849564\n",
            "Epoch    2/20 Batch 1/3 Cost: 17.569273\n",
            "Epoch    2/20 Batch 2/3 Cost: 12.404092\n",
            "Epoch    2/20 Batch 3/3 Cost: 1.236781\n",
            "Epoch    3/20 Batch 1/3 Cost: 2.929363\n",
            "Epoch    3/20 Batch 2/3 Cost: 0.014772\n",
            "Epoch    3/20 Batch 3/3 Cost: 0.000105\n",
            "Epoch    4/20 Batch 1/3 Cost: 0.011030\n",
            "Epoch    4/20 Batch 2/3 Cost: 0.017661\n",
            "Epoch    4/20 Batch 3/3 Cost: 3.707106\n",
            "Epoch    5/20 Batch 1/3 Cost: 0.734697\n",
            "Epoch    5/20 Batch 2/3 Cost: 1.348676\n",
            "Epoch    5/20 Batch 3/3 Cost: 0.243361\n",
            "Epoch    6/20 Batch 1/3 Cost: 1.315592\n",
            "Epoch    6/20 Batch 2/3 Cost: 0.522065\n",
            "Epoch    6/20 Batch 3/3 Cost: 0.110316\n",
            "Epoch    7/20 Batch 1/3 Cost: 1.610099\n",
            "Epoch    7/20 Batch 2/3 Cost: 0.369700\n",
            "Epoch    7/20 Batch 3/3 Cost: 0.070492\n",
            "Epoch    8/20 Batch 1/3 Cost: 1.682082\n",
            "Epoch    8/20 Batch 2/3 Cost: 0.324316\n",
            "Epoch    8/20 Batch 3/3 Cost: 0.056843\n",
            "Epoch    9/20 Batch 1/3 Cost: 0.018159\n",
            "Epoch    9/20 Batch 2/3 Cost: 1.743980\n",
            "Epoch    9/20 Batch 3/3 Cost: 0.177027\n",
            "Epoch   10/20 Batch 1/3 Cost: 0.056966\n",
            "Epoch   10/20 Batch 2/3 Cost: 1.702711\n",
            "Epoch   10/20 Batch 3/3 Cost: 0.202676\n",
            "Epoch   11/20 Batch 1/3 Cost: 0.053018\n",
            "Epoch   11/20 Batch 2/3 Cost: 0.072210\n",
            "Epoch   11/20 Batch 3/3 Cost: 3.541938\n",
            "Epoch   12/20 Batch 1/3 Cost: 0.510711\n",
            "Epoch   12/20 Batch 2/3 Cost: 1.331905\n",
            "Epoch   12/20 Batch 3/3 Cost: 0.429923\n",
            "Epoch   13/20 Batch 1/3 Cost: 0.165305\n",
            "Epoch   13/20 Batch 2/3 Cost: 1.647243\n",
            "Epoch   13/20 Batch 3/3 Cost: 0.115753\n",
            "Epoch   14/20 Batch 1/3 Cost: 1.433307\n",
            "Epoch   14/20 Batch 2/3 Cost: 0.242332\n",
            "Epoch   14/20 Batch 3/3 Cost: 0.253676\n",
            "Epoch   15/20 Batch 1/3 Cost: 0.027573\n",
            "Epoch   15/20 Batch 2/3 Cost: 1.828714\n",
            "Epoch   15/20 Batch 3/3 Cost: 0.065160\n",
            "Epoch   16/20 Batch 1/3 Cost: 1.490425\n",
            "Epoch   16/20 Batch 2/3 Cost: 0.412670\n",
            "Epoch   16/20 Batch 3/3 Cost: 0.009253\n",
            "Epoch   17/20 Batch 1/3 Cost: 1.610871\n",
            "Epoch   17/20 Batch 2/3 Cost: 0.164984\n",
            "Epoch   17/20 Batch 3/3 Cost: 0.091574\n",
            "Epoch   18/20 Batch 1/3 Cost: 0.023205\n",
            "Epoch   18/20 Batch 2/3 Cost: 1.700066\n",
            "Epoch   18/20 Batch 3/3 Cost: 0.183231\n",
            "Epoch   19/20 Batch 1/3 Cost: 0.056496\n",
            "Epoch   19/20 Batch 2/3 Cost: 0.026452\n",
            "Epoch   19/20 Batch 3/3 Cost: 3.510363\n",
            "Epoch   20/20 Batch 1/3 Cost: 1.095732\n",
            "Epoch   20/20 Batch 2/3 Cost: 0.850983\n",
            "Epoch   20/20 Batch 3/3 Cost: 0.099342\n"
          ],
          "name": "stdout"
        }
      ]
    },
    {
      "cell_type": "code",
      "metadata": {
        "colab": {
          "base_uri": "https://localhost:8080/"
        },
        "id": "iVK8N4YujTJy",
        "outputId": "a94000f4-c514-4ef0-bbf6-8b29412b5866"
      },
      "source": [
        "# 임의의 입력 [73, 80, 75]를 선언\n",
        "new_var =  torch.FloatTensor([[73, 80, 75]]) \n",
        "# 입력한 값 [73, 80, 75]에 대해서 예측값 y를 리턴받아서 pred_y에 저장\n",
        "pred_y = model(new_var) \n",
        "print(\"훈련 후 입력이 73, 80, 75일 때의 예측값 :\", pred_y) "
      ],
      "execution_count": 7,
      "outputs": [
        {
          "output_type": "stream",
          "text": [
            "훈련 후 입력이 73, 80, 75일 때의 예측값 : tensor([[150.3287]], grad_fn=<AddmmBackward>)\n"
          ],
          "name": "stdout"
        }
      ]
    },
    {
      "cell_type": "code",
      "metadata": {
        "id": "eHnK1F10jZ1L"
      },
      "source": [
        ""
      ],
      "execution_count": null,
      "outputs": []
    }
  ]
}