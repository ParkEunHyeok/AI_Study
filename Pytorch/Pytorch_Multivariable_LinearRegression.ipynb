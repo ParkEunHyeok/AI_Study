{
  "nbformat": 4,
  "nbformat_minor": 0,
  "metadata": {
    "colab": {
      "name": "Pytorch_Multivariable_LinearRegression.ipynb",
      "provenance": [],
      "authorship_tag": "ABX9TyPvcJ/7bZINUfEESfgOwgdv",
      "include_colab_link": true
    },
    "kernelspec": {
      "name": "python3",
      "display_name": "Python 3"
    },
    "language_info": {
      "name": "python"
    }
  },
  "cells": [
    {
      "cell_type": "markdown",
      "metadata": {
        "id": "view-in-github",
        "colab_type": "text"
      },
      "source": [
        "<a href=\"https://colab.research.google.com/github/ParkEunHyeok/AI_Study/blob/main/Pytorch/Pytorch_Multivariable_LinearRegression.ipynb\" target=\"_parent\"><img src=\"https://colab.research.google.com/assets/colab-badge.svg\" alt=\"Open In Colab\"/></a>"
      ]
    },
    {
      "cell_type": "code",
      "metadata": {
        "id": "JoygbyNqK9ur"
      },
      "source": [
        "import torch\n",
        "import torch.nn as nn\n",
        "import torch.nn.functional as F\n",
        "import torch.optim as optim"
      ],
      "execution_count": 1,
      "outputs": []
    },
    {
      "cell_type": "code",
      "metadata": {
        "colab": {
          "base_uri": "https://localhost:8080/"
        },
        "id": "f2hDwyHJLBtV",
        "outputId": "2cca7c92-0e64-4164-e76a-344f42edf69d"
      },
      "source": [
        "torch.manual_seed(1)"
      ],
      "execution_count": 2,
      "outputs": [
        {
          "output_type": "execute_result",
          "data": {
            "text/plain": [
              "<torch._C.Generator at 0x7fc2a80126f0>"
            ]
          },
          "metadata": {
            "tags": []
          },
          "execution_count": 2
        }
      ]
    },
    {
      "cell_type": "code",
      "metadata": {
        "id": "0Hho0X-uLCgC"
      },
      "source": [
        "# 훈련 데이터\n",
        "x1_train = torch.FloatTensor([[73], [93], [89], [96], [73]])\n",
        "x2_train = torch.FloatTensor([[80], [88], [91], [98], [66]])\n",
        "x3_train = torch.FloatTensor([[75], [93], [90], [100], [70]])\n",
        "y_train = torch.FloatTensor([[152], [185], [180], [196], [142]])"
      ],
      "execution_count": 3,
      "outputs": []
    },
    {
      "cell_type": "code",
      "metadata": {
        "id": "ccYeA6O2LFnR"
      },
      "source": [
        "# 가중치 w와 편향 b 초기화\n",
        "w1 = torch.zeros(1, requires_grad=True)\n",
        "w2 = torch.zeros(1, requires_grad=True)\n",
        "w3 = torch.zeros(1, requires_grad=True)\n",
        "b = torch.zeros(1, requires_grad=True)"
      ],
      "execution_count": 15,
      "outputs": []
    },
    {
      "cell_type": "code",
      "metadata": {
        "colab": {
          "base_uri": "https://localhost:8080/"
        },
        "id": "SBoix_HjLHaZ",
        "outputId": "3644b801-e5f6-4e9f-9e5b-105fe064c2f8"
      },
      "source": [
        "# optimizer 설정\n",
        "optimizer = optim.SGD([w1, w2, w3, b], lr=1e-5)\n",
        "\n",
        "nb_epochs = 1000\n",
        "for epoch in range(nb_epochs + 1):\n",
        "\n",
        "    # H(x) 계산\n",
        "    hypothesis = x1_train * w1 + x2_train * w2 + x3_train * w3 + b\n",
        "\n",
        "    # cost 계산\n",
        "    cost = torch.mean((hypothesis - y_train) ** 2)\n",
        "\n",
        "    # cost로 H(x) 개선\n",
        "    optimizer.zero_grad()\n",
        "    cost.backward()\n",
        "    optimizer.step()\n",
        "\n",
        "    # 100번마다 로그 출력\n",
        "    if epoch % 100 == 0:\n",
        "        print('Epoch {:4d}/{} w1: {:.3f} w2: {:.3f} w3: {:.3f} b: {:.3f} Cost: {:.6f}'.format(\n",
        "            epoch, nb_epochs, w1.item(), w2.item(), w3.item(), b.item(), cost.item()\n",
        "        ))"
      ],
      "execution_count": 16,
      "outputs": [
        {
          "output_type": "stream",
          "text": [
            "Epoch    0/1000 w1: 0.294 w2: 0.294 w3: 0.297 b: 0.003 Cost: 29661.800781\n",
            "Epoch  100/1000 w1: 0.674 w2: 0.661 w3: 0.676 b: 0.008 Cost: 1.563628\n",
            "Epoch  200/1000 w1: 0.679 w2: 0.655 w3: 0.677 b: 0.008 Cost: 1.497595\n",
            "Epoch  300/1000 w1: 0.684 w2: 0.649 w3: 0.677 b: 0.008 Cost: 1.435044\n",
            "Epoch  400/1000 w1: 0.689 w2: 0.643 w3: 0.678 b: 0.008 Cost: 1.375726\n",
            "Epoch  500/1000 w1: 0.694 w2: 0.638 w3: 0.678 b: 0.009 Cost: 1.319507\n",
            "Epoch  600/1000 w1: 0.699 w2: 0.633 w3: 0.679 b: 0.009 Cost: 1.266222\n",
            "Epoch  700/1000 w1: 0.704 w2: 0.627 w3: 0.679 b: 0.009 Cost: 1.215703\n",
            "Epoch  800/1000 w1: 0.709 w2: 0.622 w3: 0.679 b: 0.009 Cost: 1.167810\n",
            "Epoch  900/1000 w1: 0.713 w2: 0.617 w3: 0.680 b: 0.009 Cost: 1.122429\n",
            "Epoch 1000/1000 w1: 0.718 w2: 0.613 w3: 0.680 b: 0.009 Cost: 1.079390\n"
          ],
          "name": "stdout"
        }
      ]
    },
    {
      "cell_type": "code",
      "metadata": {
        "id": "omM4UZU1LK6p"
      },
      "source": [
        "# 행렬 연산을 사용하여 구현"
      ],
      "execution_count": 17,
      "outputs": []
    },
    {
      "cell_type": "code",
      "metadata": {
        "id": "RJKJjjHVLe34"
      },
      "source": [
        "x_train  =  torch.FloatTensor([[73,  80,  75], \n",
        "                               [93,  88,  93], \n",
        "                               [89,  91,  80], \n",
        "                               [96,  98,  100],   \n",
        "                               [73,  66,  70]])  \n",
        "y_train  =  torch.FloatTensor([[152],  [185],  [180],  [196],  [142]])"
      ],
      "execution_count": 18,
      "outputs": []
    },
    {
      "cell_type": "code",
      "metadata": {
        "colab": {
          "base_uri": "https://localhost:8080/"
        },
        "id": "U6DrP4EyLgvh",
        "outputId": "5ba4b877-21a1-4bcb-dbe3-d540fdcd5b50"
      },
      "source": [
        "print(x_train.shape)\n",
        "print(y_train.shape)"
      ],
      "execution_count": 20,
      "outputs": [
        {
          "output_type": "stream",
          "text": [
            "torch.Size([5, 3])\n",
            "torch.Size([5, 1])\n"
          ],
          "name": "stdout"
        }
      ]
    },
    {
      "cell_type": "code",
      "metadata": {
        "id": "fQuTNW9rLiCO"
      },
      "source": [
        "W = torch.zeros((3,1), requires_grad=True)\n",
        "b = torch.zeros(1, requires_grad=True)\n",
        "\n",
        "optimizer = optim.SGD([W, b], lr=1e-5)"
      ],
      "execution_count": 22,
      "outputs": []
    },
    {
      "cell_type": "code",
      "metadata": {
        "colab": {
          "base_uri": "https://localhost:8080/"
        },
        "id": "b92UrnTWLzL_",
        "outputId": "0397fd39-a3b6-4fe3-c328-cea4388bdb37"
      },
      "source": [
        "epochs = 2001\n",
        "\n",
        "for epoch in range(epochs):\n",
        "  hypothesis = x_train.matmul(W) + b\n",
        "  cost = torch.mean((hypothesis - y_train)**2)\n",
        "  optimizer.zero_grad()\n",
        "  cost.backward()\n",
        "  optimizer.step()\n",
        "\n",
        "  if epoch%100==0:\n",
        "    print('Epoch {:4d}/{} hypothesis: {} Cost: {:.6f}'.format(\n",
        "        epoch, nb_epochs, hypothesis.squeeze().detach(), cost.item()\n",
        "    ))"
      ],
      "execution_count": 31,
      "outputs": [
        {
          "output_type": "stream",
          "text": [
            "Epoch    0/1000 hypothesis: tensor([152.6695, 184.5854, 179.4844, 196.1615, 142.2276]) Cost: 0.192750\n",
            "Epoch  100/1000 hypothesis: tensor([152.6638, 184.5863, 179.4914, 196.1555, 142.2324]) Cost: 0.189743\n",
            "Epoch  200/1000 hypothesis: tensor([152.6582, 184.5871, 179.4982, 196.1497, 142.2372]) Cost: 0.186846\n",
            "Epoch  300/1000 hypothesis: tensor([152.6527, 184.5879, 179.5048, 196.1440, 142.2418]) Cost: 0.184055\n",
            "Epoch  400/1000 hypothesis: tensor([152.6473, 184.5887, 179.5114, 196.1384, 142.2464]) Cost: 0.181365\n",
            "Epoch  500/1000 hypothesis: tensor([152.6420, 184.5895, 179.5177, 196.1329, 142.2509]) Cost: 0.178771\n",
            "Epoch  600/1000 hypothesis: tensor([152.6368, 184.5903, 179.5240, 196.1275, 142.2553]) Cost: 0.176279\n",
            "Epoch  700/1000 hypothesis: tensor([152.6317, 184.5911, 179.5301, 196.1222, 142.2597]) Cost: 0.173869\n",
            "Epoch  800/1000 hypothesis: tensor([152.6266, 184.5919, 179.5361, 196.1170, 142.2639]) Cost: 0.171545\n",
            "Epoch  900/1000 hypothesis: tensor([152.6217, 184.5927, 179.5420, 196.1120, 142.2682]) Cost: 0.169312\n",
            "Epoch 1000/1000 hypothesis: tensor([152.6168, 184.5935, 179.5478, 196.1070, 142.2723]) Cost: 0.167159\n",
            "Epoch 1100/1000 hypothesis: tensor([152.6120, 184.5943, 179.5534, 196.1021, 142.2764]) Cost: 0.165082\n",
            "Epoch 1200/1000 hypothesis: tensor([152.6073, 184.5950, 179.5589, 196.0972, 142.2804]) Cost: 0.163084\n",
            "Epoch 1300/1000 hypothesis: tensor([152.6026, 184.5958, 179.5643, 196.0925, 142.2844]) Cost: 0.161159\n",
            "Epoch 1400/1000 hypothesis: tensor([152.5981, 184.5966, 179.5697, 196.0879, 142.2882]) Cost: 0.159297\n",
            "Epoch 1500/1000 hypothesis: tensor([152.5936, 184.5973, 179.5748, 196.0834, 142.2920]) Cost: 0.157508\n",
            "Epoch 1600/1000 hypothesis: tensor([152.5892, 184.5981, 179.5799, 196.0790, 142.2958]) Cost: 0.155787\n",
            "Epoch 1700/1000 hypothesis: tensor([152.5849, 184.5988, 179.5849, 196.0746, 142.2995]) Cost: 0.154118\n",
            "Epoch 1800/1000 hypothesis: tensor([152.5806, 184.5995, 179.5898, 196.0703, 142.3031]) Cost: 0.152520\n",
            "Epoch 1900/1000 hypothesis: tensor([152.5764, 184.6003, 179.5946, 196.0661, 142.3067]) Cost: 0.150976\n",
            "Epoch 2000/1000 hypothesis: tensor([152.5723, 184.6010, 179.5993, 196.0620, 142.3102]) Cost: 0.149484\n"
          ],
          "name": "stdout"
        }
      ]
    },
    {
      "cell_type": "code",
      "metadata": {
        "id": "Hik-1MUQMQhO"
      },
      "source": [
        ""
      ],
      "execution_count": null,
      "outputs": []
    }
  ]
}