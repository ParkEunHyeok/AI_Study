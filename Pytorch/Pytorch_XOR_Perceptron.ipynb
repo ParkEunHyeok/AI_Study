{
  "nbformat": 4,
  "nbformat_minor": 0,
  "metadata": {
    "colab": {
      "name": "Pytorch_XOR_Perceptron.ipynb",
      "provenance": [],
      "authorship_tag": "ABX9TyOmgvrepY4T0cUJ81eJElpB",
      "include_colab_link": true
    },
    "kernelspec": {
      "name": "python3",
      "display_name": "Python 3"
    },
    "language_info": {
      "name": "python"
    }
  },
  "cells": [
    {
      "cell_type": "markdown",
      "metadata": {
        "id": "view-in-github",
        "colab_type": "text"
      },
      "source": [
        "<a href=\"https://colab.research.google.com/github/ParkEunHyeok/AI_Study/blob/main/Pytorch/Pytorch_XOR_Perceptron.ipynb\" target=\"_parent\"><img src=\"https://colab.research.google.com/assets/colab-badge.svg\" alt=\"Open In Colab\"/></a>"
      ]
    },
    {
      "cell_type": "code",
      "metadata": {
        "colab": {
          "base_uri": "https://localhost:8080/"
        },
        "id": "P_GD04Yc12ro",
        "outputId": "6c2609af-4b93-4fb0-db33-6a78553b416e"
      },
      "source": [
        "import torch\n",
        "import torch.nn as nn\n",
        "torch.manual_seed(1)"
      ],
      "execution_count": 1,
      "outputs": [
        {
          "output_type": "execute_result",
          "data": {
            "text/plain": [
              "<torch._C.Generator at 0x7f8a7dad69b0>"
            ]
          },
          "metadata": {
            "tags": []
          },
          "execution_count": 1
        }
      ]
    },
    {
      "cell_type": "code",
      "metadata": {
        "id": "juIFP3yi2FGk"
      },
      "source": [
        "X = torch.FloatTensor([[0, 0], [0, 1], [1, 0], [1, 1]])\n",
        "Y = torch.FloatTensor([[0], [1], [1], [0]])"
      ],
      "execution_count": 2,
      "outputs": []
    },
    {
      "cell_type": "code",
      "metadata": {
        "id": "v3uHz4Mg2KVH"
      },
      "source": [
        "model = nn.Sequential(\n",
        "    nn.Linear(2, 10, bias=True),\n",
        "    nn.Sigmoid(),\n",
        "    nn.Linear(10, 10, bias=True),\n",
        "    nn.Sigmoid(),\n",
        "    nn.Linear(10, 10, bias=True),\n",
        "    nn.Sigmoid(),\n",
        "    nn.Linear(10, 1, bias=True),\n",
        "    nn.Sigmoid()\n",
        ")"
      ],
      "execution_count": 3,
      "outputs": []
    },
    {
      "cell_type": "code",
      "metadata": {
        "id": "eZlZU4aX2fve"
      },
      "source": [
        "# BCE loss는 이진 분류에서 사용하는 cross entropy 함수임.\n",
        "criterion = torch.nn.BCELoss()\n",
        "optimizer = torch.optim.SGD(model.parameters(), lr=1)"
      ],
      "execution_count": 5,
      "outputs": []
    },
    {
      "cell_type": "code",
      "metadata": {
        "colab": {
          "base_uri": "https://localhost:8080/"
        },
        "id": "u-Y_02G_2qX_",
        "outputId": "246b5500-7c33-46e5-c7cb-14769f1b5d26"
      },
      "source": [
        "for epoch in range(10001):\n",
        "  optimizer.zero_grad()\n",
        "  hypothesis = model(X)\n",
        "\n",
        "  cost = criterion(hypothesis, Y)\n",
        "  cost.backward()\n",
        "  optimizer.step()\n",
        "\n",
        "  if epoch % 1000 == 0:\n",
        "    print(epoch, cost.item())  "
      ],
      "execution_count": 7,
      "outputs": [
        {
          "output_type": "stream",
          "text": [
            "0 0.00018959093722514808\n",
            "1000 0.0001474134041927755\n",
            "2000 0.00012021505244774744\n",
            "3000 0.00010130333248525858\n",
            "4000 8.738430915400386e-05\n",
            "5000 7.678869587834924e-05\n",
            "6000 6.83987163938582e-05\n",
            "7000 6.160333578009158e-05\n",
            "8000 5.601506563834846e-05\n",
            "9000 5.135074752615765e-05\n",
            "10000 4.737193739856593e-05\n"
          ],
          "name": "stdout"
        }
      ]
    },
    {
      "cell_type": "code",
      "metadata": {
        "colab": {
          "base_uri": "https://localhost:8080/"
        },
        "id": "pkw2mVgq3JOp",
        "outputId": "a0fafc14-d596-4880-a575-aef12a12376e"
      },
      "source": [
        "with torch.no_grad():\n",
        "    hypothesis = model(X)\n",
        "    predicted = (hypothesis > 0.5).float()\n",
        "    accuracy = (predicted == Y).float().mean()\n",
        "    print('모델의 출력값(Hypothesis):\\n', hypothesis.detach().numpy())\n",
        "    print('모델의 예측값(Predicted):\\n', predicted.detach().numpy())\n",
        "    print('실제값(Y):\\n', Y.numpy())\n",
        "    print('정확도(Accuracy):\\n', accuracy.item())"
      ],
      "execution_count": 9,
      "outputs": [
        {
          "output_type": "stream",
          "text": [
            "모델의 출력값(Hypothesis):\n",
            " [[3.9170267e-05]\n",
            " [9.9995768e-01]\n",
            " [9.9994457e-01]\n",
            " [5.2593514e-05]]\n",
            "모델의 예측값(Predicted):\n",
            " [[0.]\n",
            " [1.]\n",
            " [1.]\n",
            " [0.]]\n",
            "실제값(Y):\n",
            " [[0.]\n",
            " [1.]\n",
            " [1.]\n",
            " [0.]]\n",
            "정확도(Accuracy):\n",
            " 1.0\n"
          ],
          "name": "stdout"
        }
      ]
    },
    {
      "cell_type": "code",
      "metadata": {
        "id": "XP3P7dTB3Z3d"
      },
      "source": [
        ""
      ],
      "execution_count": null,
      "outputs": []
    }
  ]
}