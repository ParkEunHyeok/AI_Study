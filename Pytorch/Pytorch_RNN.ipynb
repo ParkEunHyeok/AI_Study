{
  "nbformat": 4,
  "nbformat_minor": 0,
  "metadata": {
    "colab": {
      "name": "Pytorch_RNN.ipynb",
      "provenance": [],
      "authorship_tag": "ABX9TyMjt2kgGoU5xnTgxR3uxywv",
      "include_colab_link": true
    },
    "kernelspec": {
      "name": "python3",
      "display_name": "Python 3"
    },
    "language_info": {
      "name": "python"
    },
    "accelerator": "GPU"
  },
  "cells": [
    {
      "cell_type": "markdown",
      "metadata": {
        "id": "view-in-github",
        "colab_type": "text"
      },
      "source": [
        "<a href=\"https://colab.research.google.com/github/ParkEunHyeok/AI_Study/blob/main/Pytorch/Pytorch_RNN.ipynb\" target=\"_parent\"><img src=\"https://colab.research.google.com/assets/colab-badge.svg\" alt=\"Open In Colab\"/></a>"
      ]
    },
    {
      "cell_type": "code",
      "metadata": {
        "id": "SjsqmeACmWzw"
      },
      "source": [
        "import torch\n",
        "import torch.nn as nn"
      ],
      "execution_count": 2,
      "outputs": []
    },
    {
      "cell_type": "code",
      "metadata": {
        "id": "ky96VC1nsaqL"
      },
      "source": [
        "input_size = 5\n",
        "hidden_size = 8"
      ],
      "execution_count": 3,
      "outputs": []
    },
    {
      "cell_type": "code",
      "metadata": {
        "id": "_SVNKDCxsgOe"
      },
      "source": [
        "# 배치 크기, 시점의 수, 매 시점마다 들어가는 입력 크기\n",
        "inputs = torch.Tensor(1, 10, 5)"
      ],
      "execution_count": 10,
      "outputs": []
    },
    {
      "cell_type": "code",
      "metadata": {
        "id": "yS_u1inesmad"
      },
      "source": [
        "cell = nn.RNN(input_size, hidden_size, batch_first=True)"
      ],
      "execution_count": 11,
      "outputs": []
    },
    {
      "cell_type": "code",
      "metadata": {
        "id": "0Fe6FD1CssNE"
      },
      "source": [
        "outputs, _status = cell(inputs)"
      ],
      "execution_count": 12,
      "outputs": []
    },
    {
      "cell_type": "code",
      "metadata": {
        "colab": {
          "base_uri": "https://localhost:8080/"
        },
        "id": "9I0X1TaMsvjs",
        "outputId": "141fae70-835f-4459-f562-9e2f2bcc4c75"
      },
      "source": [
        "print(outputs.shape)"
      ],
      "execution_count": 13,
      "outputs": [
        {
          "output_type": "stream",
          "text": [
            "torch.Size([1, 10, 8])\n"
          ],
          "name": "stdout"
        }
      ]
    },
    {
      "cell_type": "code",
      "metadata": {
        "colab": {
          "base_uri": "https://localhost:8080/"
        },
        "id": "ciBWYgoFs2ls",
        "outputId": "a8488673-a747-4c51-ff34-460a0916407d"
      },
      "source": [
        "print(_status.shape)"
      ],
      "execution_count": 14,
      "outputs": [
        {
          "output_type": "stream",
          "text": [
            "torch.Size([1, 1, 8])\n"
          ],
          "name": "stdout"
        }
      ]
    },
    {
      "cell_type": "code",
      "metadata": {
        "id": "PIToWo37s6u8"
      },
      "source": [
        "# Deep RNN\n",
        "inputs = torch.Tensor(1,10,5)"
      ],
      "execution_count": 15,
      "outputs": []
    },
    {
      "cell_type": "code",
      "metadata": {
        "colab": {
          "base_uri": "https://localhost:8080/"
        },
        "id": "IlGCadbDtPwz",
        "outputId": "4b3eecd1-2ac2-4ee7-c2ba-f7fa5728d6f4"
      },
      "source": [
        "# 은닉층이 두 개\n",
        "cell = nn.RNN(input_size=5, hidden_size=8, num_layers=2, batch_first=True)\n",
        "print(outputs.shape)"
      ],
      "execution_count": 16,
      "outputs": [
        {
          "output_type": "stream",
          "text": [
            "torch.Size([1, 10, 8])\n"
          ],
          "name": "stdout"
        }
      ]
    },
    {
      "cell_type": "code",
      "metadata": {
        "colab": {
          "base_uri": "https://localhost:8080/"
        },
        "id": "RuCtKHdWth1q",
        "outputId": "220d5b41-e267-4799-9090-e85ec495ddd0"
      },
      "source": [
        "# 층의 개수, 배치 크기, 은닉 상태의 크기\n",
        "print(_status.shape)"
      ],
      "execution_count": 17,
      "outputs": [
        {
          "output_type": "stream",
          "text": [
            "torch.Size([1, 1, 8])\n"
          ],
          "name": "stdout"
        }
      ]
    },
    {
      "cell_type": "code",
      "metadata": {
        "id": "L_G9x2BotlOp"
      },
      "source": [
        ""
      ],
      "execution_count": null,
      "outputs": []
    }
  ]
}