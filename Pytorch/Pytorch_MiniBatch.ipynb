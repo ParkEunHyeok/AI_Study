{
  "nbformat": 4,
  "nbformat_minor": 0,
  "metadata": {
    "colab": {
      "name": "Pytorch_MiniBatch.ipynb",
      "provenance": [],
      "authorship_tag": "ABX9TyPsDBlIFzAFjAYEf+oIn377",
      "include_colab_link": true
    },
    "kernelspec": {
      "name": "python3",
      "display_name": "Python 3"
    },
    "language_info": {
      "name": "python"
    }
  },
  "cells": [
    {
      "cell_type": "markdown",
      "metadata": {
        "id": "view-in-github",
        "colab_type": "text"
      },
      "source": [
        "<a href=\"https://colab.research.google.com/github/ParkEunHyeok/AI_Study/blob/main/Pytorch/Pytorch_MiniBatch.ipynb\" target=\"_parent\"><img src=\"https://colab.research.google.com/assets/colab-badge.svg\" alt=\"Open In Colab\"/></a>"
      ]
    },
    {
      "cell_type": "code",
      "metadata": {
        "id": "SHTwFfCigtHk"
      },
      "source": [
        "import torch\n",
        "import torch.nn as nn\n",
        "import torch.nn.functional as F\n",
        "from torch.utils.data import TensorDataset\n",
        "from torch.utils.data import DataLoader"
      ],
      "execution_count": 2,
      "outputs": []
    },
    {
      "cell_type": "code",
      "metadata": {
        "id": "-aQC_tJRhId9"
      },
      "source": [
        "x_train  =  torch.FloatTensor([[73,  80,  75], \n",
        "                               [93,  88,  93], \n",
        "                               [89,  91,  90], \n",
        "                               [96,  98,  100],   \n",
        "                               [73,  66,  70]])  \n",
        "y_train  =  torch.FloatTensor([[152],  [185],  [180],  [196],  [142]])"
      ],
      "execution_count": 3,
      "outputs": []
    },
    {
      "cell_type": "code",
      "metadata": {
        "id": "KdlWaUEQhUwi"
      },
      "source": [
        "# TensorDataset의 입력으로 사용하고 dataset으로 저장\n",
        "dataset = TensorDataset(x_train, y_train)"
      ],
      "execution_count": 10,
      "outputs": []
    },
    {
      "cell_type": "code",
      "metadata": {
        "id": "aXa-HbhmhV9Z"
      },
      "source": [
        "dataloader = DataLoader(dataset, batch_size=2, shuffle=True)"
      ],
      "execution_count": 11,
      "outputs": []
    },
    {
      "cell_type": "code",
      "metadata": {
        "id": "uy6Zv9Exh868"
      },
      "source": [
        "model = nn.Linear(3,1)\n",
        "optimizer = torch.optim.SGD(model.parameters(), lr=1e-5) "
      ],
      "execution_count": 12,
      "outputs": []
    },
    {
      "cell_type": "code",
      "metadata": {
        "colab": {
          "base_uri": "https://localhost:8080/"
        },
        "id": "soaON4n4h_-u",
        "outputId": "41dfa814-90d1-494c-c410-75bf2c4c2f29"
      },
      "source": [
        "nb_epochs = 20\n",
        "for epoch in range(nb_epochs + 1):\n",
        "  for batch_idx, samples in enumerate(dataloader):\n",
        "    # print(batch_idx)\n",
        "    # print(samples)\n",
        "    x_train, y_train = samples\n",
        "    # H(x) 계산\n",
        "    prediction = model(x_train)\n",
        "\n",
        "    # cost 계산\n",
        "    cost = F.mse_loss(prediction, y_train)\n",
        "\n",
        "    # cost로 H(x) 계산\n",
        "    optimizer.zero_grad()\n",
        "    cost.backward()\n",
        "    optimizer.step()\n",
        "\n",
        "    print('Epoch {:4d}/{} Batch {}/{} Cost: {:.6f}'.format(\n",
        "        epoch, nb_epochs, batch_idx+1, len(dataloader),\n",
        "        cost.item()\n",
        "        ))"
      ],
      "execution_count": 13,
      "outputs": [
        {
          "output_type": "stream",
          "text": [
            "Epoch    0/20 Batch 1/1 Cost: 15783.221680\n",
            "Epoch    1/20 Batch 1/1 Cost: 6728.046875\n",
            "Epoch    2/20 Batch 1/1 Cost: 2868.021240\n",
            "Epoch    3/20 Batch 1/1 Cost: 1222.575562\n",
            "Epoch    4/20 Batch 1/1 Cost: 521.156738\n",
            "Epoch    5/20 Batch 1/1 Cost: 222.158539\n",
            "Epoch    6/20 Batch 1/1 Cost: 94.701324\n",
            "Epoch    7/20 Batch 1/1 Cost: 40.369099\n",
            "Epoch    8/20 Batch 1/1 Cost: 17.208521\n",
            "Epoch    9/20 Batch 1/1 Cost: 7.335538\n",
            "Epoch   10/20 Batch 1/1 Cost: 3.127030\n",
            "Epoch   11/20 Batch 1/1 Cost: 1.332930\n",
            "Epoch   12/20 Batch 1/1 Cost: 0.568214\n",
            "Epoch   13/20 Batch 1/1 Cost: 0.242234\n",
            "Epoch   14/20 Batch 1/1 Cost: 0.103246\n",
            "Epoch   15/20 Batch 1/1 Cost: 0.044020\n",
            "Epoch   16/20 Batch 1/1 Cost: 0.018763\n",
            "Epoch   17/20 Batch 1/1 Cost: 0.007995\n",
            "Epoch   18/20 Batch 1/1 Cost: 0.003410\n",
            "Epoch   19/20 Batch 1/1 Cost: 0.001454\n",
            "Epoch   20/20 Batch 1/1 Cost: 0.000619\n"
          ],
          "name": "stdout"
        }
      ]
    },
    {
      "cell_type": "code",
      "metadata": {
        "colab": {
          "base_uri": "https://localhost:8080/"
        },
        "id": "u28mKPmniBO2",
        "outputId": "0d163b68-5908-4e4f-ffb1-33ab47e241fc"
      },
      "source": [
        "# 임의의 입력 [73, 80, 75]를 선언\n",
        "new_var =  torch.FloatTensor([[73, 80, 75]]) \n",
        "# 입력한 값 [73, 80, 75]에 대해서 예측값 y를 리턴받아서 pred_y에 저장\n",
        "pred_y = model(new_var) \n",
        "print(\"훈련 후 입력이 73, 80, 75일 때의 예측값 :\", pred_y) "
      ],
      "execution_count": 14,
      "outputs": [
        {
          "output_type": "stream",
          "text": [
            "훈련 후 입력이 73, 80, 75일 때의 예측값 : tensor([[151.9837]], grad_fn=<AddmmBackward>)\n"
          ],
          "name": "stdout"
        }
      ]
    },
    {
      "cell_type": "code",
      "metadata": {
        "id": "lQfiuBAdiE2-"
      },
      "source": [
        ""
      ],
      "execution_count": null,
      "outputs": []
    }
  ]
}