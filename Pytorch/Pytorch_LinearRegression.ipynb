{
  "nbformat": 4,
  "nbformat_minor": 0,
  "metadata": {
    "colab": {
      "name": "Pytorch_LinearRegression.ipynb",
      "provenance": [],
      "authorship_tag": "ABX9TyO/teaDJqooMP035VCiEdhv",
      "include_colab_link": true
    },
    "kernelspec": {
      "name": "python3",
      "display_name": "Python 3"
    },
    "language_info": {
      "name": "python"
    }
  },
  "cells": [
    {
      "cell_type": "markdown",
      "metadata": {
        "id": "view-in-github",
        "colab_type": "text"
      },
      "source": [
        "<a href=\"https://colab.research.google.com/github/ParkEunHyeok/AI_Study/blob/main/Pytorch/Pytorch_LinearRegression.ipynb\" target=\"_parent\"><img src=\"https://colab.research.google.com/assets/colab-badge.svg\" alt=\"Open In Colab\"/></a>"
      ]
    },
    {
      "cell_type": "code",
      "metadata": {
        "id": "Grh2VfigHLvI"
      },
      "source": [
        "import torch\n",
        "import torch.nn as nn\n",
        "import torch.nn.functional as F\n",
        "import torch.optim as optim"
      ],
      "execution_count": 2,
      "outputs": []
    },
    {
      "cell_type": "code",
      "metadata": {
        "colab": {
          "base_uri": "https://localhost:8080/"
        },
        "id": "phDeedv1HbY6",
        "outputId": "7b1ace51-d93f-449b-aba7-bb3ca04ae71a"
      },
      "source": [
        "# 다음에 같은 코드를 다시 실행해도 같은 결괏값이 나오도록 함.\n",
        "torch.manual_seed(1)"
      ],
      "execution_count": 4,
      "outputs": [
        {
          "output_type": "execute_result",
          "data": {
            "text/plain": [
              "<torch._C.Generator at 0x7f3a88a56af0>"
            ]
          },
          "metadata": {
            "tags": []
          },
          "execution_count": 4
        }
      ]
    },
    {
      "cell_type": "code",
      "metadata": {
        "id": "XB4m0uQeHnb2"
      },
      "source": [
        "# 변수 선언\n",
        "x_train = torch.FloatTensor([[1], [2], [3]])\n",
        "y_train = torch.FloatTensor([[2], [4], [6]])"
      ],
      "execution_count": 12,
      "outputs": []
    },
    {
      "cell_type": "code",
      "metadata": {
        "colab": {
          "base_uri": "https://localhost:8080/"
        },
        "id": "pqBiWraNH5ml",
        "outputId": "f734681a-9587-41a9-c0e4-95918f5986f2"
      },
      "source": [
        "print(x_train)\n",
        "print(x_train.shape)"
      ],
      "execution_count": 13,
      "outputs": [
        {
          "output_type": "stream",
          "text": [
            "tensor([[1.],\n",
            "        [2.],\n",
            "        [3.]])\n",
            "torch.Size([3, 1])\n"
          ],
          "name": "stdout"
        }
      ]
    },
    {
      "cell_type": "code",
      "metadata": {
        "colab": {
          "base_uri": "https://localhost:8080/"
        },
        "id": "uLRKxaBkIDN8",
        "outputId": "7655667f-b424-4738-c4e9-94970b2df2b6"
      },
      "source": [
        "# Weight, Loss 초기화\n",
        "# 파이토치는 미분을 통해 이전에 얻은 기울기를 누적시키므로,\n",
        "# optimizer.zero_grad()를 통해 계속 0으로 초기화해주어야 함.\n",
        "\n",
        "W = torch.zeros(1, requires_grad=True)\n",
        "print(W)\n",
        "b = torch.zeros(1, requires_grad=True)\n",
        "print(b)"
      ],
      "execution_count": 14,
      "outputs": [
        {
          "output_type": "stream",
          "text": [
            "tensor([0.], requires_grad=True)\n",
            "tensor([0.], requires_grad=True)\n"
          ],
          "name": "stdout"
        }
      ]
    },
    {
      "cell_type": "code",
      "metadata": {
        "colab": {
          "base_uri": "https://localhost:8080/"
        },
        "id": "GebPyT77IaGi",
        "outputId": "4137c9bc-c112-4e68-d89d-5f1e224bd1fa"
      },
      "source": [
        "# H(x) 가설함수 세우기\n",
        "hypothesis = x_train * W + b\n",
        "print(hypothesis)\n",
        "\n",
        "cost = torch.mean((hypothesis - y_train)**2)\n",
        "print(cost)"
      ],
      "execution_count": 15,
      "outputs": [
        {
          "output_type": "stream",
          "text": [
            "tensor([[0.],\n",
            "        [0.],\n",
            "        [0.]], grad_fn=<AddBackward0>)\n",
            "tensor(18.6667, grad_fn=<MeanBackward0>)\n"
          ],
          "name": "stdout"
        }
      ]
    },
    {
      "cell_type": "code",
      "metadata": {
        "id": "pKXW6GVkIj5i"
      },
      "source": [
        "# 경사하강법 구현\n",
        "optimizer = optim.SGD([W,b], lr=0.01)\n",
        "\n",
        "# gradient를 0으로 초기화\n",
        "optimizer.zero_grad()\n",
        "# 비용함수를 미분하여 gradient 계산\n",
        "cost.backward()\n",
        "# W와 b를 업데이트\n",
        "optimizer.step()"
      ],
      "execution_count": 16,
      "outputs": []
    },
    {
      "cell_type": "code",
      "metadata": {
        "colab": {
          "base_uri": "https://localhost:8080/"
        },
        "id": "t8-n3xZKJKC5",
        "outputId": "8945614c-40ff-4073-f8ed-33961315e2ca"
      },
      "source": [
        "epochs = 2001\n",
        "\n",
        "for epoch in range(epochs):\n",
        "  hypothesis = x_train * W + b\n",
        "  cost = torch.mean((hypothesis - y_train)**2)\n",
        "  optimizer.zero_grad()\n",
        "  cost.backward()\n",
        "  optimizer.step()\n",
        "\n",
        "  if epoch % 100 == 0:\n",
        "    print('Epoch {:4d}/{} W: {:.3f}, b: {:.3f} Cost: {:.6f}'.format(\n",
        "            epoch, epochs, W.item(), b.item(), cost.item()))"
      ],
      "execution_count": 19,
      "outputs": [
        {
          "output_type": "stream",
          "text": [
            "Epoch    0/2001 W: 0.632, b: 0.270 Cost: 9.257346\n",
            "Epoch  100/2001 W: 1.748, b: 0.574 Cost: 0.047480\n",
            "Epoch  200/2001 W: 1.802, b: 0.451 Cost: 0.029340\n",
            "Epoch  300/2001 W: 1.844, b: 0.355 Cost: 0.018130\n",
            "Epoch  400/2001 W: 1.877, b: 0.279 Cost: 0.011203\n",
            "Epoch  500/2001 W: 1.904, b: 0.219 Cost: 0.006923\n",
            "Epoch  600/2001 W: 1.924, b: 0.172 Cost: 0.004278\n",
            "Epoch  700/2001 W: 1.940, b: 0.135 Cost: 0.002644\n",
            "Epoch  800/2001 W: 1.953, b: 0.106 Cost: 0.001634\n",
            "Epoch  900/2001 W: 1.963, b: 0.084 Cost: 0.001009\n",
            "Epoch 1000/2001 W: 1.971, b: 0.066 Cost: 0.000624\n",
            "Epoch 1100/2001 W: 1.977, b: 0.052 Cost: 0.000385\n",
            "Epoch 1200/2001 W: 1.982, b: 0.041 Cost: 0.000238\n",
            "Epoch 1300/2001 W: 1.986, b: 0.032 Cost: 0.000147\n",
            "Epoch 1400/2001 W: 1.989, b: 0.025 Cost: 0.000091\n",
            "Epoch 1500/2001 W: 1.991, b: 0.020 Cost: 0.000056\n",
            "Epoch 1600/2001 W: 1.993, b: 0.016 Cost: 0.000035\n",
            "Epoch 1700/2001 W: 1.995, b: 0.012 Cost: 0.000021\n",
            "Epoch 1800/2001 W: 1.996, b: 0.010 Cost: 0.000013\n",
            "Epoch 1900/2001 W: 1.997, b: 0.008 Cost: 0.000008\n",
            "Epoch 2000/2001 W: 1.997, b: 0.006 Cost: 0.000005\n"
          ],
          "name": "stdout"
        }
      ]
    },
    {
      "cell_type": "code",
      "metadata": {
        "id": "A8L3GOJpJuCq"
      },
      "source": [
        ""
      ],
      "execution_count": null,
      "outputs": []
    }
  ]
}