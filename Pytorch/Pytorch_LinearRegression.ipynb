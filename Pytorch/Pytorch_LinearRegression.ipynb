{
  "nbformat": 4,
  "nbformat_minor": 0,
  "metadata": {
    "colab": {
      "name": "Pytorch_LinearRegression.ipynb",
      "provenance": [],
      "authorship_tag": "ABX9TyOPumbMPhk9JEsKjSOt+5a5",
      "include_colab_link": true
    },
    "kernelspec": {
      "name": "python3",
      "display_name": "Python 3"
    },
    "language_info": {
      "name": "python"
    }
  },
  "cells": [
    {
      "cell_type": "markdown",
      "metadata": {
        "id": "view-in-github",
        "colab_type": "text"
      },
      "source": [
        "<a href=\"https://colab.research.google.com/github/ParkEunHyeok/AI_Study/blob/main/Pytorch/Pytorch_LinearRegression.ipynb\" target=\"_parent\"><img src=\"https://colab.research.google.com/assets/colab-badge.svg\" alt=\"Open In Colab\"/></a>"
      ]
    },
    {
      "cell_type": "code",
      "metadata": {
        "id": "Grh2VfigHLvI"
      },
      "source": [
        "import torch\n",
        "import torch.nn as nn\n",
        "import torch.nn.functional as F\n",
        "import torch.optim as optim"
      ],
      "execution_count": 1,
      "outputs": []
    },
    {
      "cell_type": "code",
      "metadata": {
        "colab": {
          "base_uri": "https://localhost:8080/"
        },
        "id": "phDeedv1HbY6",
        "outputId": "e892b7df-4359-4a9e-f342-517c5d9b1487"
      },
      "source": [
        "# 다음에 같은 코드를 다시 실행해도 같은 결괏값이 나오도록 함.\n",
        "torch.manual_seed(1)"
      ],
      "execution_count": 2,
      "outputs": [
        {
          "output_type": "execute_result",
          "data": {
            "text/plain": [
              "<torch._C.Generator at 0x7f9b128b1950>"
            ]
          },
          "metadata": {
            "tags": []
          },
          "execution_count": 2
        }
      ]
    },
    {
      "cell_type": "code",
      "metadata": {
        "id": "XB4m0uQeHnb2"
      },
      "source": [
        "# 변수 선언\n",
        "x_train = torch.FloatTensor([[1], [2], [3]])\n",
        "y_train = torch.FloatTensor([[2], [4], [6]])"
      ],
      "execution_count": 3,
      "outputs": []
    },
    {
      "cell_type": "code",
      "metadata": {
        "colab": {
          "base_uri": "https://localhost:8080/"
        },
        "id": "pqBiWraNH5ml",
        "outputId": "7addad59-6a48-4ab9-b895-fe69484d1ac2"
      },
      "source": [
        "print(x_train)\n",
        "print(x_train.shape)"
      ],
      "execution_count": 4,
      "outputs": [
        {
          "output_type": "stream",
          "text": [
            "tensor([[1.],\n",
            "        [2.],\n",
            "        [3.]])\n",
            "torch.Size([3, 1])\n"
          ],
          "name": "stdout"
        }
      ]
    },
    {
      "cell_type": "code",
      "metadata": {
        "colab": {
          "base_uri": "https://localhost:8080/"
        },
        "id": "uLRKxaBkIDN8",
        "outputId": "ed6bbe95-e82f-4271-ecfd-014485acfcb2"
      },
      "source": [
        "# Weight, Loss 초기화\n",
        "# 파이토치는 미분을 통해 이전에 얻은 기울기를 누적시키므로,\n",
        "# optimizer.zero_grad()를 통해 계속 0으로 초기화해주어야 함.\n",
        "\n",
        "W = torch.zeros(1, requires_grad=True)\n",
        "print(W)\n",
        "b = torch.zeros(1, requires_grad=True)\n",
        "print(b)"
      ],
      "execution_count": 5,
      "outputs": [
        {
          "output_type": "stream",
          "text": [
            "tensor([0.], requires_grad=True)\n",
            "tensor([0.], requires_grad=True)\n"
          ],
          "name": "stdout"
        }
      ]
    },
    {
      "cell_type": "code",
      "metadata": {
        "colab": {
          "base_uri": "https://localhost:8080/"
        },
        "id": "GebPyT77IaGi",
        "outputId": "ba081d86-c89b-4481-a860-70a65e8a61b8"
      },
      "source": [
        "# H(x) 가설함수 세우기\n",
        "hypothesis = x_train * W + b\n",
        "print(hypothesis)\n",
        "\n",
        "cost = torch.mean((hypothesis - y_train)**2)\n",
        "print(cost)"
      ],
      "execution_count": 6,
      "outputs": [
        {
          "output_type": "stream",
          "text": [
            "tensor([[0.],\n",
            "        [0.],\n",
            "        [0.]], grad_fn=<AddBackward0>)\n",
            "tensor(18.6667, grad_fn=<MeanBackward0>)\n"
          ],
          "name": "stdout"
        }
      ]
    },
    {
      "cell_type": "code",
      "metadata": {
        "id": "pKXW6GVkIj5i"
      },
      "source": [
        "# 경사하강법 구현\n",
        "optimizer = optim.SGD([W,b], lr=0.01)\n",
        "\n",
        "# gradient를 0으로 초기화\n",
        "optimizer.zero_grad()\n",
        "# 비용함수를 미분하여 gradient 계산, 자동미분\n",
        "cost.backward()\n",
        "# W와 b를 업데이트\n",
        "optimizer.step()"
      ],
      "execution_count": 7,
      "outputs": []
    },
    {
      "cell_type": "code",
      "metadata": {
        "colab": {
          "base_uri": "https://localhost:8080/"
        },
        "id": "t8-n3xZKJKC5",
        "outputId": "88ecdedc-07f2-4353-a3a3-90334c8c05dc"
      },
      "source": [
        "epochs = 2001\n",
        "\n",
        "for epoch in range(epochs):\n",
        "  hypothesis = x_train * W + b\n",
        "  cost = torch.mean((hypothesis - y_train)**2)\n",
        "  optimizer.zero_grad()\n",
        "  cost.backward()\n",
        "  optimizer.step()\n",
        "\n",
        "  if epoch % 100 == 0:\n",
        "    print('Epoch {:4d}/{} W: {:.3f}, b: {:.3f} Cost: {:.6f}'.format(\n",
        "            epoch, epochs, W.item(), b.item(), cost.item()))"
      ],
      "execution_count": 8,
      "outputs": [
        {
          "output_type": "stream",
          "text": [
            "Epoch    0/2001 W: 0.353, b: 0.151 Cost: 14.770963\n",
            "Epoch  100/2001 W: 1.746, b: 0.577 Cost: 0.047939\n",
            "Epoch  200/2001 W: 1.801, b: 0.453 Cost: 0.029624\n",
            "Epoch  300/2001 W: 1.843, b: 0.356 Cost: 0.018306\n",
            "Epoch  400/2001 W: 1.877, b: 0.280 Cost: 0.011312\n",
            "Epoch  500/2001 W: 1.903, b: 0.220 Cost: 0.006990\n",
            "Epoch  600/2001 W: 1.924, b: 0.173 Cost: 0.004319\n",
            "Epoch  700/2001 W: 1.940, b: 0.136 Cost: 0.002669\n",
            "Epoch  800/2001 W: 1.953, b: 0.107 Cost: 0.001649\n",
            "Epoch  900/2001 W: 1.963, b: 0.084 Cost: 0.001019\n",
            "Epoch 1000/2001 W: 1.971, b: 0.066 Cost: 0.000630\n",
            "Epoch 1100/2001 W: 1.977, b: 0.052 Cost: 0.000389\n",
            "Epoch 1200/2001 W: 1.982, b: 0.041 Cost: 0.000240\n",
            "Epoch 1300/2001 W: 1.986, b: 0.032 Cost: 0.000149\n",
            "Epoch 1400/2001 W: 1.989, b: 0.025 Cost: 0.000092\n",
            "Epoch 1500/2001 W: 1.991, b: 0.020 Cost: 0.000057\n",
            "Epoch 1600/2001 W: 1.993, b: 0.016 Cost: 0.000035\n",
            "Epoch 1700/2001 W: 1.995, b: 0.012 Cost: 0.000022\n",
            "Epoch 1800/2001 W: 1.996, b: 0.010 Cost: 0.000013\n",
            "Epoch 1900/2001 W: 1.997, b: 0.008 Cost: 0.000008\n",
            "Epoch 2000/2001 W: 1.997, b: 0.006 Cost: 0.000005\n"
          ],
          "name": "stdout"
        }
      ]
    },
    {
      "cell_type": "code",
      "metadata": {
        "id": "A8L3GOJpJuCq"
      },
      "source": [
        "# nn.Module 사용하여 구현"
      ],
      "execution_count": 9,
      "outputs": []
    },
    {
      "cell_type": "code",
      "metadata": {
        "id": "T-K2CeG5dixR"
      },
      "source": [
        "x_train = torch.FloatTensor([[1], [2], [3]])\n",
        "y_train = torch.FloatTensor([[2], [4], [6]])"
      ],
      "execution_count": 10,
      "outputs": []
    },
    {
      "cell_type": "code",
      "metadata": {
        "id": "ONaEcaCcdoig"
      },
      "source": [
        "model = nn.Linear(1,1)"
      ],
      "execution_count": 11,
      "outputs": []
    },
    {
      "cell_type": "code",
      "metadata": {
        "colab": {
          "base_uri": "https://localhost:8080/"
        },
        "id": "PiRB7uhidr72",
        "outputId": "c8e5f365-f214-4f93-a07b-2901c13a94a6"
      },
      "source": [
        "print(list(model.parameters()))"
      ],
      "execution_count": 13,
      "outputs": [
        {
          "output_type": "stream",
          "text": [
            "[Parameter containing:\n",
            "tensor([[0.5153]], requires_grad=True), Parameter containing:\n",
            "tensor([-0.4414], requires_grad=True)]\n"
          ],
          "name": "stdout"
        }
      ]
    },
    {
      "cell_type": "code",
      "metadata": {
        "id": "orEoxFgvdvbd"
      },
      "source": [
        "optimizer = torch.optim.SGD(model.parameters(), lr=0.01)"
      ],
      "execution_count": 14,
      "outputs": []
    },
    {
      "cell_type": "code",
      "metadata": {
        "colab": {
          "base_uri": "https://localhost:8080/"
        },
        "id": "FwdMhK_Cd3Vt",
        "outputId": "32a1695b-c368-424d-eb69-a9bf20c14657"
      },
      "source": [
        "epochs = 2001\n",
        "\n",
        "for epoch in range(epochs):\n",
        "  prediction = model(x_train)\n",
        "  cost = F.mse_loss(prediction, y_train)\n",
        "  optimizer.zero_grad()\n",
        "  cost.backward()\n",
        "  optimizer.step()\n",
        "\n",
        "  if epoch%100==0:\n",
        "    print('Epoch {:4d}/{} Cost: {:.6f}'.format(\n",
        "          epoch, epochs, cost.item()\n",
        "      ))"
      ],
      "execution_count": 18,
      "outputs": [
        {
          "output_type": "stream",
          "text": [
            "Epoch    0/2001 Cost: 10.358571\n",
            "Epoch  100/2001 Cost: 0.002777\n",
            "Epoch  200/2001 Cost: 0.001716\n",
            "Epoch  300/2001 Cost: 0.001060\n",
            "Epoch  400/2001 Cost: 0.000655\n",
            "Epoch  500/2001 Cost: 0.000405\n",
            "Epoch  600/2001 Cost: 0.000250\n",
            "Epoch  700/2001 Cost: 0.000155\n",
            "Epoch  800/2001 Cost: 0.000096\n",
            "Epoch  900/2001 Cost: 0.000059\n",
            "Epoch 1000/2001 Cost: 0.000036\n",
            "Epoch 1100/2001 Cost: 0.000023\n",
            "Epoch 1200/2001 Cost: 0.000014\n",
            "Epoch 1300/2001 Cost: 0.000009\n",
            "Epoch 1400/2001 Cost: 0.000005\n",
            "Epoch 1500/2001 Cost: 0.000003\n",
            "Epoch 1600/2001 Cost: 0.000002\n",
            "Epoch 1700/2001 Cost: 0.000001\n",
            "Epoch 1800/2001 Cost: 0.000001\n",
            "Epoch 1900/2001 Cost: 0.000000\n",
            "Epoch 2000/2001 Cost: 0.000000\n"
          ],
          "name": "stdout"
        }
      ]
    },
    {
      "cell_type": "code",
      "metadata": {
        "id": "CZREfZ6YeMgU"
      },
      "source": [
        ""
      ],
      "execution_count": null,
      "outputs": []
    }
  ]
}