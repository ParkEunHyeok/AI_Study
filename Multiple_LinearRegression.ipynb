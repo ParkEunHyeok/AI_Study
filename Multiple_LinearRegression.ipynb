{
  "nbformat": 4,
  "nbformat_minor": 0,
  "metadata": {
    "colab": {
      "name": "Multiple_LinearRegression.ipynb",
      "provenance": [],
      "collapsed_sections": [],
      "authorship_tag": "ABX9TyPFlFJbPim/SznPy1OeRmOa",
      "include_colab_link": true
    },
    "kernelspec": {
      "name": "python3",
      "display_name": "Python 3"
    },
    "language_info": {
      "name": "python"
    }
  },
  "cells": [
    {
      "cell_type": "markdown",
      "metadata": {
        "id": "view-in-github",
        "colab_type": "text"
      },
      "source": [
        "<a href=\"https://colab.research.google.com/github/ParkEunHyeok/MachineLearningExamples/blob/main/Multiple_LinearRegression.ipynb\" target=\"_parent\"><img src=\"https://colab.research.google.com/assets/colab-badge.svg\" alt=\"Open In Colab\"/></a>"
      ]
    },
    {
      "cell_type": "code",
      "metadata": {
        "id": "YZuGjITcdp_I"
      },
      "source": [
        "# 라이브러리 선언\n",
        "import numpy as np\n",
        "import pandas as pd\n",
        "import tensorflow as tf \n",
        "import matplotlib.pyplot as plt"
      ],
      "execution_count": 2,
      "outputs": []
    },
    {
      "cell_type": "code",
      "metadata": {
        "colab": {
          "resources": {
            "http://localhost:8080/nbextensions/google.colab/files.js": {
              "data": "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",
              "ok": true,
              "headers": [
                [
                  "content-type",
                  "application/javascript"
                ]
              ],
              "status": 200,
              "status_text": ""
            }
          },
          "base_uri": "https://localhost:8080/",
          "height": 76
        },
        "id": "O9mDpzuYdvsQ",
        "outputId": "727fd751-7765-49b1-8e41-560c1ebbff1f"
      },
      "source": [
        "# csv 파일 업로드\n",
        "from google.colab import files\n",
        "myfile = files.upload()"
      ],
      "execution_count": 3,
      "outputs": [
        {
          "output_type": "display_data",
          "data": {
            "text/html": [
              "\n",
              "     <input type=\"file\" id=\"files-f522051f-0661-4970-8540-8e2e21999fc1\" name=\"files[]\" multiple disabled\n",
              "        style=\"border:none\" />\n",
              "     <output id=\"result-f522051f-0661-4970-8540-8e2e21999fc1\">\n",
              "      Upload widget is only available when the cell has been executed in the\n",
              "      current browser session. Please rerun this cell to enable.\n",
              "      </output>\n",
              "      <script src=\"/nbextensions/google.colab/files.js\"></script> "
            ],
            "text/plain": [
              "<IPython.core.display.HTML object>"
            ]
          },
          "metadata": {
            "tags": []
          }
        },
        {
          "output_type": "stream",
          "text": [
            "Saving 7-2,3_Korea_Car_Dataset.csv to 7-2,3_Korea_Car_Dataset.csv\n"
          ],
          "name": "stdout"
        }
      ]
    },
    {
      "cell_type": "code",
      "metadata": {
        "colab": {
          "base_uri": "https://localhost:8080/"
        },
        "id": "E2DyJfSgdxgl",
        "outputId": "6c6e5cf0-13cc-475d-c81c-3210573e78e5"
      },
      "source": [
        "# 업로드한 csv 파일 이름을 DataFrame으로 불러오기\n",
        "data = pd.read_csv(r'7-2,3_Korea_Car_Dataset.csv', encoding='CP949')\n",
        "df = pd.DataFrame(data[:1000])\n",
        "print(df)"
      ],
      "execution_count": 10,
      "outputs": [
        {
          "output_type": "stream",
          "text": [
            "                         model_name maker  oil_type  ...  mileage grade    co2\n",
            "0                     토요타 Prius AWD   토요타  Gasoline  ...     20.9   1등급   74.0\n",
            "1          코나 1.6GDI 하이브리드 (18 타이어)    현대  Gasoline  ...     17.4   1등급   92.0\n",
            "2          코나 1.6GDI 하이브리드 (16 타이어)    현대  Gasoline  ...     19.3   1등급   82.0\n",
            "3             코나 1.6디젤 2WD (16 타이어)    현대    Diesel  ...     17.5   1등급  105.0\n",
            "4             코나 1.6디젤 2WD (17 타이어)    현대    Diesel  ...     17.3   1등급  107.0\n",
            "..                              ...   ...       ...  ...      ...   ...    ...\n",
            "995          그랜드 스타렉스 2.5디젤 5밴 (15)    현대    Diesel  ...     11.0   4등급  175.0\n",
            "996          그랜드 스타렉스 2.5디젤 3밴 (15)    현대    Diesel  ...     11.0   4등급  175.0\n",
            "997     그랜드 스타렉스 2.5디젤 2WD 12인 (15)    현대    Diesel  ...      9.5   4등급  207.0\n",
            "998  그랜드 스타렉스 2.5디젤 어린이보호차 2WD (15)    현대    Diesel  ...      9.4   4등급  208.0\n",
            "999                BMW X6 xDrive30d   BMW    Diesel  ...     10.5   4등급  185.0\n",
            "\n",
            "[1000 rows x 8 columns]\n"
          ],
          "name": "stdout"
        }
      ]
    },
    {
      "cell_type": "code",
      "metadata": {
        "colab": {
          "base_uri": "https://localhost:8080/",
          "height": 573
        },
        "id": "Sgqr72ItiOST",
        "outputId": "e2e6410e-6afb-46de-a811-5a57d0d5f358"
      },
      "source": [
        "# cc, co2 관계 시각화 : 정비례 관계\n",
        "fig = plt.figure(figsize=(8,4))\n",
        "ax = fig.add_subplot(1,1,1)\n",
        "df.plot(x='cc',y='co2',\n",
        "              kind='scatter', ax=ax, title=\"study\")\n",
        "plt.show()\n",
        "  # co2, 연비 관계 시각화 : 반비례\n",
        "fig = plt.figure(figsize=(8,4))\n",
        "ax = fig.add_subplot(1,1,1)\n",
        "df.plot(x='co2',y='mileage',\n",
        "              kind='scatter', ax=ax, title=\"study\")\n",
        "plt.show()"
      ],
      "execution_count": 11,
      "outputs": [
        {
          "output_type": "display_data",
          "data": {
            "image/png": "[encoded data removed]",
            "text/plain": [
              "<Figure size 576x288 with 1 Axes>"
            ]
          },
          "metadata": {
            "tags": [],
            "needs_background": "light"
          }
        },
        {
          "output_type": "display_data",
          "data": {
            "image/png": "[encoded data removed]",
            "text/plain": [
              "<Figure size 576x288 with 1 Axes>"
            ]
          },
          "metadata": {
            "tags": [],
            "needs_background": "light"
          }
        }
      ]
    },
    {
      "cell_type": "code",
      "metadata": {
        "id": "CS25o4xNmQaG",
        "colab": {
          "base_uri": "https://localhost:8080/"
        },
        "outputId": "a295f3fa-88ea-45da-d00f-6b3ded5f57f1"
      },
      "source": [
        "w1_train = df['mileage'].to_numpy()\n",
        "w2_train = df['co2'].to_numpy()\n",
        "b_train = df['cc'].to_numpy()\n",
        "\n",
        "learning_rate = 0.00001\n",
        "epoch = 100\n",
        "\n",
        "w1 = np.random.uniform(-1, 1)\n",
        "w2 = np.random.uniform(-1, 1)\n",
        "b = np.random.uniform(-1, 1)\n",
        "\n",
        "for i in range(epoch):\n",
        "  y_pred = w1 * w1_train + w2 * w2_train + b\n",
        "  error = ((y_pred - b_train)**2).mean()\n",
        "\n",
        "  if error < 0.001:\n",
        "        break\n",
        "\n",
        "  w1_grad = learning_rate * ((y_pred - b_train)*w1_train).mean()\n",
        "  w2_grad = learning_rate * ((y_pred - b_train)*w2_train).mean()\n",
        "  b_grad = learning_rate * (y_pred - b_train).mean()\n",
        "\n",
        "  w1 -= w1_grad\n",
        "  w2 -= w2_grad\n",
        "  b -= b_grad\n",
        "\n",
        "  if epoch % 10 == 0:\n",
        "    print(\"[\" + str(w1) + \"] [\" + str(w2) + \"] [\" + str(b) + \"] [\" + str(error) + \"]\")\n",
        "\n",
        "print(\"[\" + str(w1) + \"] [\" + str(w2) + \"] [\" + str(b) + \"] [\" + str(error) + \"]\")"
      ],
      "execution_count": 31,
      "outputs": [
        {
          "output_type": "stream",
          "text": [
            "[-0.12518858886818185] [2.76501007884061] [-0.49755033600247917] [4587998.721294713]\n",
            "[0.08182826137091473] [5.198318351384529] [-0.48119669725660213] [2833011.710579588]\n",
            "[0.24405329687420974] [7.089211909380919] [-0.468437513423793] [1773108.5626646527]\n",
            "[0.3714688854960194] [8.558576928169094] [-0.4584717095353396] [1132991.7417774654]\n",
            "[0.4718326581458641] [9.700358084910338] [-0.45067674352385784] [746399.0926767138]\n",
            "[0.5511733284814001] [10.587562920310393] [-0.4445688171918184] [512918.8765215036]\n",
            "[0.6141760109222753] [11.276928028297611] [-0.4397719548286352] [371908.806542235]\n",
            "[0.6644816641250825] [11.812545307591199] [-0.43599397317309496] [286744.8088297071]\n",
            "[0.7049197984911005] [12.228680042693025] [-0.43300780687000734] [235308.27834497584]\n",
            "[0.7376893209289571] [12.551960928580323] [-0.43063699585996384] [204240.98819917018]\n",
            "[0.7644990753490043] [12.803082011909153] [-0.42874440714607365] [185475.42123632712]\n",
            "[0.7866770613670753] [12.99812532626581] [-0.427223470102881] [174139.31157826754]\n",
            "[0.8052553118004919] [13.14958875611696] [-0.4259913651427128] [167290.12134997154]\n",
            "[0.8210358538000023] [13.267184824153958] [-0.42498373040120957] [163150.74532707434]\n",
            "[0.8346419694445338] [13.358461455569444] [-0.4241505481261741] [160647.92528385026]\n",
            "[0.8465580320583882] [13.429284394672786] [-0.4234529478531989] [159133.48169578772]\n",
            "[0.8571604643414648] [13.48421210692556] [-0.4228607220468657] [158215.9554656491]\n",
            "[0.8667417969643915] [13.526787127812442] [-0.42235039542269304] [157658.93026261014]\n",
            "[0.8755293653049075] [13.559762479762263] [-0.4219037245528543] [157319.6256993218]\n",
            "[0.8836998393050499] [13.585277628286027] [-0.4215065318597579] [157111.8115269119]\n",
            "[0.891390515107594] [13.604995223358099] [-0.4211477994735845] [156983.41017381402]\n",
            "[0.8987080901631915] [13.620207365702434] [-0.4208189650387686] [156902.97010755903]\n",
            "[0.9057354826586862] [13.631918189866493] [-0.4205133744617376] [156851.49660792173]\n",
            "[0.9125371311222166] [13.64090804228128] [-0.4202258566229349] [156817.51807487273]\n",
            "[0.9191631129230279] [13.647783356171475] [-0.41995239287135366] [156794.10639321388]\n",
            "[0.9256523448949855] [13.653015411010909] [-0.41968986017772064] [156777.0774228367]\n",
            "[0.9320350706478152] [13.65697045378764] [-0.4194358315302716] [156763.90420959747]\n",
            "[0.9383347935395943] [13.659933107243289] [-0.4191884208156537] [156753.0606339923]\n",
            "[0.9445697788541187] [13.662124561196235] [-0.4189461622707037] [156743.62501681477]\n",
            "[0.950754221193018] [13.66371670962538] [-0.4187079168004048] [156735.04072225137]\n",
            "[0.956899151695087] [13.664843137069253] [-0.4184727991744485] [156726.9715774185]\n",
            "[0.9630131430666765] [13.665607656523052] [-0.418240121449255] [156719.2145549828]\n",
            "[0.9691028574843141] [13.666090944523072] [-0.41800934899933906] [156711.64703903257]\n",
            "[0.9751734723880985] [13.666355697492037] [-0.41778006634781883] [156704.19497702672]\n",
            "[0.9812290113799415] [13.666450638906962] [-0.4175519506121645] [156696.8136456032]\n",
            "[0.9872726013756243] [13.6664136334029] [-0.4173247508680048] [156689.47603435375]\n",
            "[0.9933066724462339] [13.666274106846785] [-0.41709827211205275] [156682.1658303649]\n",
            "[0.9993331131216056] [13.666054927057498] [-0.4168723627991605] [156674.8731813278]\n",
            "[1.0053533910818058] [13.665773865376137] [-0.4166469051569496] [156667.5921367269]\n",
            "[1.0113686469505079] [13.665444732501001] [-0.41642180765898645] [156660.31910248118]\n",
            "[1.0173797671849514] [13.665078261182824] [-0.4161969991754371] [156653.05190764595]\n",
            "[1.0233874407211583] [13.664682792196668] [-0.415972424427345] [156645.78924076003]\n",
            "[1.0293922029948208] [13.664264807433556] [-0.4157480404539994] [156638.53030943588]\n",
            "[1.0353944701514004] [13.663829344183746] [-0.4155238138676092] [156631.2746347732]\n",
            "[1.041394565631935] [13.663380317090084] [-0.4152997187198189] [156624.02192719822]\n",
            "[1.0473927408337582] [13.662920768348682] [-0.4150757348437062] [156616.77201147852]\n",
            "[1.0533891911666318] [13.66245306214821] [-0.41485184656529395] [156609.5247814365]\n",
            "[1.0593840685305014] [13.661979035775145] [-0.41462804170222267] [156602.28017259963]\n",
            "[1.065377491012377] [13.661500117042713] [-0.41440431078558565] [156595.03814568234]\n",
            "[1.0713695504221026] [13.66101741554882] [-0.414180646455191] [156587.79867661095]\n",
            "[1.0773603181486524] [13.660531793595634] [-0.41395704298959973] [156580.5617504986]\n",
            "[1.0833498497112555] [13.660043921303572] [-0.4137334959409027] [156573.32735800688]\n",
            "[1.0893381882962256] [13.659554319442195] [-0.4135100018508935] [156566.09549314843]\n",
            "[1.0953253675055499] [13.659063392715542] [-0.41328655803049696] [156558.86615195984]\n",
            "[1.1013114134929083] [13.65857145562926] [-0.41306316238835583] [156551.63933170008]\n",
            "[1.1072963466236465] [13.658078752592829] [-0.41283981329761954] [156544.41503036665]\n",
            "[1.1132801827647953] [13.657585473541646] [-0.41261650949242146] [156537.1932464031]\n",
            "[1.1192629342875877] [13.657091766077496] [-0.4123932499874279] [156529.97397852226]\n",
            "[1.1252446108465493] [13.656597744903296] [-0.4121700340153169] [156522.75722560022]\n",
            "[1.1312252199849537] [13.656103499155158] [-0.411946860978191] [156515.54298661128]\n",
            "[1.1372047676053447] [13.655609098100383] [-0.4117237304098186] [156508.33126058942]\n",
            "[1.143183258335192] [13.655114595565548] [-0.41150064194628994] [156501.12204660484]\n",
            "[1.1491606958110556] [13.654620033377737] [-0.41127759530321356] [156493.9153437496]\n",
            "[1.1551370828994205] [13.654125444038824] [-0.4110545902579945] [156486.71115112913]\n",
            "[1.1611124218683129] [13.653630852803754] [-0.41083162663606226] [156479.509467857]\n",
            "[1.1670867145206698] [13.653136279295643] [-0.4106087043001678] [156472.31029305197]\n",
            "[1.1730599622979851] [13.652641738760922] [-0.41038582314206645] [156465.11362583583]\n",
            "[1.179032166360856] [13.65214724304476] [-0.41016298307605376] [156457.91946533255]\n",
            "[1.1850033276515786] [13.651652801349089] [-0.4099401840339425] [156450.72781066748]\n",
            "[1.1909734469427926] [13.651158420821691] [-0.4097174259611589] [156443.53866096673]\n",
            "[1.1969425248752854] [13.650664107014007] [-0.40949470881370886] [156436.3520153572]\n",
            "[1.2029105619873706] [13.650169864236908] [-0.4092720325558205] [156429.16787296635]\n",
            "[1.2088775587377185] [13.649675695837171] [-0.40904939715811184] [156421.98623292206]\n",
            "[1.2148435155230992] [13.649181604412348] [-0.4088268025961671] [156414.80709435258]\n",
            "[1.220808432692171] [13.648687591977746] [-0.4086042488494301] [156407.6304563865]\n",
            "[1.2267723105561963] [13.648193660096187] [-0.4083817359003444] [156400.45631815284]\n",
            "[1.2327351493973682] [13.647699809978853] [-0.40815926373368494] [156393.28467878076]\n",
            "[1.2386969494752824] [13.647206042563656] [-0.40793683233603895] [156386.1155374]\n",
            "[1.2446577110319665] [13.646712358576144] [-0.407714441695402] [156378.9488931403]\n",
            "[1.2506174342957883] [13.646218758576826] [-0.4074920918008647] [156371.78474513203]\n",
            "[1.2565761194844927] [13.645725242997955] [-0.4072697826423688] [156364.6230925056]\n",
            "[1.2625337668075627] [13.645231812172115] [-0.40704751421051777] [156357.4639343918]\n",
            "[1.2684903764680533] [13.644738466354436] [-0.4068252864964296] [156350.30726992182]\n",
            "[1.2744459486640174] [13.644245205739848] [-0.4066030994916224] [156343.15309822702]\n",
            "[1.2804004835896134] [13.643752030476508] [-0.4063809531879256] [156336.00141843915]\n",
            "[1.2863539814359661] [13.643258940676217] [-0.4061588475774107] [156328.85222969032]\n",
            "[1.292306442391836] [13.642765936422533] [-0.4059367826523377] [156321.7055311127]\n",
            "[1.298257866644139] [13.642273017777052] [-0.40571475840511323] [156314.56132183905]\n",
            "[1.3042082543783502] [13.641780184784317] [-0.4054927748282584] [156307.4196010022]\n",
            "[1.3101576057788191] [13.64128743747561] [-0.4052708319143833] [156300.28036773548]\n",
            "[1.316105921029012] [13.64079477587191] [-0.4050489296561675] [156293.14362117244]\n",
            "[1.3220532003117031] [13.640302199986195] [-0.404827068046345] [156286.00936044686]\n",
            "[1.327999443809121] [13.639809709825217] [-0.40460524707769213] [156278.87758469285]\n",
            "[1.3339446517030633] [13.639317305390897] [-0.40438346674301867] [156271.74829304492]\n",
            "[1.3398888241749862] [13.6388249866814] [-0.4041617270351604] [156264.62148463778]\n",
            "[1.345831961406073] [13.638332753691971] [-0.40394002794697376] [156257.49715860654]\n",
            "[1.3517740635772881] [13.63784060641559] [-0.40371836947133144] [156250.3753140864]\n",
            "[1.3577151308694193] [13.637348544843475] [-0.40349675160111903] [156243.2559502132]\n",
            "[1.363655163463109] [13.636856568965474] [-0.4032751743292325] [156236.1390661227]\n",
            "[1.3695941615388811] [13.636364678770374] [-0.40305363764857605] [156229.02466095134]\n",
            "[1.3695941615388811] [13.636364678770374] [-0.40305363764857605] [156229.02466095134]\n"
          ],
          "name": "stdout"
        }
      ]
    },
    {
      "cell_type": "code",
      "metadata": {
        "id": "BZ_LCTAOIpwL"
      },
      "source": [
        ""
      ],
      "execution_count": null,
      "outputs": []
    }
  ]
}