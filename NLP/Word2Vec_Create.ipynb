{
  "nbformat": 4,
  "nbformat_minor": 0,
  "metadata": {
    "colab": {
      "name": "Word2Vec_Create.ipynb",
      "provenance": [],
      "authorship_tag": "ABX9TyM2VfRT7yGTB2USwcGYryJl",
      "include_colab_link": true
    },
    "kernelspec": {
      "name": "python3",
      "display_name": "Python 3"
    },
    "language_info": {
      "name": "python"
    }
  },
  "cells": [
    {
      "cell_type": "markdown",
      "metadata": {
        "id": "view-in-github",
        "colab_type": "text"
      },
      "source": [
        "<a href=\"https://colab.research.google.com/github/ParkEunHyeok/AI_Study/blob/main/NLP/Word2Vec_Create.ipynb\" target=\"_parent\"><img src=\"https://colab.research.google.com/assets/colab-badge.svg\" alt=\"Open In Colab\"/></a>"
      ]
    },
    {
      "cell_type": "code",
      "metadata": {
        "colab": {
          "base_uri": "https://localhost:8080/"
        },
        "id": "rVCV0pXVO32H",
        "outputId": "2b3c0bb6-fde2-4747-981b-bb0e61bc3375"
      },
      "source": [
        "!pip3 install konlpy\n",
        "!pip3 install jamo"
      ],
      "execution_count": 1,
      "outputs": [
        {
          "output_type": "stream",
          "name": "stdout",
          "text": [
            "Collecting konlpy\n",
            "  Downloading konlpy-0.5.2-py2.py3-none-any.whl (19.4 MB)\n",
            "\u001b[K     |████████████████████████████████| 19.4 MB 5.0 MB/s \n",
            "\u001b[?25hRequirement already satisfied: tweepy>=3.7.0 in /usr/local/lib/python3.7/dist-packages (from konlpy) (3.10.0)\n",
            "Requirement already satisfied: numpy>=1.6 in /usr/local/lib/python3.7/dist-packages (from konlpy) (1.19.5)\n",
            "Requirement already satisfied: lxml>=4.1.0 in /usr/local/lib/python3.7/dist-packages (from konlpy) (4.2.6)\n",
            "Collecting beautifulsoup4==4.6.0\n",
            "  Downloading beautifulsoup4-4.6.0-py3-none-any.whl (86 kB)\n",
            "\u001b[K     |████████████████████████████████| 86 kB 5.7 MB/s \n",
            "\u001b[?25hCollecting colorama\n",
            "  Downloading colorama-0.4.4-py2.py3-none-any.whl (16 kB)\n",
            "Collecting JPype1>=0.7.0\n",
            "  Downloading JPype1-1.3.0-cp37-cp37m-manylinux_2_5_x86_64.manylinux1_x86_64.whl (448 kB)\n",
            "\u001b[K     |████████████████████████████████| 448 kB 73.3 MB/s \n",
            "\u001b[?25hRequirement already satisfied: typing-extensions in /usr/local/lib/python3.7/dist-packages (from JPype1>=0.7.0->konlpy) (3.7.4.3)\n",
            "Requirement already satisfied: six>=1.10.0 in /usr/local/lib/python3.7/dist-packages (from tweepy>=3.7.0->konlpy) (1.15.0)\n",
            "Requirement already satisfied: requests[socks]>=2.11.1 in /usr/local/lib/python3.7/dist-packages (from tweepy>=3.7.0->konlpy) (2.23.0)\n",
            "Requirement already satisfied: requests-oauthlib>=0.7.0 in /usr/local/lib/python3.7/dist-packages (from tweepy>=3.7.0->konlpy) (1.3.0)\n",
            "Requirement already satisfied: oauthlib>=3.0.0 in /usr/local/lib/python3.7/dist-packages (from requests-oauthlib>=0.7.0->tweepy>=3.7.0->konlpy) (3.1.1)\n",
            "Requirement already satisfied: urllib3!=1.25.0,!=1.25.1,<1.26,>=1.21.1 in /usr/local/lib/python3.7/dist-packages (from requests[socks]>=2.11.1->tweepy>=3.7.0->konlpy) (1.24.3)\n",
            "Requirement already satisfied: chardet<4,>=3.0.2 in /usr/local/lib/python3.7/dist-packages (from requests[socks]>=2.11.1->tweepy>=3.7.0->konlpy) (3.0.4)\n",
            "Requirement already satisfied: idna<3,>=2.5 in /usr/local/lib/python3.7/dist-packages (from requests[socks]>=2.11.1->tweepy>=3.7.0->konlpy) (2.10)\n",
            "Requirement already satisfied: certifi>=2017.4.17 in /usr/local/lib/python3.7/dist-packages (from requests[socks]>=2.11.1->tweepy>=3.7.0->konlpy) (2021.5.30)\n",
            "Requirement already satisfied: PySocks!=1.5.7,>=1.5.6 in /usr/local/lib/python3.7/dist-packages (from requests[socks]>=2.11.1->tweepy>=3.7.0->konlpy) (1.7.1)\n",
            "Installing collected packages: JPype1, colorama, beautifulsoup4, konlpy\n",
            "  Attempting uninstall: beautifulsoup4\n",
            "    Found existing installation: beautifulsoup4 4.6.3\n",
            "    Uninstalling beautifulsoup4-4.6.3:\n",
            "      Successfully uninstalled beautifulsoup4-4.6.3\n",
            "Successfully installed JPype1-1.3.0 beautifulsoup4-4.6.0 colorama-0.4.4 konlpy-0.5.2\n",
            "Collecting jamo\n",
            "  Downloading jamo-0.4.1-py3-none-any.whl (9.5 kB)\n",
            "Installing collected packages: jamo\n",
            "Successfully installed jamo-0.4.1\n"
          ]
        }
      ]
    },
    {
      "cell_type": "code",
      "metadata": {
        "id": "rjSLiNL_O5o5"
      },
      "source": [
        "import requests # 파파고 번역 api 사용\n",
        "import re\n",
        "import jpype\n",
        "import requests\n",
        "from gensim.models import Word2Vec\n",
        "from jamo import h2j, j2hcj\n",
        "from konlpy.tag import Okt\n",
        "import pandas as pd"
      ],
      "execution_count": 2,
      "outputs": []
    },
    {
      "cell_type": "code",
      "metadata": {
        "colab": {
          "base_uri": "https://localhost:8080/"
        },
        "id": "vtBr3xecO7fn",
        "outputId": "0e25faef-cd78-4d9c-d0ad-505dc2da9307"
      },
      "source": [
        "# 구글 드라이브 연결\n",
        "import os\n",
        "from google.colab import drive\n",
        "drive.mount('/content/gdrive/')\n",
        "path = \"gdrive/My Drive/Colab Notebooks/PMS/\""
      ],
      "execution_count": 3,
      "outputs": [
        {
          "output_type": "stream",
          "name": "stdout",
          "text": [
            "Mounted at /content/gdrive/\n"
          ]
        }
      ]
    },
    {
      "cell_type": "code",
      "metadata": {
        "colab": {
          "base_uri": "https://localhost:8080/"
        },
        "id": "3OLtXvhVOu_v",
        "outputId": "27703290-0cdb-454b-cf20-41bbd7cbc71e"
      },
      "source": [
        "train_data = []\n",
        "\n",
        "# 분류될 카테고리명\n",
        "directory_list = ['영어', '외국어', '국어', '문예', '네이밍', '슬로건', '논문', '수학', '과학', '학습•문예', '코딩', '프로그래밍', '해커톤', '메이커톤', '해킹', '보안', '빅데이터', '인공지능', '사물인터넷', 'IT', '컴퓨터', '달리기', '마라톤', '자전거', '수영', '야구', '축구', '농구', '배구', '배드민턴', '테니스', '골프', '볼링', '당구', '탁구 ', '무예', '레포츠', 'e-스포츠', '스포츠', '그림', '그리기', '디자인', '캐릭터', '웹툰', '공예', '만들기', '미술', '동요', '성악', '실용음악', '가요', '국악', '무용', '발레', '댄스', '배우', '오디션', '음악', '무용', '배우', '사진', 'UCC', '동영상', '드론', '요리', '반려동물', '뷰티', '선발', '주산암산', '바둑', '체스', '건축', '제안', '아이디어', '산업', '사회', '창업', '퀴즈', '이색']\n",
        "\n",
        "data = pd.read_csv(path+\"data2.csv\", encoding=\"cp949\")\n",
        "for i in range(len(data)):\n",
        "  train_data.append(data['Column1'][i])\n",
        "\n",
        "for i in range(len(directory_list)):\n",
        "  train_data.append(directory_list[i])\n",
        "print(len(train_data))\n",
        "train_data[:10]"
      ],
      "execution_count": 7,
      "outputs": [
        {
          "output_type": "stream",
          "name": "stdout",
          "text": [
            "7284\n"
          ]
        },
        {
          "output_type": "execute_result",
          "data": {
            "text/plain": [
              "['제24회 한뫼이윤재선생 추모 전국 한글사랑 글짓기  그리기 공모전',\n",
              " '월드 슈퍼퀸 슈퍼스타 댄스경연대회',\n",
              " '언택트 마라톤 제21회 순천남승룡마라톤대회',\n",
              " '2022 대한민국최고연설선발중앙회 슬로건 공모전',\n",
              " '제2회 한식 콘텐츠 스토리텔링 공모전',\n",
              " '제5회 스틸에세이 공모전',\n",
              " '제3회 유엔(UN)참전국가 국기 그리기 공모전',\n",
              " '제18회 화순전국국악대제전',\n",
              " '2021 눈뫼 허웅 선생 추모 ‘한글 사랑 생활 수기’ 공모전',\n",
              " '작업현장 안전 데이터 활용 아이디어 공모전']"
            ]
          },
          "metadata": {},
          "execution_count": 7
        }
      ]
    },
    {
      "cell_type": "code",
      "metadata": {
        "id": "vZC59iLPPOab"
      },
      "source": [
        "# 파일 확장자 및 특수문자 제거 후 형태소 명사 단위로 분석\n",
        "\n",
        "def morpheme(file_name):\n",
        "  okt = Okt()\n",
        "\n",
        "  no_extension_file_name = file_name.rsplit('.', 1)[0] \n",
        "  cleaned_file_name = re.sub('[-=+,_#/\\?:^$.@*\\\"※~&%ㆍ!』\\\\‘|\\(\\)\\[\\]\\<\\>`\\'…》]',\n",
        "                             '', no_extension_file_name)\n",
        "  cleaned_file_name.upper()\n",
        "\n",
        "  return cleaned_file_name"
      ],
      "execution_count": 16,
      "outputs": []
    },
    {
      "cell_type": "code",
      "metadata": {
        "colab": {
          "base_uri": "https://localhost:8080/"
        },
        "id": "lZB4x2nORLoC",
        "outputId": "2a67d101-33fb-4821-d1d2-7491a977e3a1"
      },
      "source": [
        "cleaning = []\n",
        "for data in train_data:\n",
        "  cleaning.append(morpheme(data))\n",
        "\n",
        "train_data = cleaning\n",
        "train_data[:10]"
      ],
      "execution_count": 19,
      "outputs": [
        {
          "output_type": "execute_result",
          "data": {
            "text/plain": [
              "['제24회 한뫼이윤재선생 추모 전국 한글사랑 글짓기  그리기 공모전',\n",
              " '월드 슈퍼퀸 슈퍼스타 댄스경연대회',\n",
              " '언택트 마라톤 제21회 순천남승룡마라톤대회',\n",
              " '2022 대한민국최고연설선발중앙회 슬로건 공모전',\n",
              " '제2회 한식 콘텐츠 스토리텔링 공모전',\n",
              " '제5회 스틸에세이 공모전',\n",
              " '제3회 유엔UN참전국가 국기 그리기 공모전',\n",
              " '제18회 화순전국국악대제전',\n",
              " '2021 눈뫼 허웅 선생 추모 한글 사랑 생활 수기’ 공모전',\n",
              " '작업현장 안전 데이터 활용 아이디어 공모전']"
            ]
          },
          "metadata": {},
          "execution_count": 19
        }
      ]
    },
    {
      "cell_type": "code",
      "metadata": {
        "id": "MsdOhOk9RTOW"
      },
      "source": [
        "# 불용어 정의\n",
        "stopwords = ['의','가','이','은','들','는','좀','잘','걍','과','도','를','으로','자','에','와','한','하다']"
      ],
      "execution_count": 20,
      "outputs": []
    },
    {
      "cell_type": "code",
      "metadata": {
        "id": "1dx27GXVSOre"
      },
      "source": [
        "# 형태소 분석기 OKT를 사용한 토큰화 작업 (다소 시간 소요)\n",
        "okt = Okt()\n",
        "\n",
        "tokenized_data = []\n",
        "for sentence in train_data:\n",
        "    tokenized_sentence = okt.morphs(sentence, stem=True) # 토큰화\n",
        "    stopwords_removed_sentence = [word for word in tokenized_sentence if not word in stopwords] # 불용어 제거\n",
        "    tokenized_data.append(stopwords_removed_sentence)"
      ],
      "execution_count": 23,
      "outputs": []
    },
    {
      "cell_type": "code",
      "metadata": {
        "colab": {
          "base_uri": "https://localhost:8080/"
        },
        "id": "l03fx6HpS8Rx",
        "outputId": "802b78e8-c7ac-4a3f-e1bf-823c2a51e260"
      },
      "source": [
        "tokenized_data[:10]"
      ],
      "execution_count": 24,
      "outputs": [
        {
          "output_type": "execute_result",
          "data": {
            "text/plain": [
              "[['제', '24회', '뫼', '이윤재', '선생', '추모', '전국', '한글', '사랑', '글짓기', '그리기', '공모전'],\n",
              " ['월드', '슈퍼', '퀸', '슈퍼스타', '댄스', '경연', '대회'],\n",
              " ['언택트', '마라톤', '제', '21회', '순천', '남승룡', '마라톤', '대회'],\n",
              " ['2022', '대한민국', '최고', '연설', '선발', '중앙회', '슬로건', '공모전'],\n",
              " ['제', '2회', '한식', '콘텐츠', '스토리텔링', '공모전'],\n",
              " ['제', '5회', '스틸', '에세이', '공모전'],\n",
              " ['제', '3회', '유엔', 'UN', '참전', '국가', '국기', '그리기', '공모전'],\n",
              " ['제', '18회', '화순', '전국', '국악', '대', '제전'],\n",
              " ['2021', '눈뫼', '허웅', '선생', '추모', '한글', '사랑', '생활', '수기', '’', '공모전'],\n",
              " ['작업', '현장', '안전', '데이터', '활용', '아이디어', '공모전']]"
            ]
          },
          "metadata": {},
          "execution_count": 24
        }
      ]
    },
    {
      "cell_type": "code",
      "metadata": {
        "id": "NgEYEGjNSSHE"
      },
      "source": [
        "from gensim.models import Word2Vec\n",
        "model = Word2Vec(sentences = tokenized_data, size = 100, window = 5, min_count = 5, workers = 4, sg = 0)"
      ],
      "execution_count": 25,
      "outputs": []
    },
    {
      "cell_type": "code",
      "metadata": {
        "colab": {
          "base_uri": "https://localhost:8080/"
        },
        "id": "p9US2LHzTOww",
        "outputId": "00cc10f0-4553-41cb-a109-cfca3f61d823"
      },
      "source": [
        "model.wv.vectors.shape"
      ],
      "execution_count": 26,
      "outputs": [
        {
          "output_type": "execute_result",
          "data": {
            "text/plain": [
              "(1477, 100)"
            ]
          },
          "metadata": {},
          "execution_count": 26
        }
      ]
    },
    {
      "cell_type": "code",
      "metadata": {
        "colab": {
          "base_uri": "https://localhost:8080/"
        },
        "id": "I5s1dU6vTSGN",
        "outputId": "997a8079-e116-4943-a7f9-f8e2ca5dc680"
      },
      "source": [
        "print(model.wv.most_similar(\"탁구\"))"
      ],
      "execution_count": 27,
      "outputs": [
        {
          "output_type": "stream",
          "name": "stdout",
          "text": [
            "[('볼링', 0.9998054504394531), ('배드민턴', 0.9997981786727905), ('장', 0.9997916221618652), ('장기', 0.999777615070343), ('대', 0.9997641444206238), ('2019', 0.9997498989105225), ('배구', 0.9997379779815674), ('구', 0.9997300505638123), ('클럽', 0.9997285604476929), ('오픈', 0.9997276067733765)]\n"
          ]
        }
      ]
    },
    {
      "cell_type": "code",
      "metadata": {
        "id": "snd8BgEMTTrE"
      },
      "source": [
        "model.save(path+\"pms.bin\")"
      ],
      "execution_count": 28,
      "outputs": []
    },
    {
      "cell_type": "code",
      "metadata": {
        "id": "m_tDFwMxUVEm"
      },
      "source": [
        "import gensim\n",
        "\n",
        "model = gensim.models.Word2Vec.load(path+\"ko.bin\")\n",
        "model.wv.save_word2vec_format(path+\"ko.bin.gz\", binary=False)"
      ],
      "execution_count": 30,
      "outputs": []
    },
    {
      "cell_type": "code",
      "metadata": {
        "colab": {
          "base_uri": "https://localhost:8080/"
        },
        "id": "Sh_PSHEDVH8E",
        "outputId": "6afb9545-0ec0-4b73-ad37-53bdf77a6a59"
      },
      "source": [
        "from gensim.models import Word2Vec, KeyedVectors\n",
        "\n",
        "model_2 = Word2Vec(size=200, min_count=1)\n",
        "model_2.build_vocab(tokenized_data)\n",
        "total_examples = model_2.corpus_count\n",
        "print(total_examples)"
      ],
      "execution_count": 34,
      "outputs": [
        {
          "output_type": "stream",
          "name": "stdout",
          "text": [
            "7284\n"
          ]
        }
      ]
    },
    {
      "cell_type": "code",
      "metadata": {
        "id": "gIXd5mfAVJ3V"
      },
      "source": [
        "model_2.build_vocab([list(model.wv.vocab.keys())], update=True)\n",
        "model_2.intersect_word2vec_format(path+\"ko.bin.gz\", binary=False)"
      ],
      "execution_count": 36,
      "outputs": []
    },
    {
      "cell_type": "code",
      "metadata": {
        "colab": {
          "base_uri": "https://localhost:8080/"
        },
        "id": "L1zQwX11VerX",
        "outputId": "dde9e7ec-825e-4899-c1c6-a6db420379fa"
      },
      "source": [
        "model_2.train(tokenized_data, total_examples=total_examples, epochs=model_2.iter)"
      ],
      "execution_count": 37,
      "outputs": [
        {
          "output_type": "stream",
          "name": "stderr",
          "text": [
            "/usr/local/lib/python3.7/dist-packages/ipykernel_launcher.py:1: DeprecationWarning: Call to deprecated `iter` (Attribute will be removed in 4.0.0, use self.epochs instead).\n",
            "  \"\"\"Entry point for launching an IPython kernel.\n"
          ]
        },
        {
          "output_type": "execute_result",
          "data": {
            "text/plain": [
              "(262685, 271455)"
            ]
          },
          "metadata": {},
          "execution_count": 37
        }
      ]
    },
    {
      "cell_type": "code",
      "metadata": {
        "colab": {
          "base_uri": "https://localhost:8080/"
        },
        "id": "TPQ_RwsAVrVv",
        "outputId": "9660bf84-24b0-460b-c951-dbebbb38bc6d"
      },
      "source": [
        "model_2.most_similar(\"탁구\")"
      ],
      "execution_count": 38,
      "outputs": [
        {
          "output_type": "stream",
          "name": "stderr",
          "text": [
            "/usr/local/lib/python3.7/dist-packages/ipykernel_launcher.py:1: DeprecationWarning: Call to deprecated `most_similar` (Method will be removed in 4.0.0, use self.wv.most_similar() instead).\n",
            "  \"\"\"Entry point for launching an IPython kernel.\n"
          ]
        },
        {
          "output_type": "execute_result",
          "data": {
            "text/plain": [
              "[('배구', 0.8331664800643921),\n",
              " ('배드민턴', 0.7878385782241821),\n",
              " ('핸드볼', 0.7865797281265259),\n",
              " ('권투', 0.7642523050308228),\n",
              " ('테니스', 0.7610983848571777),\n",
              " ('양궁', 0.7551153302192688),\n",
              " ('스쿼시', 0.7535832524299622),\n",
              " ('펜싱', 0.7437219619750977),\n",
              " ('농구', 0.7434035539627075),\n",
              " ('복싱', 0.7339618802070618)]"
            ]
          },
          "metadata": {},
          "execution_count": 38
        }
      ]
    },
    {
      "cell_type": "code",
      "metadata": {
        "colab": {
          "base_uri": "https://localhost:8080/"
        },
        "id": "OikvNZOPVurD",
        "outputId": "c5a2e7b8-0dd7-40f0-fd68-38398495be63"
      },
      "source": [
        "len(model_2.wv.vocab)"
      ],
      "execution_count": 39,
      "outputs": [
        {
          "output_type": "execute_result",
          "data": {
            "text/plain": [
              "33713"
            ]
          },
          "metadata": {},
          "execution_count": 39
        }
      ]
    },
    {
      "cell_type": "code",
      "metadata": {
        "id": "E-mE7QEgV6Fs"
      },
      "source": [
        "model_2.save(path+\"ko_new.bin\")"
      ],
      "execution_count": 40,
      "outputs": []
    }
  ]
}