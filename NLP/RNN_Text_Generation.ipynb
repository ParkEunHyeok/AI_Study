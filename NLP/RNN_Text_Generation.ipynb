{
  "nbformat": 4,
  "nbformat_minor": 0,
  "metadata": {
    "colab": {
      "name": "RNN_Text_Generation.ipynb",
      "provenance": [],
      "collapsed_sections": [],
      "authorship_tag": "ABX9TyNn/Th8BpWapQyI6BTLl2TB",
      "include_colab_link": true
    },
    "kernelspec": {
      "name": "python3",
      "display_name": "Python 3"
    },
    "language_info": {
      "name": "python"
    },
    "accelerator": "GPU"
  },
  "cells": [
    {
      "cell_type": "markdown",
      "metadata": {
        "id": "view-in-github",
        "colab_type": "text"
      },
      "source": [
        "<a href=\"https://colab.research.google.com/github/ParkEunHyeok/AI_Study/blob/main/NLP/RNN_Text_Generation.ipynb\" target=\"_parent\"><img src=\"https://colab.research.google.com/assets/colab-badge.svg\" alt=\"Open In Colab\"/></a>"
      ]
    },
    {
      "cell_type": "code",
      "metadata": {
        "id": "h9hOcA-Yu6MJ"
      },
      "source": [
        "from tensorflow.keras.preprocessing.text import Tokenizer\n",
        "from tensorflow.keras.preprocessing.sequence import pad_sequences\n",
        "import numpy as np\n",
        "from tensorflow.keras.utils import to_categorical"
      ],
      "execution_count": 1,
      "outputs": []
    },
    {
      "cell_type": "code",
      "metadata": {
        "id": "jOFrqAc6vHJx"
      },
      "source": [
        "text=\"\"\"경마장에 있는 말이 뛰고 있다\\n\n",
        "그의 말이 법이다\\n\n",
        "가는 말이 고와야 오는 말이 곱다\\n\"\"\""
      ],
      "execution_count": 2,
      "outputs": []
    },
    {
      "cell_type": "code",
      "metadata": {
        "colab": {
          "base_uri": "https://localhost:8080/"
        },
        "id": "kglMlnEMvHa2",
        "outputId": "145df68e-f441-45f8-912a-c2ef847b481d"
      },
      "source": [
        "t = Tokenizer()\n",
        "t.fit_on_texts([text])\n",
        "vocab_size = len(t.word_index) + 1\n",
        "# 케라스 토크나이저의 정수 인코딩은 인덱스가 1부터 시작하지만,\n",
        "# 케라스 원-핫 인코딩에서 배열의 인덱스가 0부터 시작하기 때문에\n",
        "# 배열의 크기를 실제 단어 집합의 크기보다 +1로 생성해야하므로 미리 +1 선언 \n",
        "print('단어 집합의 크기 : %d' % vocab_size)"
      ],
      "execution_count": 3,
      "outputs": [
        {
          "output_type": "stream",
          "name": "stdout",
          "text": [
            "단어 집합의 크기 : 12\n"
          ]
        }
      ]
    },
    {
      "cell_type": "code",
      "metadata": {
        "colab": {
          "base_uri": "https://localhost:8080/"
        },
        "id": "xxmb9PrfvHoY",
        "outputId": "0d5f860d-4591-46aa-f608-6bf93c85fb92"
      },
      "source": [
        "print(t.word_index)"
      ],
      "execution_count": 4,
      "outputs": [
        {
          "output_type": "stream",
          "name": "stdout",
          "text": [
            "{'말이': 1, '경마장에': 2, '있는': 3, '뛰고': 4, '있다': 5, '그의': 6, '법이다': 7, '가는': 8, '고와야': 9, '오는': 10, '곱다': 11}\n"
          ]
        }
      ]
    },
    {
      "cell_type": "code",
      "metadata": {
        "colab": {
          "base_uri": "https://localhost:8080/"
        },
        "id": "AWpQR3J9vH3D",
        "outputId": "e08c453d-b706-43be-ee90-b3400eddf79f"
      },
      "source": [
        "sequences = list()\n",
        "for line in text.split('\\n'):\n",
        "  encoded = t.texts_to_sequences([line])[0]\n",
        "  for i in range(1, len(encoded)):\n",
        "    sequence = encoded[:i+1]\n",
        "    sequences.append(sequence)\n",
        "\n",
        "print('sample n : %d' % len(sequences))"
      ],
      "execution_count": 5,
      "outputs": [
        {
          "output_type": "stream",
          "name": "stdout",
          "text": [
            "sample n : 11\n"
          ]
        }
      ]
    },
    {
      "cell_type": "code",
      "metadata": {
        "colab": {
          "base_uri": "https://localhost:8080/"
        },
        "id": "d-JDqDlLvRPc",
        "outputId": "34c9013b-4ef3-4428-a3a5-9a4dfe6ffcf6"
      },
      "source": [
        "print(sequences)"
      ],
      "execution_count": 6,
      "outputs": [
        {
          "output_type": "stream",
          "name": "stdout",
          "text": [
            "[[2, 3], [2, 3, 1], [2, 3, 1, 4], [2, 3, 1, 4, 5], [6, 1], [6, 1, 7], [8, 1], [8, 1, 9], [8, 1, 9, 10], [8, 1, 9, 10, 1], [8, 1, 9, 10, 1, 11]]\n"
          ]
        }
      ]
    },
    {
      "cell_type": "code",
      "metadata": {
        "colab": {
          "base_uri": "https://localhost:8080/"
        },
        "id": "ylR5TWZpvRe6",
        "outputId": "32193503-8d4d-470d-bce0-bde2b9241abd"
      },
      "source": [
        "max_len = max(len(l) for l in sequences)\n",
        "print('max sample length : {}'.format(max_len))"
      ],
      "execution_count": 7,
      "outputs": [
        {
          "output_type": "stream",
          "name": "stdout",
          "text": [
            "max sample length : 6\n"
          ]
        }
      ]
    },
    {
      "cell_type": "code",
      "metadata": {
        "id": "st5J78HRvRqo"
      },
      "source": [
        "sequences = pad_sequences(sequences, maxlen=max_len, padding='pre')"
      ],
      "execution_count": 8,
      "outputs": []
    },
    {
      "cell_type": "code",
      "metadata": {
        "colab": {
          "base_uri": "https://localhost:8080/"
        },
        "id": "4kQEa0AnvR4-",
        "outputId": "04a2ef04-f2d2-4218-9893-0e2b4339d725"
      },
      "source": [
        "print(sequences)"
      ],
      "execution_count": 9,
      "outputs": [
        {
          "output_type": "stream",
          "name": "stdout",
          "text": [
            "[[ 0  0  0  0  2  3]\n",
            " [ 0  0  0  2  3  1]\n",
            " [ 0  0  2  3  1  4]\n",
            " [ 0  2  3  1  4  5]\n",
            " [ 0  0  0  0  6  1]\n",
            " [ 0  0  0  6  1  7]\n",
            " [ 0  0  0  0  8  1]\n",
            " [ 0  0  0  8  1  9]\n",
            " [ 0  0  8  1  9 10]\n",
            " [ 0  8  1  9 10  1]\n",
            " [ 8  1  9 10  1 11]]\n"
          ]
        }
      ]
    },
    {
      "cell_type": "code",
      "metadata": {
        "id": "IEdlrOlRwhUo"
      },
      "source": [
        "sequences = np.array(sequences)\n",
        "X = sequences[:,:-1]\n",
        "y = sequences[:, -1]"
      ],
      "execution_count": 10,
      "outputs": []
    },
    {
      "cell_type": "code",
      "metadata": {
        "colab": {
          "base_uri": "https://localhost:8080/"
        },
        "id": "sA7yP51JwvPR",
        "outputId": "3a3acbcb-895d-42f7-8cf9-a343a38f2a3d"
      },
      "source": [
        "print(X)"
      ],
      "execution_count": 11,
      "outputs": [
        {
          "output_type": "stream",
          "name": "stdout",
          "text": [
            "[[ 0  0  0  0  2]\n",
            " [ 0  0  0  2  3]\n",
            " [ 0  0  2  3  1]\n",
            " [ 0  2  3  1  4]\n",
            " [ 0  0  0  0  6]\n",
            " [ 0  0  0  6  1]\n",
            " [ 0  0  0  0  8]\n",
            " [ 0  0  0  8  1]\n",
            " [ 0  0  8  1  9]\n",
            " [ 0  8  1  9 10]\n",
            " [ 8  1  9 10  1]]\n"
          ]
        }
      ]
    },
    {
      "cell_type": "code",
      "metadata": {
        "colab": {
          "base_uri": "https://localhost:8080/"
        },
        "id": "lnkk5O4kwxzH",
        "outputId": "4eed6a18-cee3-46a3-fd23-6191ce9dd941"
      },
      "source": [
        "print(y)"
      ],
      "execution_count": 12,
      "outputs": [
        {
          "output_type": "stream",
          "name": "stdout",
          "text": [
            "[ 3  1  4  5  1  7  1  9 10  1 11]\n"
          ]
        }
      ]
    },
    {
      "cell_type": "code",
      "metadata": {
        "id": "avAJtQo0w6Mi"
      },
      "source": [
        "y = to_categorical(y, num_classes=vocab_size)"
      ],
      "execution_count": 13,
      "outputs": []
    },
    {
      "cell_type": "code",
      "metadata": {
        "colab": {
          "base_uri": "https://localhost:8080/"
        },
        "id": "3k3Oe83dziQi",
        "outputId": "4acfd1e8-2a2c-4754-9ca1-ca8296ae4fa0"
      },
      "source": [
        "print(y)"
      ],
      "execution_count": 14,
      "outputs": [
        {
          "output_type": "stream",
          "name": "stdout",
          "text": [
            "[[0. 0. 0. 1. 0. 0. 0. 0. 0. 0. 0. 0.]\n",
            " [0. 1. 0. 0. 0. 0. 0. 0. 0. 0. 0. 0.]\n",
            " [0. 0. 0. 0. 1. 0. 0. 0. 0. 0. 0. 0.]\n",
            " [0. 0. 0. 0. 0. 1. 0. 0. 0. 0. 0. 0.]\n",
            " [0. 1. 0. 0. 0. 0. 0. 0. 0. 0. 0. 0.]\n",
            " [0. 0. 0. 0. 0. 0. 0. 1. 0. 0. 0. 0.]\n",
            " [0. 1. 0. 0. 0. 0. 0. 0. 0. 0. 0. 0.]\n",
            " [0. 0. 0. 0. 0. 0. 0. 0. 0. 1. 0. 0.]\n",
            " [0. 0. 0. 0. 0. 0. 0. 0. 0. 0. 1. 0.]\n",
            " [0. 1. 0. 0. 0. 0. 0. 0. 0. 0. 0. 0.]\n",
            " [0. 0. 0. 0. 0. 0. 0. 0. 0. 0. 0. 1.]]\n"
          ]
        }
      ]
    },
    {
      "cell_type": "code",
      "metadata": {
        "id": "IMk0GBwOttrO"
      },
      "source": [
        "from tensorflow.keras.models import Sequential\n",
        "from tensorflow.keras.layers import Embedding, Dense, SimpleRNN"
      ],
      "execution_count": 15,
      "outputs": []
    },
    {
      "cell_type": "code",
      "metadata": {
        "colab": {
          "base_uri": "https://localhost:8080/"
        },
        "id": "uf09WBsWuYx5",
        "outputId": "a582799e-ce22-4a61-9fa9-5d5dad25a965"
      },
      "source": [
        "model = Sequential()\n",
        "model.add(Embedding(vocab_size, 10, input_length=max_len-1))\n",
        "model.add(SimpleRNN(32))\n",
        "model.add(Dense(vocab_size, activation='softmax'))\n",
        "model.compile(loss='categorical_crossentropy', optimizer='adam', metrics=['accuracy'])\n",
        "model.fit(X, y, epochs=200, verbose=2)"
      ],
      "execution_count": 16,
      "outputs": [
        {
          "output_type": "stream",
          "name": "stdout",
          "text": [
            "Epoch 1/200\n",
            "1/1 - 3s - loss: 2.4914 - accuracy: 0.0000e+00\n",
            "Epoch 2/200\n",
            "1/1 - 0s - loss: 2.4788 - accuracy: 0.0000e+00\n",
            "Epoch 3/200\n",
            "1/1 - 0s - loss: 2.4661 - accuracy: 0.0000e+00\n",
            "Epoch 4/200\n",
            "1/1 - 0s - loss: 2.4534 - accuracy: 0.0000e+00\n",
            "Epoch 5/200\n",
            "1/1 - 0s - loss: 2.4405 - accuracy: 0.2727\n",
            "Epoch 6/200\n",
            "1/1 - 0s - loss: 2.4273 - accuracy: 0.3636\n",
            "Epoch 7/200\n",
            "1/1 - 0s - loss: 2.4137 - accuracy: 0.4545\n",
            "Epoch 8/200\n",
            "1/1 - 0s - loss: 2.3997 - accuracy: 0.5455\n",
            "Epoch 9/200\n",
            "1/1 - 0s - loss: 2.3851 - accuracy: 0.5455\n",
            "Epoch 10/200\n",
            "1/1 - 0s - loss: 2.3700 - accuracy: 0.5455\n",
            "Epoch 11/200\n",
            "1/1 - 0s - loss: 2.3542 - accuracy: 0.5455\n",
            "Epoch 12/200\n",
            "1/1 - 0s - loss: 2.3378 - accuracy: 0.5455\n",
            "Epoch 13/200\n",
            "1/1 - 0s - loss: 2.3205 - accuracy: 0.5455\n",
            "Epoch 14/200\n",
            "1/1 - 0s - loss: 2.3024 - accuracy: 0.5455\n",
            "Epoch 15/200\n",
            "1/1 - 0s - loss: 2.2834 - accuracy: 0.5455\n",
            "Epoch 16/200\n",
            "1/1 - 0s - loss: 2.2635 - accuracy: 0.5455\n",
            "Epoch 17/200\n",
            "1/1 - 0s - loss: 2.2426 - accuracy: 0.4545\n",
            "Epoch 18/200\n",
            "1/1 - 0s - loss: 2.2207 - accuracy: 0.3636\n",
            "Epoch 19/200\n",
            "1/1 - 0s - loss: 2.1979 - accuracy: 0.3636\n",
            "Epoch 20/200\n",
            "1/1 - 0s - loss: 2.1741 - accuracy: 0.3636\n",
            "Epoch 21/200\n",
            "1/1 - 0s - loss: 2.1493 - accuracy: 0.3636\n",
            "Epoch 22/200\n",
            "1/1 - 0s - loss: 2.1238 - accuracy: 0.3636\n",
            "Epoch 23/200\n",
            "1/1 - 0s - loss: 2.0975 - accuracy: 0.3636\n",
            "Epoch 24/200\n",
            "1/1 - 0s - loss: 2.0707 - accuracy: 0.3636\n",
            "Epoch 25/200\n",
            "1/1 - 0s - loss: 2.0436 - accuracy: 0.3636\n",
            "Epoch 26/200\n",
            "1/1 - 0s - loss: 2.0163 - accuracy: 0.3636\n",
            "Epoch 27/200\n",
            "1/1 - 0s - loss: 1.9892 - accuracy: 0.3636\n",
            "Epoch 28/200\n",
            "1/1 - 0s - loss: 1.9626 - accuracy: 0.3636\n",
            "Epoch 29/200\n",
            "1/1 - 0s - loss: 1.9368 - accuracy: 0.3636\n",
            "Epoch 30/200\n",
            "1/1 - 0s - loss: 1.9120 - accuracy: 0.3636\n",
            "Epoch 31/200\n",
            "1/1 - 0s - loss: 1.8885 - accuracy: 0.3636\n",
            "Epoch 32/200\n",
            "1/1 - 0s - loss: 1.8664 - accuracy: 0.3636\n",
            "Epoch 33/200\n",
            "1/1 - 0s - loss: 1.8459 - accuracy: 0.3636\n",
            "Epoch 34/200\n",
            "1/1 - 0s - loss: 1.8269 - accuracy: 0.3636\n",
            "Epoch 35/200\n",
            "1/1 - 0s - loss: 1.8093 - accuracy: 0.3636\n",
            "Epoch 36/200\n",
            "1/1 - 0s - loss: 1.7928 - accuracy: 0.3636\n",
            "Epoch 37/200\n",
            "1/1 - 0s - loss: 1.7771 - accuracy: 0.3636\n",
            "Epoch 38/200\n",
            "1/1 - 0s - loss: 1.7620 - accuracy: 0.3636\n",
            "Epoch 39/200\n",
            "1/1 - 0s - loss: 1.7471 - accuracy: 0.3636\n",
            "Epoch 40/200\n",
            "1/1 - 0s - loss: 1.7321 - accuracy: 0.3636\n",
            "Epoch 41/200\n",
            "1/1 - 0s - loss: 1.7169 - accuracy: 0.3636\n",
            "Epoch 42/200\n",
            "1/1 - 0s - loss: 1.7013 - accuracy: 0.3636\n",
            "Epoch 43/200\n",
            "1/1 - 0s - loss: 1.6853 - accuracy: 0.3636\n",
            "Epoch 44/200\n",
            "1/1 - 0s - loss: 1.6690 - accuracy: 0.4545\n",
            "Epoch 45/200\n",
            "1/1 - 0s - loss: 1.6523 - accuracy: 0.4545\n",
            "Epoch 46/200\n",
            "1/1 - 0s - loss: 1.6354 - accuracy: 0.4545\n",
            "Epoch 47/200\n",
            "1/1 - 0s - loss: 1.6183 - accuracy: 0.4545\n",
            "Epoch 48/200\n",
            "1/1 - 0s - loss: 1.6010 - accuracy: 0.4545\n",
            "Epoch 49/200\n",
            "1/1 - 0s - loss: 1.5837 - accuracy: 0.4545\n",
            "Epoch 50/200\n",
            "1/1 - 0s - loss: 1.5661 - accuracy: 0.4545\n",
            "Epoch 51/200\n",
            "1/1 - 0s - loss: 1.5485 - accuracy: 0.4545\n",
            "Epoch 52/200\n",
            "1/1 - 0s - loss: 1.5307 - accuracy: 0.4545\n",
            "Epoch 53/200\n",
            "1/1 - 0s - loss: 1.5126 - accuracy: 0.4545\n",
            "Epoch 54/200\n",
            "1/1 - 0s - loss: 1.4944 - accuracy: 0.5455\n",
            "Epoch 55/200\n",
            "1/1 - 0s - loss: 1.4759 - accuracy: 0.5455\n",
            "Epoch 56/200\n",
            "1/1 - 0s - loss: 1.4572 - accuracy: 0.5455\n",
            "Epoch 57/200\n",
            "1/1 - 0s - loss: 1.4384 - accuracy: 0.5455\n",
            "Epoch 58/200\n",
            "1/1 - 0s - loss: 1.4194 - accuracy: 0.5455\n",
            "Epoch 59/200\n",
            "1/1 - 0s - loss: 1.4004 - accuracy: 0.5455\n",
            "Epoch 60/200\n",
            "1/1 - 0s - loss: 1.3814 - accuracy: 0.5455\n",
            "Epoch 61/200\n",
            "1/1 - 0s - loss: 1.3625 - accuracy: 0.5455\n",
            "Epoch 62/200\n",
            "1/1 - 0s - loss: 1.3437 - accuracy: 0.5455\n",
            "Epoch 63/200\n",
            "1/1 - 0s - loss: 1.3250 - accuracy: 0.5455\n",
            "Epoch 64/200\n",
            "1/1 - 0s - loss: 1.3064 - accuracy: 0.5455\n",
            "Epoch 65/200\n",
            "1/1 - 0s - loss: 1.2879 - accuracy: 0.5455\n",
            "Epoch 66/200\n",
            "1/1 - 0s - loss: 1.2695 - accuracy: 0.5455\n",
            "Epoch 67/200\n",
            "1/1 - 0s - loss: 1.2512 - accuracy: 0.5455\n",
            "Epoch 68/200\n",
            "1/1 - 0s - loss: 1.2330 - accuracy: 0.5455\n",
            "Epoch 69/200\n",
            "1/1 - 0s - loss: 1.2149 - accuracy: 0.5455\n",
            "Epoch 70/200\n",
            "1/1 - 0s - loss: 1.1968 - accuracy: 0.5455\n",
            "Epoch 71/200\n",
            "1/1 - 0s - loss: 1.1789 - accuracy: 0.5455\n",
            "Epoch 72/200\n",
            "1/1 - 0s - loss: 1.1611 - accuracy: 0.5455\n",
            "Epoch 73/200\n",
            "1/1 - 0s - loss: 1.1435 - accuracy: 0.5455\n",
            "Epoch 74/200\n",
            "1/1 - 0s - loss: 1.1261 - accuracy: 0.5455\n",
            "Epoch 75/200\n",
            "1/1 - 0s - loss: 1.1088 - accuracy: 0.7273\n",
            "Epoch 76/200\n",
            "1/1 - 0s - loss: 1.0917 - accuracy: 0.7273\n",
            "Epoch 77/200\n",
            "1/1 - 0s - loss: 1.0749 - accuracy: 0.7273\n",
            "Epoch 78/200\n",
            "1/1 - 0s - loss: 1.0581 - accuracy: 0.7273\n",
            "Epoch 79/200\n",
            "1/1 - 0s - loss: 1.0416 - accuracy: 0.7273\n",
            "Epoch 80/200\n",
            "1/1 - 0s - loss: 1.0253 - accuracy: 0.7273\n",
            "Epoch 81/200\n",
            "1/1 - 0s - loss: 1.0091 - accuracy: 0.7273\n",
            "Epoch 82/200\n",
            "1/1 - 0s - loss: 0.9931 - accuracy: 0.7273\n",
            "Epoch 83/200\n",
            "1/1 - 0s - loss: 0.9772 - accuracy: 0.7273\n",
            "Epoch 84/200\n",
            "1/1 - 0s - loss: 0.9616 - accuracy: 0.7273\n",
            "Epoch 85/200\n",
            "1/1 - 0s - loss: 0.9462 - accuracy: 0.7273\n",
            "Epoch 86/200\n",
            "1/1 - 0s - loss: 0.9310 - accuracy: 0.7273\n",
            "Epoch 87/200\n",
            "1/1 - 0s - loss: 0.9160 - accuracy: 0.7273\n",
            "Epoch 88/200\n",
            "1/1 - 0s - loss: 0.9012 - accuracy: 0.7273\n",
            "Epoch 89/200\n",
            "1/1 - 0s - loss: 0.8866 - accuracy: 0.7273\n",
            "Epoch 90/200\n",
            "1/1 - 0s - loss: 0.8722 - accuracy: 0.7273\n",
            "Epoch 91/200\n",
            "1/1 - 0s - loss: 0.8580 - accuracy: 0.7273\n",
            "Epoch 92/200\n",
            "1/1 - 0s - loss: 0.8440 - accuracy: 0.7273\n",
            "Epoch 93/200\n",
            "1/1 - 0s - loss: 0.8302 - accuracy: 0.7273\n",
            "Epoch 94/200\n",
            "1/1 - 0s - loss: 0.8166 - accuracy: 0.7273\n",
            "Epoch 95/200\n",
            "1/1 - 0s - loss: 0.8032 - accuracy: 0.7273\n",
            "Epoch 96/200\n",
            "1/1 - 0s - loss: 0.7900 - accuracy: 0.8182\n",
            "Epoch 97/200\n",
            "1/1 - 0s - loss: 0.7770 - accuracy: 0.8182\n",
            "Epoch 98/200\n",
            "1/1 - 0s - loss: 0.7641 - accuracy: 0.8182\n",
            "Epoch 99/200\n",
            "1/1 - 0s - loss: 0.7515 - accuracy: 0.8182\n",
            "Epoch 100/200\n",
            "1/1 - 0s - loss: 0.7390 - accuracy: 0.8182\n",
            "Epoch 101/200\n",
            "1/1 - 0s - loss: 0.7268 - accuracy: 0.8182\n",
            "Epoch 102/200\n",
            "1/1 - 0s - loss: 0.7147 - accuracy: 0.8182\n",
            "Epoch 103/200\n",
            "1/1 - 0s - loss: 0.7028 - accuracy: 0.8182\n",
            "Epoch 104/200\n",
            "1/1 - 0s - loss: 0.6911 - accuracy: 0.8182\n",
            "Epoch 105/200\n",
            "1/1 - 0s - loss: 0.6795 - accuracy: 0.8182\n",
            "Epoch 106/200\n",
            "1/1 - 0s - loss: 0.6682 - accuracy: 0.8182\n",
            "Epoch 107/200\n",
            "1/1 - 0s - loss: 0.6570 - accuracy: 0.8182\n",
            "Epoch 108/200\n",
            "1/1 - 0s - loss: 0.6460 - accuracy: 0.8182\n",
            "Epoch 109/200\n",
            "1/1 - 0s - loss: 0.6352 - accuracy: 0.8182\n",
            "Epoch 110/200\n",
            "1/1 - 0s - loss: 0.6246 - accuracy: 0.8182\n",
            "Epoch 111/200\n",
            "1/1 - 0s - loss: 0.6142 - accuracy: 0.8182\n",
            "Epoch 112/200\n",
            "1/1 - 0s - loss: 0.6039 - accuracy: 0.9091\n",
            "Epoch 113/200\n",
            "1/1 - 0s - loss: 0.5939 - accuracy: 0.9091\n",
            "Epoch 114/200\n",
            "1/1 - 0s - loss: 0.5840 - accuracy: 0.9091\n",
            "Epoch 115/200\n",
            "1/1 - 0s - loss: 0.5743 - accuracy: 0.9091\n",
            "Epoch 116/200\n",
            "1/1 - 0s - loss: 0.5649 - accuracy: 0.9091\n",
            "Epoch 117/200\n",
            "1/1 - 0s - loss: 0.5556 - accuracy: 0.9091\n",
            "Epoch 118/200\n",
            "1/1 - 0s - loss: 0.5464 - accuracy: 0.9091\n",
            "Epoch 119/200\n",
            "1/1 - 0s - loss: 0.5375 - accuracy: 0.9091\n",
            "Epoch 120/200\n",
            "1/1 - 0s - loss: 0.5288 - accuracy: 0.9091\n",
            "Epoch 121/200\n",
            "1/1 - 0s - loss: 0.5202 - accuracy: 0.9091\n",
            "Epoch 122/200\n",
            "1/1 - 0s - loss: 0.5118 - accuracy: 0.9091\n",
            "Epoch 123/200\n",
            "1/1 - 0s - loss: 0.5036 - accuracy: 0.9091\n",
            "Epoch 124/200\n",
            "1/1 - 0s - loss: 0.4956 - accuracy: 0.9091\n",
            "Epoch 125/200\n",
            "1/1 - 0s - loss: 0.4877 - accuracy: 0.9091\n",
            "Epoch 126/200\n",
            "1/1 - 0s - loss: 0.4801 - accuracy: 0.9091\n",
            "Epoch 127/200\n",
            "1/1 - 0s - loss: 0.4725 - accuracy: 0.9091\n",
            "Epoch 128/200\n",
            "1/1 - 0s - loss: 0.4652 - accuracy: 0.9091\n",
            "Epoch 129/200\n",
            "1/1 - 0s - loss: 0.4580 - accuracy: 0.9091\n",
            "Epoch 130/200\n",
            "1/1 - 0s - loss: 0.4509 - accuracy: 0.9091\n",
            "Epoch 131/200\n",
            "1/1 - 0s - loss: 0.4440 - accuracy: 0.9091\n",
            "Epoch 132/200\n",
            "1/1 - 0s - loss: 0.4373 - accuracy: 0.9091\n",
            "Epoch 133/200\n",
            "1/1 - 0s - loss: 0.4307 - accuracy: 0.9091\n",
            "Epoch 134/200\n",
            "1/1 - 0s - loss: 0.4242 - accuracy: 0.9091\n",
            "Epoch 135/200\n",
            "1/1 - 0s - loss: 0.4178 - accuracy: 0.9091\n",
            "Epoch 136/200\n",
            "1/1 - 0s - loss: 0.4116 - accuracy: 0.9091\n",
            "Epoch 137/200\n",
            "1/1 - 0s - loss: 0.4055 - accuracy: 0.9091\n",
            "Epoch 138/200\n",
            "1/1 - 0s - loss: 0.3995 - accuracy: 0.9091\n",
            "Epoch 139/200\n",
            "1/1 - 0s - loss: 0.3937 - accuracy: 0.9091\n",
            "Epoch 140/200\n",
            "1/1 - 0s - loss: 0.3879 - accuracy: 0.9091\n",
            "Epoch 141/200\n",
            "1/1 - 0s - loss: 0.3823 - accuracy: 0.9091\n",
            "Epoch 142/200\n",
            "1/1 - 0s - loss: 0.3767 - accuracy: 0.9091\n",
            "Epoch 143/200\n",
            "1/1 - 0s - loss: 0.3713 - accuracy: 0.9091\n",
            "Epoch 144/200\n",
            "1/1 - 0s - loss: 0.3659 - accuracy: 0.9091\n",
            "Epoch 145/200\n",
            "1/1 - 0s - loss: 0.3607 - accuracy: 0.9091\n",
            "Epoch 146/200\n",
            "1/1 - 0s - loss: 0.3555 - accuracy: 0.9091\n",
            "Epoch 147/200\n",
            "1/1 - 0s - loss: 0.3504 - accuracy: 0.9091\n",
            "Epoch 148/200\n",
            "1/1 - 0s - loss: 0.3454 - accuracy: 0.9091\n",
            "Epoch 149/200\n",
            "1/1 - 0s - loss: 0.3405 - accuracy: 0.9091\n",
            "Epoch 150/200\n",
            "1/1 - 0s - loss: 0.3356 - accuracy: 0.9091\n",
            "Epoch 151/200\n",
            "1/1 - 0s - loss: 0.3309 - accuracy: 0.9091\n",
            "Epoch 152/200\n",
            "1/1 - 0s - loss: 0.3262 - accuracy: 0.9091\n",
            "Epoch 153/200\n",
            "1/1 - 0s - loss: 0.3215 - accuracy: 0.9091\n",
            "Epoch 154/200\n",
            "1/1 - 0s - loss: 0.3170 - accuracy: 0.9091\n",
            "Epoch 155/200\n",
            "1/1 - 0s - loss: 0.3125 - accuracy: 0.9091\n",
            "Epoch 156/200\n",
            "1/1 - 0s - loss: 0.3080 - accuracy: 0.9091\n",
            "Epoch 157/200\n",
            "1/1 - 0s - loss: 0.3036 - accuracy: 0.9091\n",
            "Epoch 158/200\n",
            "1/1 - 0s - loss: 0.2993 - accuracy: 0.9091\n",
            "Epoch 159/200\n",
            "1/1 - 0s - loss: 0.2951 - accuracy: 0.9091\n",
            "Epoch 160/200\n",
            "1/1 - 0s - loss: 0.2909 - accuracy: 0.9091\n",
            "Epoch 161/200\n",
            "1/1 - 0s - loss: 0.2867 - accuracy: 0.9091\n",
            "Epoch 162/200\n",
            "1/1 - 0s - loss: 0.2826 - accuracy: 0.9091\n",
            "Epoch 163/200\n",
            "1/1 - 0s - loss: 0.2786 - accuracy: 0.9091\n",
            "Epoch 164/200\n",
            "1/1 - 0s - loss: 0.2746 - accuracy: 0.9091\n",
            "Epoch 165/200\n",
            "1/1 - 0s - loss: 0.2707 - accuracy: 0.9091\n",
            "Epoch 166/200\n",
            "1/1 - 0s - loss: 0.2668 - accuracy: 0.9091\n",
            "Epoch 167/200\n",
            "1/1 - 0s - loss: 0.2630 - accuracy: 0.9091\n",
            "Epoch 168/200\n",
            "1/1 - 0s - loss: 0.2592 - accuracy: 0.9091\n",
            "Epoch 169/200\n",
            "1/1 - 0s - loss: 0.2555 - accuracy: 0.9091\n",
            "Epoch 170/200\n",
            "1/1 - 0s - loss: 0.2518 - accuracy: 0.9091\n",
            "Epoch 171/200\n",
            "1/1 - 0s - loss: 0.2482 - accuracy: 0.9091\n",
            "Epoch 172/200\n",
            "1/1 - 0s - loss: 0.2446 - accuracy: 0.9091\n",
            "Epoch 173/200\n",
            "1/1 - 0s - loss: 0.2411 - accuracy: 0.9091\n",
            "Epoch 174/200\n",
            "1/1 - 0s - loss: 0.2376 - accuracy: 0.9091\n",
            "Epoch 175/200\n",
            "1/1 - 0s - loss: 0.2342 - accuracy: 0.9091\n",
            "Epoch 176/200\n",
            "1/1 - 0s - loss: 0.2308 - accuracy: 0.9091\n",
            "Epoch 177/200\n",
            "1/1 - 0s - loss: 0.2275 - accuracy: 0.9091\n",
            "Epoch 178/200\n",
            "1/1 - 0s - loss: 0.2242 - accuracy: 0.9091\n",
            "Epoch 179/200\n",
            "1/1 - 0s - loss: 0.2210 - accuracy: 0.9091\n",
            "Epoch 180/200\n",
            "1/1 - 0s - loss: 0.2178 - accuracy: 0.9091\n",
            "Epoch 181/200\n",
            "1/1 - 0s - loss: 0.2147 - accuracy: 0.9091\n",
            "Epoch 182/200\n",
            "1/1 - 0s - loss: 0.2116 - accuracy: 0.9091\n",
            "Epoch 183/200\n",
            "1/1 - 0s - loss: 0.2085 - accuracy: 0.9091\n",
            "Epoch 184/200\n",
            "1/1 - 0s - loss: 0.2055 - accuracy: 0.9091\n",
            "Epoch 185/200\n",
            "1/1 - 0s - loss: 0.2025 - accuracy: 0.9091\n",
            "Epoch 186/200\n",
            "1/1 - 0s - loss: 0.1996 - accuracy: 0.9091\n",
            "Epoch 187/200\n",
            "1/1 - 0s - loss: 0.1967 - accuracy: 1.0000\n",
            "Epoch 188/200\n",
            "1/1 - 0s - loss: 0.1939 - accuracy: 1.0000\n",
            "Epoch 189/200\n",
            "1/1 - 0s - loss: 0.1911 - accuracy: 1.0000\n",
            "Epoch 190/200\n",
            "1/1 - 0s - loss: 0.1884 - accuracy: 1.0000\n",
            "Epoch 191/200\n",
            "1/1 - 0s - loss: 0.1857 - accuracy: 1.0000\n",
            "Epoch 192/200\n",
            "1/1 - 0s - loss: 0.1830 - accuracy: 1.0000\n",
            "Epoch 193/200\n",
            "1/1 - 0s - loss: 0.1804 - accuracy: 1.0000\n",
            "Epoch 194/200\n",
            "1/1 - 0s - loss: 0.1778 - accuracy: 1.0000\n",
            "Epoch 195/200\n",
            "1/1 - 0s - loss: 0.1752 - accuracy: 1.0000\n",
            "Epoch 196/200\n",
            "1/1 - 0s - loss: 0.1727 - accuracy: 1.0000\n",
            "Epoch 197/200\n",
            "1/1 - 0s - loss: 0.1703 - accuracy: 1.0000\n",
            "Epoch 198/200\n",
            "1/1 - 0s - loss: 0.1678 - accuracy: 1.0000\n",
            "Epoch 199/200\n",
            "1/1 - 0s - loss: 0.1654 - accuracy: 1.0000\n",
            "Epoch 200/200\n",
            "1/1 - 0s - loss: 0.1631 - accuracy: 1.0000\n"
          ]
        },
        {
          "output_type": "execute_result",
          "data": {
            "text/plain": [
              "<keras.callbacks.History at 0x7f40703c7e90>"
            ]
          },
          "metadata": {},
          "execution_count": 16
        }
      ]
    },
    {
      "cell_type": "code",
      "metadata": {
        "id": "nbdDH_9Gu2ch"
      },
      "source": [
        "def sentence_generation(model, t, current_word, n): # 모델, 토크나이저, 현재 단어, 반복할 횟수\n",
        "    init_word = current_word # 처음 들어온 단어도 마지막에 같이 출력하기위해 저장\n",
        "    sentence = ''\n",
        "    for _ in range(n): # n번 반복\n",
        "        encoded = t.texts_to_sequences([current_word])[0] # 현재 단어에 대한 정수 인코딩\n",
        "        encoded = pad_sequences([encoded], maxlen=5, padding='pre') # 데이터에 대한 패딩\n",
        "        result = model.predict_classes(encoded, verbose=0)\n",
        "    # 입력한 X(현재 단어)에 대해서 Y를 예측하고 Y(예측한 단어)를 result에 저장.\n",
        "        for word, index in t.word_index.items(): \n",
        "            if index == result: # 만약 예측한 단어와 인덱스와 동일한 단어가 있다면\n",
        "                break # 해당 단어가 예측 단어이므로 break\n",
        "        current_word = current_word + ' '  + word # 현재 단어 + ' ' + 예측 단어를 현재 단어로 변경\n",
        "        sentence = sentence + ' ' + word # 예측 단어를 문장에 저장\n",
        "    # for문이므로 이 행동을 다시 반복\n",
        "    sentence = init_word + sentence\n",
        "    return sentence"
      ],
      "execution_count": 23,
      "outputs": []
    },
    {
      "cell_type": "code",
      "metadata": {
        "colab": {
          "base_uri": "https://localhost:8080/",
          "height": 298
        },
        "id": "2xMeRMoi1cah",
        "outputId": "0a63ddee-f9c5-41d1-9fa1-cc382635b95f"
      },
      "source": [
        "print(sentence_generation(model, t, '경마장에', 4))"
      ],
      "execution_count": 26,
      "outputs": [
        {
          "output_type": "error",
          "ename": "AttributeError",
          "evalue": "ignored",
          "traceback": [
            "\u001b[0;31m---------------------------------------------------------------------------\u001b[0m",
            "\u001b[0;31mAttributeError\u001b[0m                            Traceback (most recent call last)",
            "\u001b[0;32m<ipython-input-26-e5317e216b10>\u001b[0m in \u001b[0;36m<module>\u001b[0;34m()\u001b[0m\n\u001b[0;32m----> 1\u001b[0;31m \u001b[0mprint\u001b[0m\u001b[0;34m(\u001b[0m\u001b[0msentence_generation\u001b[0m\u001b[0;34m(\u001b[0m\u001b[0mmodel\u001b[0m\u001b[0;34m,\u001b[0m \u001b[0mt\u001b[0m\u001b[0;34m,\u001b[0m \u001b[0;34m'경마장에'\u001b[0m\u001b[0;34m,\u001b[0m \u001b[0;36m4\u001b[0m\u001b[0;34m)\u001b[0m\u001b[0;34m)\u001b[0m\u001b[0;34m\u001b[0m\u001b[0;34m\u001b[0m\u001b[0m\n\u001b[0m",
            "\u001b[0;32m<ipython-input-23-120ee9dd07f9>\u001b[0m in \u001b[0;36msentence_generation\u001b[0;34m(model, t, current_word, n)\u001b[0m\n\u001b[1;32m      5\u001b[0m         \u001b[0mencoded\u001b[0m \u001b[0;34m=\u001b[0m \u001b[0mt\u001b[0m\u001b[0;34m.\u001b[0m\u001b[0mtexts_to_sequences\u001b[0m\u001b[0;34m(\u001b[0m\u001b[0;34m[\u001b[0m\u001b[0mcurrent_word\u001b[0m\u001b[0;34m]\u001b[0m\u001b[0;34m)\u001b[0m\u001b[0;34m[\u001b[0m\u001b[0;36m0\u001b[0m\u001b[0;34m]\u001b[0m \u001b[0;31m# 현재 단어에 대한 정수 인코딩\u001b[0m\u001b[0;34m\u001b[0m\u001b[0;34m\u001b[0m\u001b[0m\n\u001b[1;32m      6\u001b[0m         \u001b[0mencoded\u001b[0m \u001b[0;34m=\u001b[0m \u001b[0mpad_sequences\u001b[0m\u001b[0;34m(\u001b[0m\u001b[0;34m[\u001b[0m\u001b[0mencoded\u001b[0m\u001b[0;34m]\u001b[0m\u001b[0;34m,\u001b[0m \u001b[0mmaxlen\u001b[0m\u001b[0;34m=\u001b[0m\u001b[0;36m5\u001b[0m\u001b[0;34m,\u001b[0m \u001b[0mpadding\u001b[0m\u001b[0;34m=\u001b[0m\u001b[0;34m'pre'\u001b[0m\u001b[0;34m)\u001b[0m \u001b[0;31m# 데이터에 대한 패딩\u001b[0m\u001b[0;34m\u001b[0m\u001b[0;34m\u001b[0m\u001b[0m\n\u001b[0;32m----> 7\u001b[0;31m         \u001b[0mresult\u001b[0m \u001b[0;34m=\u001b[0m \u001b[0mmodel\u001b[0m\u001b[0;34m.\u001b[0m\u001b[0mpredict_classes\u001b[0m\u001b[0;34m(\u001b[0m\u001b[0mencoded\u001b[0m\u001b[0;34m,\u001b[0m \u001b[0mverbose\u001b[0m\u001b[0;34m=\u001b[0m\u001b[0;36m0\u001b[0m\u001b[0;34m)\u001b[0m\u001b[0;34m\u001b[0m\u001b[0;34m\u001b[0m\u001b[0m\n\u001b[0m\u001b[1;32m      8\u001b[0m     \u001b[0;31m# 입력한 X(현재 단어)에 대해서 Y를 예측하고 Y(예측한 단어)를 result에 저장.\u001b[0m\u001b[0;34m\u001b[0m\u001b[0;34m\u001b[0m\u001b[0;34m\u001b[0m\u001b[0m\n\u001b[1;32m      9\u001b[0m         \u001b[0;32mfor\u001b[0m \u001b[0mword\u001b[0m\u001b[0;34m,\u001b[0m \u001b[0mindex\u001b[0m \u001b[0;32min\u001b[0m \u001b[0mt\u001b[0m\u001b[0;34m.\u001b[0m\u001b[0mword_index\u001b[0m\u001b[0;34m.\u001b[0m\u001b[0mitems\u001b[0m\u001b[0;34m(\u001b[0m\u001b[0;34m)\u001b[0m\u001b[0;34m:\u001b[0m\u001b[0;34m\u001b[0m\u001b[0;34m\u001b[0m\u001b[0m\n",
            "\u001b[0;31mAttributeError\u001b[0m: 'Sequential' object has no attribute 'predict_classes'"
          ]
        }
      ]
    },
    {
      "cell_type": "code",
      "metadata": {
        "id": "4_GJjCt11d6l"
      },
      "source": [
        ""
      ],
      "execution_count": null,
      "outputs": []
    }
  ]
}