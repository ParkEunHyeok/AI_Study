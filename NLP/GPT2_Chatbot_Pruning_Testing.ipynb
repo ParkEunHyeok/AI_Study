{
  "nbformat": 4,
  "nbformat_minor": 0,
  "metadata": {
    "colab": {
      "provenance": [],
      "collapsed_sections": [],
      "machine_shape": "hm",
      "authorship_tag": "ABX9TyPfD5UKcQ9n9IG8Qx91zoQZ",
      "include_colab_link": true
    },
    "kernelspec": {
      "name": "python3",
      "display_name": "Python 3"
    },
    "language_info": {
      "name": "python"
    },
    "accelerator": "GPU",
    "gpuClass": "standard",
    "widgets": {
      "application/vnd.jupyter.widget-state+json": {
        "64d3eb5fc84a41bbaba13c8e3e5ffbd8": {
          "model_module": "@jupyter-widgets/controls",
          "model_name": "HBoxModel",
          "model_module_version": "1.5.0",
          "state": {
            "_dom_classes": [],
            "_model_module": "@jupyter-widgets/controls",
            "_model_module_version": "1.5.0",
            "_model_name": "HBoxModel",
            "_view_count": null,
            "_view_module": "@jupyter-widgets/controls",
            "_view_module_version": "1.5.0",
            "_view_name": "HBoxView",
            "box_style": "",
            "children": [
              "IPY_MODEL_a022fbec578d45a58bfb029343f0e31b",
              "IPY_MODEL_98c5f893f24046998d7e6b28f70ca596",
              "IPY_MODEL_63408f9a1efd402eb4db5a0df3d4fc34"
            ],
            "layout": "IPY_MODEL_cbc35b4028f84e7b8aa733fc13c345d6"
          }
        },
        "a022fbec578d45a58bfb029343f0e31b": {
          "model_module": "@jupyter-widgets/controls",
          "model_name": "HTMLModel",
          "model_module_version": "1.5.0",
          "state": {
            "_dom_classes": [],
            "_model_module": "@jupyter-widgets/controls",
            "_model_module_version": "1.5.0",
            "_model_name": "HTMLModel",
            "_view_count": null,
            "_view_module": "@jupyter-widgets/controls",
            "_view_module_version": "1.5.0",
            "_view_name": "HTMLView",
            "description": "",
            "description_tooltip": null,
            "layout": "IPY_MODEL_664b089857684e98be759bd64503bb6d",
            "placeholder": "​",
            "style": "IPY_MODEL_281fea1c8298482db00c3b1dd16bbea4",
            "value": "Downloading: 100%"
          }
        },
        "98c5f893f24046998d7e6b28f70ca596": {
          "model_module": "@jupyter-widgets/controls",
          "model_name": "FloatProgressModel",
          "model_module_version": "1.5.0",
          "state": {
            "_dom_classes": [],
            "_model_module": "@jupyter-widgets/controls",
            "_model_module_version": "1.5.0",
            "_model_name": "FloatProgressModel",
            "_view_count": null,
            "_view_module": "@jupyter-widgets/controls",
            "_view_module_version": "1.5.0",
            "_view_name": "ProgressView",
            "bar_style": "success",
            "description": "",
            "description_tooltip": null,
            "layout": "IPY_MODEL_4872f00c147b4e73bce599f1123dbb51",
            "max": 577,
            "min": 0,
            "orientation": "horizontal",
            "style": "IPY_MODEL_46baffd410a547bcb9bfe53b25c60d10",
            "value": 577
          }
        },
        "63408f9a1efd402eb4db5a0df3d4fc34": {
          "model_module": "@jupyter-widgets/controls",
          "model_name": "HTMLModel",
          "model_module_version": "1.5.0",
          "state": {
            "_dom_classes": [],
            "_model_module": "@jupyter-widgets/controls",
            "_model_module_version": "1.5.0",
            "_model_name": "HTMLModel",
            "_view_count": null,
            "_view_module": "@jupyter-widgets/controls",
            "_view_module_version": "1.5.0",
            "_view_name": "HTMLView",
            "description": "",
            "description_tooltip": null,
            "layout": "IPY_MODEL_49293350dd964d409efb4619932581aa",
            "placeholder": "​",
            "style": "IPY_MODEL_e4d2c8ccb4c347ca9635b43795cd7a97",
            "value": " 577/577 [00:00&lt;00:00, 11.8kB/s]"
          }
        },
        "cbc35b4028f84e7b8aa733fc13c345d6": {
          "model_module": "@jupyter-widgets/base",
          "model_name": "LayoutModel",
          "model_module_version": "1.2.0",
          "state": {
            "_model_module": "@jupyter-widgets/base",
            "_model_module_version": "1.2.0",
            "_model_name": "LayoutModel",
            "_view_count": null,
            "_view_module": "@jupyter-widgets/base",
            "_view_module_version": "1.2.0",
            "_view_name": "LayoutView",
            "align_content": null,
            "align_items": null,
            "align_self": null,
            "border": null,
            "bottom": null,
            "display": null,
            "flex": null,
            "flex_flow": null,
            "grid_area": null,
            "grid_auto_columns": null,
            "grid_auto_flow": null,
            "grid_auto_rows": null,
            "grid_column": null,
            "grid_gap": null,
            "grid_row": null,
            "grid_template_areas": null,
            "grid_template_columns": null,
            "grid_template_rows": null,
            "height": null,
            "justify_content": null,
            "justify_items": null,
            "left": null,
            "margin": null,
            "max_height": null,
            "max_width": null,
            "min_height": null,
            "min_width": null,
            "object_fit": null,
            "object_position": null,
            "order": null,
            "overflow": null,
            "overflow_x": null,
            "overflow_y": null,
            "padding": null,
            "right": null,
            "top": null,
            "visibility": null,
            "width": null
          }
        },
        "664b089857684e98be759bd64503bb6d": {
          "model_module": "@jupyter-widgets/base",
          "model_name": "LayoutModel",
          "model_module_version": "1.2.0",
          "state": {
            "_model_module": "@jupyter-widgets/base",
            "_model_module_version": "1.2.0",
            "_model_name": "LayoutModel",
            "_view_count": null,
            "_view_module": "@jupyter-widgets/base",
            "_view_module_version": "1.2.0",
            "_view_name": "LayoutView",
            "align_content": null,
            "align_items": null,
            "align_self": null,
            "border": null,
            "bottom": null,
            "display": null,
            "flex": null,
            "flex_flow": null,
            "grid_area": null,
            "grid_auto_columns": null,
            "grid_auto_flow": null,
            "grid_auto_rows": null,
            "grid_column": null,
            "grid_gap": null,
            "grid_row": null,
            "grid_template_areas": null,
            "grid_template_columns": null,
            "grid_template_rows": null,
            "height": null,
            "justify_content": null,
            "justify_items": null,
            "left": null,
            "margin": null,
            "max_height": null,
            "max_width": null,
            "min_height": null,
            "min_width": null,
            "object_fit": null,
            "object_position": null,
            "order": null,
            "overflow": null,
            "overflow_x": null,
            "overflow_y": null,
            "padding": null,
            "right": null,
            "top": null,
            "visibility": null,
            "width": null
          }
        },
        "281fea1c8298482db00c3b1dd16bbea4": {
          "model_module": "@jupyter-widgets/controls",
          "model_name": "DescriptionStyleModel",
          "model_module_version": "1.5.0",
          "state": {
            "_model_module": "@jupyter-widgets/controls",
            "_model_module_version": "1.5.0",
            "_model_name": "DescriptionStyleModel",
            "_view_count": null,
            "_view_module": "@jupyter-widgets/base",
            "_view_module_version": "1.2.0",
            "_view_name": "StyleView",
            "description_width": ""
          }
        },
        "4872f00c147b4e73bce599f1123dbb51": {
          "model_module": "@jupyter-widgets/base",
          "model_name": "LayoutModel",
          "model_module_version": "1.2.0",
          "state": {
            "_model_module": "@jupyter-widgets/base",
            "_model_module_version": "1.2.0",
            "_model_name": "LayoutModel",
            "_view_count": null,
            "_view_module": "@jupyter-widgets/base",
            "_view_module_version": "1.2.0",
            "_view_name": "LayoutView",
            "align_content": null,
            "align_items": null,
            "align_self": null,
            "border": null,
            "bottom": null,
            "display": null,
            "flex": null,
            "flex_flow": null,
            "grid_area": null,
            "grid_auto_columns": null,
            "grid_auto_flow": null,
            "grid_auto_rows": null,
            "grid_column": null,
            "grid_gap": null,
            "grid_row": null,
            "grid_template_areas": null,
            "grid_template_columns": null,
            "grid_template_rows": null,
            "height": null,
            "justify_content": null,
            "justify_items": null,
            "left": null,
            "margin": null,
            "max_height": null,
            "max_width": null,
            "min_height": null,
            "min_width": null,
            "object_fit": null,
            "object_position": null,
            "order": null,
            "overflow": null,
            "overflow_x": null,
            "overflow_y": null,
            "padding": null,
            "right": null,
            "top": null,
            "visibility": null,
            "width": null
          }
        },
        "46baffd410a547bcb9bfe53b25c60d10": {
          "model_module": "@jupyter-widgets/controls",
          "model_name": "ProgressStyleModel",
          "model_module_version": "1.5.0",
          "state": {
            "_model_module": "@jupyter-widgets/controls",
            "_model_module_version": "1.5.0",
            "_model_name": "ProgressStyleModel",
            "_view_count": null,
            "_view_module": "@jupyter-widgets/base",
            "_view_module_version": "1.2.0",
            "_view_name": "StyleView",
            "bar_color": null,
            "description_width": ""
          }
        },
        "49293350dd964d409efb4619932581aa": {
          "model_module": "@jupyter-widgets/base",
          "model_name": "LayoutModel",
          "model_module_version": "1.2.0",
          "state": {
            "_model_module": "@jupyter-widgets/base",
            "_model_module_version": "1.2.0",
            "_model_name": "LayoutModel",
            "_view_count": null,
            "_view_module": "@jupyter-widgets/base",
            "_view_module_version": "1.2.0",
            "_view_name": "LayoutView",
            "align_content": null,
            "align_items": null,
            "align_self": null,
            "border": null,
            "bottom": null,
            "display": null,
            "flex": null,
            "flex_flow": null,
            "grid_area": null,
            "grid_auto_columns": null,
            "grid_auto_flow": null,
            "grid_auto_rows": null,
            "grid_column": null,
            "grid_gap": null,
            "grid_row": null,
            "grid_template_areas": null,
            "grid_template_columns": null,
            "grid_template_rows": null,
            "height": null,
            "justify_content": null,
            "justify_items": null,
            "left": null,
            "margin": null,
            "max_height": null,
            "max_width": null,
            "min_height": null,
            "min_width": null,
            "object_fit": null,
            "object_position": null,
            "order": null,
            "overflow": null,
            "overflow_x": null,
            "overflow_y": null,
            "padding": null,
            "right": null,
            "top": null,
            "visibility": null,
            "width": null
          }
        },
        "e4d2c8ccb4c347ca9635b43795cd7a97": {
          "model_module": "@jupyter-widgets/controls",
          "model_name": "DescriptionStyleModel",
          "model_module_version": "1.5.0",
          "state": {
            "_model_module": "@jupyter-widgets/controls",
            "_model_module_version": "1.5.0",
            "_model_name": "DescriptionStyleModel",
            "_view_count": null,
            "_view_module": "@jupyter-widgets/base",
            "_view_module_version": "1.2.0",
            "_view_name": "StyleView",
            "description_width": ""
          }
        },
        "0e2fe4ba7edb4298a573b3680b52045c": {
          "model_module": "@jupyter-widgets/controls",
          "model_name": "HBoxModel",
          "model_module_version": "1.5.0",
          "state": {
            "_dom_classes": [],
            "_model_module": "@jupyter-widgets/controls",
            "_model_module_version": "1.5.0",
            "_model_name": "HBoxModel",
            "_view_count": null,
            "_view_module": "@jupyter-widgets/controls",
            "_view_module_version": "1.5.0",
            "_view_name": "HBoxView",
            "box_style": "",
            "children": [
              "IPY_MODEL_47b9e2da707246a6938a8217909ab315",
              "IPY_MODEL_3fc511b16abb41bea6122ab9965f84c1",
              "IPY_MODEL_8f9b7ca4c5944d92977837bb5fe5e6ec"
            ],
            "layout": "IPY_MODEL_d51d24f1472f49c0a753bad149ec2cd8"
          }
        },
        "47b9e2da707246a6938a8217909ab315": {
          "model_module": "@jupyter-widgets/controls",
          "model_name": "HTMLModel",
          "model_module_version": "1.5.0",
          "state": {
            "_dom_classes": [],
            "_model_module": "@jupyter-widgets/controls",
            "_model_module_version": "1.5.0",
            "_model_name": "HTMLModel",
            "_view_count": null,
            "_view_module": "@jupyter-widgets/controls",
            "_view_module_version": "1.5.0",
            "_view_name": "HTMLView",
            "description": "",
            "description_tooltip": null,
            "layout": "IPY_MODEL_d55c4b9872384df4a47680a8fefbb108",
            "placeholder": "​",
            "style": "IPY_MODEL_a5f00aaf70714a81b2436436c0019aa8",
            "value": "Downloading: 100%"
          }
        },
        "3fc511b16abb41bea6122ab9965f84c1": {
          "model_module": "@jupyter-widgets/controls",
          "model_name": "FloatProgressModel",
          "model_module_version": "1.5.0",
          "state": {
            "_dom_classes": [],
            "_model_module": "@jupyter-widgets/controls",
            "_model_module_version": "1.5.0",
            "_model_name": "FloatProgressModel",
            "_view_count": null,
            "_view_module": "@jupyter-widgets/controls",
            "_view_module_version": "1.5.0",
            "_view_name": "ProgressView",
            "bar_style": "success",
            "description": "",
            "description_tooltip": null,
            "layout": "IPY_MODEL_4c3bf13ca3b2494a92cc5c3ce3b30578",
            "max": 509586767,
            "min": 0,
            "orientation": "horizontal",
            "style": "IPY_MODEL_6617745746f6413f81f927a4cf951eb6",
            "value": 509586767
          }
        },
        "8f9b7ca4c5944d92977837bb5fe5e6ec": {
          "model_module": "@jupyter-widgets/controls",
          "model_name": "HTMLModel",
          "model_module_version": "1.5.0",
          "state": {
            "_dom_classes": [],
            "_model_module": "@jupyter-widgets/controls",
            "_model_module_version": "1.5.0",
            "_model_name": "HTMLModel",
            "_view_count": null,
            "_view_module": "@jupyter-widgets/controls",
            "_view_module_version": "1.5.0",
            "_view_name": "HTMLView",
            "description": "",
            "description_tooltip": null,
            "layout": "IPY_MODEL_239139e8cfe94ab488ea930cd5fa2e2a",
            "placeholder": "​",
            "style": "IPY_MODEL_f5f8bc4640bd4eb58314b990a26dce9b",
            "value": " 510M/510M [00:08&lt;00:00, 69.6MB/s]"
          }
        },
        "d51d24f1472f49c0a753bad149ec2cd8": {
          "model_module": "@jupyter-widgets/base",
          "model_name": "LayoutModel",
          "model_module_version": "1.2.0",
          "state": {
            "_model_module": "@jupyter-widgets/base",
            "_model_module_version": "1.2.0",
            "_model_name": "LayoutModel",
            "_view_count": null,
            "_view_module": "@jupyter-widgets/base",
            "_view_module_version": "1.2.0",
            "_view_name": "LayoutView",
            "align_content": null,
            "align_items": null,
            "align_self": null,
            "border": null,
            "bottom": null,
            "display": null,
            "flex": null,
            "flex_flow": null,
            "grid_area": null,
            "grid_auto_columns": null,
            "grid_auto_flow": null,
            "grid_auto_rows": null,
            "grid_column": null,
            "grid_gap": null,
            "grid_row": null,
            "grid_template_areas": null,
            "grid_template_columns": null,
            "grid_template_rows": null,
            "height": null,
            "justify_content": null,
            "justify_items": null,
            "left": null,
            "margin": null,
            "max_height": null,
            "max_width": null,
            "min_height": null,
            "min_width": null,
            "object_fit": null,
            "object_position": null,
            "order": null,
            "overflow": null,
            "overflow_x": null,
            "overflow_y": null,
            "padding": null,
            "right": null,
            "top": null,
            "visibility": null,
            "width": null
          }
        },
        "d55c4b9872384df4a47680a8fefbb108": {
          "model_module": "@jupyter-widgets/base",
          "model_name": "LayoutModel",
          "model_module_version": "1.2.0",
          "state": {
            "_model_module": "@jupyter-widgets/base",
            "_model_module_version": "1.2.0",
            "_model_name": "LayoutModel",
            "_view_count": null,
            "_view_module": "@jupyter-widgets/base",
            "_view_module_version": "1.2.0",
            "_view_name": "LayoutView",
            "align_content": null,
            "align_items": null,
            "align_self": null,
            "border": null,
            "bottom": null,
            "display": null,
            "flex": null,
            "flex_flow": null,
            "grid_area": null,
            "grid_auto_columns": null,
            "grid_auto_flow": null,
            "grid_auto_rows": null,
            "grid_column": null,
            "grid_gap": null,
            "grid_row": null,
            "grid_template_areas": null,
            "grid_template_columns": null,
            "grid_template_rows": null,
            "height": null,
            "justify_content": null,
            "justify_items": null,
            "left": null,
            "margin": null,
            "max_height": null,
            "max_width": null,
            "min_height": null,
            "min_width": null,
            "object_fit": null,
            "object_position": null,
            "order": null,
            "overflow": null,
            "overflow_x": null,
            "overflow_y": null,
            "padding": null,
            "right": null,
            "top": null,
            "visibility": null,
            "width": null
          }
        },
        "a5f00aaf70714a81b2436436c0019aa8": {
          "model_module": "@jupyter-widgets/controls",
          "model_name": "DescriptionStyleModel",
          "model_module_version": "1.5.0",
          "state": {
            "_model_module": "@jupyter-widgets/controls",
            "_model_module_version": "1.5.0",
            "_model_name": "DescriptionStyleModel",
            "_view_count": null,
            "_view_module": "@jupyter-widgets/base",
            "_view_module_version": "1.2.0",
            "_view_name": "StyleView",
            "description_width": ""
          }
        },
        "4c3bf13ca3b2494a92cc5c3ce3b30578": {
          "model_module": "@jupyter-widgets/base",
          "model_name": "LayoutModel",
          "model_module_version": "1.2.0",
          "state": {
            "_model_module": "@jupyter-widgets/base",
            "_model_module_version": "1.2.0",
            "_model_name": "LayoutModel",
            "_view_count": null,
            "_view_module": "@jupyter-widgets/base",
            "_view_module_version": "1.2.0",
            "_view_name": "LayoutView",
            "align_content": null,
            "align_items": null,
            "align_self": null,
            "border": null,
            "bottom": null,
            "display": null,
            "flex": null,
            "flex_flow": null,
            "grid_area": null,
            "grid_auto_columns": null,
            "grid_auto_flow": null,
            "grid_auto_rows": null,
            "grid_column": null,
            "grid_gap": null,
            "grid_row": null,
            "grid_template_areas": null,
            "grid_template_columns": null,
            "grid_template_rows": null,
            "height": null,
            "justify_content": null,
            "justify_items": null,
            "left": null,
            "margin": null,
            "max_height": null,
            "max_width": null,
            "min_height": null,
            "min_width": null,
            "object_fit": null,
            "object_position": null,
            "order": null,
            "overflow": null,
            "overflow_x": null,
            "overflow_y": null,
            "padding": null,
            "right": null,
            "top": null,
            "visibility": null,
            "width": null
          }
        },
        "6617745746f6413f81f927a4cf951eb6": {
          "model_module": "@jupyter-widgets/controls",
          "model_name": "ProgressStyleModel",
          "model_module_version": "1.5.0",
          "state": {
            "_model_module": "@jupyter-widgets/controls",
            "_model_module_version": "1.5.0",
            "_model_name": "ProgressStyleModel",
            "_view_count": null,
            "_view_module": "@jupyter-widgets/base",
            "_view_module_version": "1.2.0",
            "_view_name": "StyleView",
            "bar_color": null,
            "description_width": ""
          }
        },
        "239139e8cfe94ab488ea930cd5fa2e2a": {
          "model_module": "@jupyter-widgets/base",
          "model_name": "LayoutModel",
          "model_module_version": "1.2.0",
          "state": {
            "_model_module": "@jupyter-widgets/base",
            "_model_module_version": "1.2.0",
            "_model_name": "LayoutModel",
            "_view_count": null,
            "_view_module": "@jupyter-widgets/base",
            "_view_module_version": "1.2.0",
            "_view_name": "LayoutView",
            "align_content": null,
            "align_items": null,
            "align_self": null,
            "border": null,
            "bottom": null,
            "display": null,
            "flex": null,
            "flex_flow": null,
            "grid_area": null,
            "grid_auto_columns": null,
            "grid_auto_flow": null,
            "grid_auto_rows": null,
            "grid_column": null,
            "grid_gap": null,
            "grid_row": null,
            "grid_template_areas": null,
            "grid_template_columns": null,
            "grid_template_rows": null,
            "height": null,
            "justify_content": null,
            "justify_items": null,
            "left": null,
            "margin": null,
            "max_height": null,
            "max_width": null,
            "min_height": null,
            "min_width": null,
            "object_fit": null,
            "object_position": null,
            "order": null,
            "overflow": null,
            "overflow_x": null,
            "overflow_y": null,
            "padding": null,
            "right": null,
            "top": null,
            "visibility": null,
            "width": null
          }
        },
        "f5f8bc4640bd4eb58314b990a26dce9b": {
          "model_module": "@jupyter-widgets/controls",
          "model_name": "DescriptionStyleModel",
          "model_module_version": "1.5.0",
          "state": {
            "_model_module": "@jupyter-widgets/controls",
            "_model_module_version": "1.5.0",
            "_model_name": "DescriptionStyleModel",
            "_view_count": null,
            "_view_module": "@jupyter-widgets/base",
            "_view_module_version": "1.2.0",
            "_view_name": "StyleView",
            "description_width": ""
          }
        },
        "5dcfdf3865424a2b8ea3227f713b9180": {
          "model_module": "@jupyter-widgets/controls",
          "model_name": "HBoxModel",
          "model_module_version": "1.5.0",
          "state": {
            "_dom_classes": [],
            "_model_module": "@jupyter-widgets/controls",
            "_model_module_version": "1.5.0",
            "_model_name": "HBoxModel",
            "_view_count": null,
            "_view_module": "@jupyter-widgets/controls",
            "_view_module_version": "1.5.0",
            "_view_name": "HBoxView",
            "box_style": "",
            "children": [
              "IPY_MODEL_efe809dd054d4fd79a20482ba07a5feb",
              "IPY_MODEL_03c6395cc41b4ed1bd32410417bb9bd7",
              "IPY_MODEL_f31acffedba9415e9f676c68b66838fe"
            ],
            "layout": "IPY_MODEL_88c12ac4bac44cb981034561457f7c9f"
          }
        },
        "efe809dd054d4fd79a20482ba07a5feb": {
          "model_module": "@jupyter-widgets/controls",
          "model_name": "HTMLModel",
          "model_module_version": "1.5.0",
          "state": {
            "_dom_classes": [],
            "_model_module": "@jupyter-widgets/controls",
            "_model_module_version": "1.5.0",
            "_model_name": "HTMLModel",
            "_view_count": null,
            "_view_module": "@jupyter-widgets/controls",
            "_view_module_version": "1.5.0",
            "_view_name": "HTMLView",
            "description": "",
            "description_tooltip": null,
            "layout": "IPY_MODEL_c2ce974415d7400ea52e70bc9b5796c3",
            "placeholder": "​",
            "style": "IPY_MODEL_92c2ab3708ed40c49d9eb91f527cd1eb",
            "value": "Downloading: 100%"
          }
        },
        "03c6395cc41b4ed1bd32410417bb9bd7": {
          "model_module": "@jupyter-widgets/controls",
          "model_name": "FloatProgressModel",
          "model_module_version": "1.5.0",
          "state": {
            "_dom_classes": [],
            "_model_module": "@jupyter-widgets/controls",
            "_model_module_version": "1.5.0",
            "_model_name": "FloatProgressModel",
            "_view_count": null,
            "_view_module": "@jupyter-widgets/controls",
            "_view_module_version": "1.5.0",
            "_view_name": "ProgressView",
            "bar_style": "success",
            "description": "",
            "description_tooltip": null,
            "layout": "IPY_MODEL_1d2d146dd7cd456db1bee0f9bf5d74e8",
            "max": 920243,
            "min": 0,
            "orientation": "horizontal",
            "style": "IPY_MODEL_0b5d035d27d241db830179a28bd6258c",
            "value": 920243
          }
        },
        "f31acffedba9415e9f676c68b66838fe": {
          "model_module": "@jupyter-widgets/controls",
          "model_name": "HTMLModel",
          "model_module_version": "1.5.0",
          "state": {
            "_dom_classes": [],
            "_model_module": "@jupyter-widgets/controls",
            "_model_module_version": "1.5.0",
            "_model_name": "HTMLModel",
            "_view_count": null,
            "_view_module": "@jupyter-widgets/controls",
            "_view_module_version": "1.5.0",
            "_view_name": "HTMLView",
            "description": "",
            "description_tooltip": null,
            "layout": "IPY_MODEL_696dc456b4c847cf9657e5aa5fc8824d",
            "placeholder": "​",
            "style": "IPY_MODEL_592bff07be044235b036def4b2ca4a80",
            "value": " 920k/920k [00:00&lt;00:00, 1.17MB/s]"
          }
        },
        "88c12ac4bac44cb981034561457f7c9f": {
          "model_module": "@jupyter-widgets/base",
          "model_name": "LayoutModel",
          "model_module_version": "1.2.0",
          "state": {
            "_model_module": "@jupyter-widgets/base",
            "_model_module_version": "1.2.0",
            "_model_name": "LayoutModel",
            "_view_count": null,
            "_view_module": "@jupyter-widgets/base",
            "_view_module_version": "1.2.0",
            "_view_name": "LayoutView",
            "align_content": null,
            "align_items": null,
            "align_self": null,
            "border": null,
            "bottom": null,
            "display": null,
            "flex": null,
            "flex_flow": null,
            "grid_area": null,
            "grid_auto_columns": null,
            "grid_auto_flow": null,
            "grid_auto_rows": null,
            "grid_column": null,
            "grid_gap": null,
            "grid_row": null,
            "grid_template_areas": null,
            "grid_template_columns": null,
            "grid_template_rows": null,
            "height": null,
            "justify_content": null,
            "justify_items": null,
            "left": null,
            "margin": null,
            "max_height": null,
            "max_width": null,
            "min_height": null,
            "min_width": null,
            "object_fit": null,
            "object_position": null,
            "order": null,
            "overflow": null,
            "overflow_x": null,
            "overflow_y": null,
            "padding": null,
            "right": null,
            "top": null,
            "visibility": null,
            "width": null
          }
        },
        "c2ce974415d7400ea52e70bc9b5796c3": {
          "model_module": "@jupyter-widgets/base",
          "model_name": "LayoutModel",
          "model_module_version": "1.2.0",
          "state": {
            "_model_module": "@jupyter-widgets/base",
            "_model_module_version": "1.2.0",
            "_model_name": "LayoutModel",
            "_view_count": null,
            "_view_module": "@jupyter-widgets/base",
            "_view_module_version": "1.2.0",
            "_view_name": "LayoutView",
            "align_content": null,
            "align_items": null,
            "align_self": null,
            "border": null,
            "bottom": null,
            "display": null,
            "flex": null,
            "flex_flow": null,
            "grid_area": null,
            "grid_auto_columns": null,
            "grid_auto_flow": null,
            "grid_auto_rows": null,
            "grid_column": null,
            "grid_gap": null,
            "grid_row": null,
            "grid_template_areas": null,
            "grid_template_columns": null,
            "grid_template_rows": null,
            "height": null,
            "justify_content": null,
            "justify_items": null,
            "left": null,
            "margin": null,
            "max_height": null,
            "max_width": null,
            "min_height": null,
            "min_width": null,
            "object_fit": null,
            "object_position": null,
            "order": null,
            "overflow": null,
            "overflow_x": null,
            "overflow_y": null,
            "padding": null,
            "right": null,
            "top": null,
            "visibility": null,
            "width": null
          }
        },
        "92c2ab3708ed40c49d9eb91f527cd1eb": {
          "model_module": "@jupyter-widgets/controls",
          "model_name": "DescriptionStyleModel",
          "model_module_version": "1.5.0",
          "state": {
            "_model_module": "@jupyter-widgets/controls",
            "_model_module_version": "1.5.0",
            "_model_name": "DescriptionStyleModel",
            "_view_count": null,
            "_view_module": "@jupyter-widgets/base",
            "_view_module_version": "1.2.0",
            "_view_name": "StyleView",
            "description_width": ""
          }
        },
        "1d2d146dd7cd456db1bee0f9bf5d74e8": {
          "model_module": "@jupyter-widgets/base",
          "model_name": "LayoutModel",
          "model_module_version": "1.2.0",
          "state": {
            "_model_module": "@jupyter-widgets/base",
            "_model_module_version": "1.2.0",
            "_model_name": "LayoutModel",
            "_view_count": null,
            "_view_module": "@jupyter-widgets/base",
            "_view_module_version": "1.2.0",
            "_view_name": "LayoutView",
            "align_content": null,
            "align_items": null,
            "align_self": null,
            "border": null,
            "bottom": null,
            "display": null,
            "flex": null,
            "flex_flow": null,
            "grid_area": null,
            "grid_auto_columns": null,
            "grid_auto_flow": null,
            "grid_auto_rows": null,
            "grid_column": null,
            "grid_gap": null,
            "grid_row": null,
            "grid_template_areas": null,
            "grid_template_columns": null,
            "grid_template_rows": null,
            "height": null,
            "justify_content": null,
            "justify_items": null,
            "left": null,
            "margin": null,
            "max_height": null,
            "max_width": null,
            "min_height": null,
            "min_width": null,
            "object_fit": null,
            "object_position": null,
            "order": null,
            "overflow": null,
            "overflow_x": null,
            "overflow_y": null,
            "padding": null,
            "right": null,
            "top": null,
            "visibility": null,
            "width": null
          }
        },
        "0b5d035d27d241db830179a28bd6258c": {
          "model_module": "@jupyter-widgets/controls",
          "model_name": "ProgressStyleModel",
          "model_module_version": "1.5.0",
          "state": {
            "_model_module": "@jupyter-widgets/controls",
            "_model_module_version": "1.5.0",
            "_model_name": "ProgressStyleModel",
            "_view_count": null,
            "_view_module": "@jupyter-widgets/base",
            "_view_module_version": "1.2.0",
            "_view_name": "StyleView",
            "bar_color": null,
            "description_width": ""
          }
        },
        "696dc456b4c847cf9657e5aa5fc8824d": {
          "model_module": "@jupyter-widgets/base",
          "model_name": "LayoutModel",
          "model_module_version": "1.2.0",
          "state": {
            "_model_module": "@jupyter-widgets/base",
            "_model_module_version": "1.2.0",
            "_model_name": "LayoutModel",
            "_view_count": null,
            "_view_module": "@jupyter-widgets/base",
            "_view_module_version": "1.2.0",
            "_view_name": "LayoutView",
            "align_content": null,
            "align_items": null,
            "align_self": null,
            "border": null,
            "bottom": null,
            "display": null,
            "flex": null,
            "flex_flow": null,
            "grid_area": null,
            "grid_auto_columns": null,
            "grid_auto_flow": null,
            "grid_auto_rows": null,
            "grid_column": null,
            "grid_gap": null,
            "grid_row": null,
            "grid_template_areas": null,
            "grid_template_columns": null,
            "grid_template_rows": null,
            "height": null,
            "justify_content": null,
            "justify_items": null,
            "left": null,
            "margin": null,
            "max_height": null,
            "max_width": null,
            "min_height": null,
            "min_width": null,
            "object_fit": null,
            "object_position": null,
            "order": null,
            "overflow": null,
            "overflow_x": null,
            "overflow_y": null,
            "padding": null,
            "right": null,
            "top": null,
            "visibility": null,
            "width": null
          }
        },
        "592bff07be044235b036def4b2ca4a80": {
          "model_module": "@jupyter-widgets/controls",
          "model_name": "DescriptionStyleModel",
          "model_module_version": "1.5.0",
          "state": {
            "_model_module": "@jupyter-widgets/controls",
            "_model_module_version": "1.5.0",
            "_model_name": "DescriptionStyleModel",
            "_view_count": null,
            "_view_module": "@jupyter-widgets/base",
            "_view_module_version": "1.2.0",
            "_view_name": "StyleView",
            "description_width": ""
          }
        },
        "6d12e4f8f14943bab2729e025e614b9c": {
          "model_module": "@jupyter-widgets/controls",
          "model_name": "HBoxModel",
          "model_module_version": "1.5.0",
          "state": {
            "_dom_classes": [],
            "_model_module": "@jupyter-widgets/controls",
            "_model_module_version": "1.5.0",
            "_model_name": "HBoxModel",
            "_view_count": null,
            "_view_module": "@jupyter-widgets/controls",
            "_view_module_version": "1.5.0",
            "_view_name": "HBoxView",
            "box_style": "",
            "children": [
              "IPY_MODEL_289a07cdb91c4d03aed2473b75bc396f",
              "IPY_MODEL_30ec9ae8fa70423ab00e7aeaa41f24d4",
              "IPY_MODEL_0c0ae9d6db9245b9afe1bb4b39cf6172"
            ],
            "layout": "IPY_MODEL_babd7f0b74364f90ab051616835f90d9"
          }
        },
        "289a07cdb91c4d03aed2473b75bc396f": {
          "model_module": "@jupyter-widgets/controls",
          "model_name": "HTMLModel",
          "model_module_version": "1.5.0",
          "state": {
            "_dom_classes": [],
            "_model_module": "@jupyter-widgets/controls",
            "_model_module_version": "1.5.0",
            "_model_name": "HTMLModel",
            "_view_count": null,
            "_view_module": "@jupyter-widgets/controls",
            "_view_module_version": "1.5.0",
            "_view_name": "HTMLView",
            "description": "",
            "description_tooltip": null,
            "layout": "IPY_MODEL_b230a61c9146487292a71710110ce4d6",
            "placeholder": "​",
            "style": "IPY_MODEL_d5c21d3913154a13a237bf288682fefd",
            "value": "Downloading: 100%"
          }
        },
        "30ec9ae8fa70423ab00e7aeaa41f24d4": {
          "model_module": "@jupyter-widgets/controls",
          "model_name": "FloatProgressModel",
          "model_module_version": "1.5.0",
          "state": {
            "_dom_classes": [],
            "_model_module": "@jupyter-widgets/controls",
            "_model_module_version": "1.5.0",
            "_model_name": "FloatProgressModel",
            "_view_count": null,
            "_view_module": "@jupyter-widgets/controls",
            "_view_module_version": "1.5.0",
            "_view_name": "ProgressView",
            "bar_style": "success",
            "description": "",
            "description_tooltip": null,
            "layout": "IPY_MODEL_c8f0ab12de7741bb9f1fdfe2a223cbf4",
            "max": 848819,
            "min": 0,
            "orientation": "horizontal",
            "style": "IPY_MODEL_f49bcb7d183e41d7944fd38ec2dbdabc",
            "value": 848819
          }
        },
        "0c0ae9d6db9245b9afe1bb4b39cf6172": {
          "model_module": "@jupyter-widgets/controls",
          "model_name": "HTMLModel",
          "model_module_version": "1.5.0",
          "state": {
            "_dom_classes": [],
            "_model_module": "@jupyter-widgets/controls",
            "_model_module_version": "1.5.0",
            "_model_name": "HTMLModel",
            "_view_count": null,
            "_view_module": "@jupyter-widgets/controls",
            "_view_module_version": "1.5.0",
            "_view_name": "HTMLView",
            "description": "",
            "description_tooltip": null,
            "layout": "IPY_MODEL_c06da4c463724680975b946fb7db3241",
            "placeholder": "​",
            "style": "IPY_MODEL_c569b4b550274b569953f96384d0656a",
            "value": " 849k/849k [00:00&lt;00:00, 1.17MB/s]"
          }
        },
        "babd7f0b74364f90ab051616835f90d9": {
          "model_module": "@jupyter-widgets/base",
          "model_name": "LayoutModel",
          "model_module_version": "1.2.0",
          "state": {
            "_model_module": "@jupyter-widgets/base",
            "_model_module_version": "1.2.0",
            "_model_name": "LayoutModel",
            "_view_count": null,
            "_view_module": "@jupyter-widgets/base",
            "_view_module_version": "1.2.0",
            "_view_name": "LayoutView",
            "align_content": null,
            "align_items": null,
            "align_self": null,
            "border": null,
            "bottom": null,
            "display": null,
            "flex": null,
            "flex_flow": null,
            "grid_area": null,
            "grid_auto_columns": null,
            "grid_auto_flow": null,
            "grid_auto_rows": null,
            "grid_column": null,
            "grid_gap": null,
            "grid_row": null,
            "grid_template_areas": null,
            "grid_template_columns": null,
            "grid_template_rows": null,
            "height": null,
            "justify_content": null,
            "justify_items": null,
            "left": null,
            "margin": null,
            "max_height": null,
            "max_width": null,
            "min_height": null,
            "min_width": null,
            "object_fit": null,
            "object_position": null,
            "order": null,
            "overflow": null,
            "overflow_x": null,
            "overflow_y": null,
            "padding": null,
            "right": null,
            "top": null,
            "visibility": null,
            "width": null
          }
        },
        "b230a61c9146487292a71710110ce4d6": {
          "model_module": "@jupyter-widgets/base",
          "model_name": "LayoutModel",
          "model_module_version": "1.2.0",
          "state": {
            "_model_module": "@jupyter-widgets/base",
            "_model_module_version": "1.2.0",
            "_model_name": "LayoutModel",
            "_view_count": null,
            "_view_module": "@jupyter-widgets/base",
            "_view_module_version": "1.2.0",
            "_view_name": "LayoutView",
            "align_content": null,
            "align_items": null,
            "align_self": null,
            "border": null,
            "bottom": null,
            "display": null,
            "flex": null,
            "flex_flow": null,
            "grid_area": null,
            "grid_auto_columns": null,
            "grid_auto_flow": null,
            "grid_auto_rows": null,
            "grid_column": null,
            "grid_gap": null,
            "grid_row": null,
            "grid_template_areas": null,
            "grid_template_columns": null,
            "grid_template_rows": null,
            "height": null,
            "justify_content": null,
            "justify_items": null,
            "left": null,
            "margin": null,
            "max_height": null,
            "max_width": null,
            "min_height": null,
            "min_width": null,
            "object_fit": null,
            "object_position": null,
            "order": null,
            "overflow": null,
            "overflow_x": null,
            "overflow_y": null,
            "padding": null,
            "right": null,
            "top": null,
            "visibility": null,
            "width": null
          }
        },
        "d5c21d3913154a13a237bf288682fefd": {
          "model_module": "@jupyter-widgets/controls",
          "model_name": "DescriptionStyleModel",
          "model_module_version": "1.5.0",
          "state": {
            "_model_module": "@jupyter-widgets/controls",
            "_model_module_version": "1.5.0",
            "_model_name": "DescriptionStyleModel",
            "_view_count": null,
            "_view_module": "@jupyter-widgets/base",
            "_view_module_version": "1.2.0",
            "_view_name": "StyleView",
            "description_width": ""
          }
        },
        "c8f0ab12de7741bb9f1fdfe2a223cbf4": {
          "model_module": "@jupyter-widgets/base",
          "model_name": "LayoutModel",
          "model_module_version": "1.2.0",
          "state": {
            "_model_module": "@jupyter-widgets/base",
            "_model_module_version": "1.2.0",
            "_model_name": "LayoutModel",
            "_view_count": null,
            "_view_module": "@jupyter-widgets/base",
            "_view_module_version": "1.2.0",
            "_view_name": "LayoutView",
            "align_content": null,
            "align_items": null,
            "align_self": null,
            "border": null,
            "bottom": null,
            "display": null,
            "flex": null,
            "flex_flow": null,
            "grid_area": null,
            "grid_auto_columns": null,
            "grid_auto_flow": null,
            "grid_auto_rows": null,
            "grid_column": null,
            "grid_gap": null,
            "grid_row": null,
            "grid_template_areas": null,
            "grid_template_columns": null,
            "grid_template_rows": null,
            "height": null,
            "justify_content": null,
            "justify_items": null,
            "left": null,
            "margin": null,
            "max_height": null,
            "max_width": null,
            "min_height": null,
            "min_width": null,
            "object_fit": null,
            "object_position": null,
            "order": null,
            "overflow": null,
            "overflow_x": null,
            "overflow_y": null,
            "padding": null,
            "right": null,
            "top": null,
            "visibility": null,
            "width": null
          }
        },
        "f49bcb7d183e41d7944fd38ec2dbdabc": {
          "model_module": "@jupyter-widgets/controls",
          "model_name": "ProgressStyleModel",
          "model_module_version": "1.5.0",
          "state": {
            "_model_module": "@jupyter-widgets/controls",
            "_model_module_version": "1.5.0",
            "_model_name": "ProgressStyleModel",
            "_view_count": null,
            "_view_module": "@jupyter-widgets/base",
            "_view_module_version": "1.2.0",
            "_view_name": "StyleView",
            "bar_color": null,
            "description_width": ""
          }
        },
        "c06da4c463724680975b946fb7db3241": {
          "model_module": "@jupyter-widgets/base",
          "model_name": "LayoutModel",
          "model_module_version": "1.2.0",
          "state": {
            "_model_module": "@jupyter-widgets/base",
            "_model_module_version": "1.2.0",
            "_model_name": "LayoutModel",
            "_view_count": null,
            "_view_module": "@jupyter-widgets/base",
            "_view_module_version": "1.2.0",
            "_view_name": "LayoutView",
            "align_content": null,
            "align_items": null,
            "align_self": null,
            "border": null,
            "bottom": null,
            "display": null,
            "flex": null,
            "flex_flow": null,
            "grid_area": null,
            "grid_auto_columns": null,
            "grid_auto_flow": null,
            "grid_auto_rows": null,
            "grid_column": null,
            "grid_gap": null,
            "grid_row": null,
            "grid_template_areas": null,
            "grid_template_columns": null,
            "grid_template_rows": null,
            "height": null,
            "justify_content": null,
            "justify_items": null,
            "left": null,
            "margin": null,
            "max_height": null,
            "max_width": null,
            "min_height": null,
            "min_width": null,
            "object_fit": null,
            "object_position": null,
            "order": null,
            "overflow": null,
            "overflow_x": null,
            "overflow_y": null,
            "padding": null,
            "right": null,
            "top": null,
            "visibility": null,
            "width": null
          }
        },
        "c569b4b550274b569953f96384d0656a": {
          "model_module": "@jupyter-widgets/controls",
          "model_name": "DescriptionStyleModel",
          "model_module_version": "1.5.0",
          "state": {
            "_model_module": "@jupyter-widgets/controls",
            "_model_module_version": "1.5.0",
            "_model_name": "DescriptionStyleModel",
            "_view_count": null,
            "_view_module": "@jupyter-widgets/base",
            "_view_module_version": "1.2.0",
            "_view_name": "StyleView",
            "description_width": ""
          }
        },
        "d9ef64859a554b088e44cd10c3d9a7a9": {
          "model_module": "@jupyter-widgets/controls",
          "model_name": "HBoxModel",
          "model_module_version": "1.5.0",
          "state": {
            "_dom_classes": [],
            "_model_module": "@jupyter-widgets/controls",
            "_model_module_version": "1.5.0",
            "_model_name": "HBoxModel",
            "_view_count": null,
            "_view_module": "@jupyter-widgets/controls",
            "_view_module_version": "1.5.0",
            "_view_name": "HBoxView",
            "box_style": "",
            "children": [
              "IPY_MODEL_1d6a6c407cc54d4582a68558abc987b2",
              "IPY_MODEL_0e9cbf5270c14ed992e7bb774c1ac6f5",
              "IPY_MODEL_ed188767254a4b9190e3f910c940a09a"
            ],
            "layout": "IPY_MODEL_a2ec701b65e349cc81ebbc46fc4b2053"
          }
        },
        "1d6a6c407cc54d4582a68558abc987b2": {
          "model_module": "@jupyter-widgets/controls",
          "model_name": "HTMLModel",
          "model_module_version": "1.5.0",
          "state": {
            "_dom_classes": [],
            "_model_module": "@jupyter-widgets/controls",
            "_model_module_version": "1.5.0",
            "_model_name": "HTMLModel",
            "_view_count": null,
            "_view_module": "@jupyter-widgets/controls",
            "_view_module_version": "1.5.0",
            "_view_name": "HTMLView",
            "description": "",
            "description_tooltip": null,
            "layout": "IPY_MODEL_421c21d9eb844d26b680e8697138d94b",
            "placeholder": "​",
            "style": "IPY_MODEL_5c1c5f0ada76497a85486a3be8204806",
            "value": "Downloading: 100%"
          }
        },
        "0e9cbf5270c14ed992e7bb774c1ac6f5": {
          "model_module": "@jupyter-widgets/controls",
          "model_name": "FloatProgressModel",
          "model_module_version": "1.5.0",
          "state": {
            "_dom_classes": [],
            "_model_module": "@jupyter-widgets/controls",
            "_model_module_version": "1.5.0",
            "_model_name": "FloatProgressModel",
            "_view_count": null,
            "_view_module": "@jupyter-widgets/controls",
            "_view_module_version": "1.5.0",
            "_view_name": "ProgressView",
            "bar_style": "success",
            "description": "",
            "description_tooltip": null,
            "layout": "IPY_MODEL_594d2ed285c04496beb737df3dcf78c5",
            "max": 85,
            "min": 0,
            "orientation": "horizontal",
            "style": "IPY_MODEL_1e65b3758ce345a0b87e6ab332c0e691",
            "value": 85
          }
        },
        "ed188767254a4b9190e3f910c940a09a": {
          "model_module": "@jupyter-widgets/controls",
          "model_name": "HTMLModel",
          "model_module_version": "1.5.0",
          "state": {
            "_dom_classes": [],
            "_model_module": "@jupyter-widgets/controls",
            "_model_module_version": "1.5.0",
            "_model_name": "HTMLModel",
            "_view_count": null,
            "_view_module": "@jupyter-widgets/controls",
            "_view_module_version": "1.5.0",
            "_view_name": "HTMLView",
            "description": "",
            "description_tooltip": null,
            "layout": "IPY_MODEL_8b371cb2726b4549a919b0426ebb3df3",
            "placeholder": "​",
            "style": "IPY_MODEL_585764b9de3c4778b1edd237c5eaf7da",
            "value": " 85.0/85.0 [00:00&lt;00:00, 3.04kB/s]"
          }
        },
        "a2ec701b65e349cc81ebbc46fc4b2053": {
          "model_module": "@jupyter-widgets/base",
          "model_name": "LayoutModel",
          "model_module_version": "1.2.0",
          "state": {
            "_model_module": "@jupyter-widgets/base",
            "_model_module_version": "1.2.0",
            "_model_name": "LayoutModel",
            "_view_count": null,
            "_view_module": "@jupyter-widgets/base",
            "_view_module_version": "1.2.0",
            "_view_name": "LayoutView",
            "align_content": null,
            "align_items": null,
            "align_self": null,
            "border": null,
            "bottom": null,
            "display": null,
            "flex": null,
            "flex_flow": null,
            "grid_area": null,
            "grid_auto_columns": null,
            "grid_auto_flow": null,
            "grid_auto_rows": null,
            "grid_column": null,
            "grid_gap": null,
            "grid_row": null,
            "grid_template_areas": null,
            "grid_template_columns": null,
            "grid_template_rows": null,
            "height": null,
            "justify_content": null,
            "justify_items": null,
            "left": null,
            "margin": null,
            "max_height": null,
            "max_width": null,
            "min_height": null,
            "min_width": null,
            "object_fit": null,
            "object_position": null,
            "order": null,
            "overflow": null,
            "overflow_x": null,
            "overflow_y": null,
            "padding": null,
            "right": null,
            "top": null,
            "visibility": null,
            "width": null
          }
        },
        "421c21d9eb844d26b680e8697138d94b": {
          "model_module": "@jupyter-widgets/base",
          "model_name": "LayoutModel",
          "model_module_version": "1.2.0",
          "state": {
            "_model_module": "@jupyter-widgets/base",
            "_model_module_version": "1.2.0",
            "_model_name": "LayoutModel",
            "_view_count": null,
            "_view_module": "@jupyter-widgets/base",
            "_view_module_version": "1.2.0",
            "_view_name": "LayoutView",
            "align_content": null,
            "align_items": null,
            "align_self": null,
            "border": null,
            "bottom": null,
            "display": null,
            "flex": null,
            "flex_flow": null,
            "grid_area": null,
            "grid_auto_columns": null,
            "grid_auto_flow": null,
            "grid_auto_rows": null,
            "grid_column": null,
            "grid_gap": null,
            "grid_row": null,
            "grid_template_areas": null,
            "grid_template_columns": null,
            "grid_template_rows": null,
            "height": null,
            "justify_content": null,
            "justify_items": null,
            "left": null,
            "margin": null,
            "max_height": null,
            "max_width": null,
            "min_height": null,
            "min_width": null,
            "object_fit": null,
            "object_position": null,
            "order": null,
            "overflow": null,
            "overflow_x": null,
            "overflow_y": null,
            "padding": null,
            "right": null,
            "top": null,
            "visibility": null,
            "width": null
          }
        },
        "5c1c5f0ada76497a85486a3be8204806": {
          "model_module": "@jupyter-widgets/controls",
          "model_name": "DescriptionStyleModel",
          "model_module_version": "1.5.0",
          "state": {
            "_model_module": "@jupyter-widgets/controls",
            "_model_module_version": "1.5.0",
            "_model_name": "DescriptionStyleModel",
            "_view_count": null,
            "_view_module": "@jupyter-widgets/base",
            "_view_module_version": "1.2.0",
            "_view_name": "StyleView",
            "description_width": ""
          }
        },
        "594d2ed285c04496beb737df3dcf78c5": {
          "model_module": "@jupyter-widgets/base",
          "model_name": "LayoutModel",
          "model_module_version": "1.2.0",
          "state": {
            "_model_module": "@jupyter-widgets/base",
            "_model_module_version": "1.2.0",
            "_model_name": "LayoutModel",
            "_view_count": null,
            "_view_module": "@jupyter-widgets/base",
            "_view_module_version": "1.2.0",
            "_view_name": "LayoutView",
            "align_content": null,
            "align_items": null,
            "align_self": null,
            "border": null,
            "bottom": null,
            "display": null,
            "flex": null,
            "flex_flow": null,
            "grid_area": null,
            "grid_auto_columns": null,
            "grid_auto_flow": null,
            "grid_auto_rows": null,
            "grid_column": null,
            "grid_gap": null,
            "grid_row": null,
            "grid_template_areas": null,
            "grid_template_columns": null,
            "grid_template_rows": null,
            "height": null,
            "justify_content": null,
            "justify_items": null,
            "left": null,
            "margin": null,
            "max_height": null,
            "max_width": null,
            "min_height": null,
            "min_width": null,
            "object_fit": null,
            "object_position": null,
            "order": null,
            "overflow": null,
            "overflow_x": null,
            "overflow_y": null,
            "padding": null,
            "right": null,
            "top": null,
            "visibility": null,
            "width": null
          }
        },
        "1e65b3758ce345a0b87e6ab332c0e691": {
          "model_module": "@jupyter-widgets/controls",
          "model_name": "ProgressStyleModel",
          "model_module_version": "1.5.0",
          "state": {
            "_model_module": "@jupyter-widgets/controls",
            "_model_module_version": "1.5.0",
            "_model_name": "ProgressStyleModel",
            "_view_count": null,
            "_view_module": "@jupyter-widgets/base",
            "_view_module_version": "1.2.0",
            "_view_name": "StyleView",
            "bar_color": null,
            "description_width": ""
          }
        },
        "8b371cb2726b4549a919b0426ebb3df3": {
          "model_module": "@jupyter-widgets/base",
          "model_name": "LayoutModel",
          "model_module_version": "1.2.0",
          "state": {
            "_model_module": "@jupyter-widgets/base",
            "_model_module_version": "1.2.0",
            "_model_name": "LayoutModel",
            "_view_count": null,
            "_view_module": "@jupyter-widgets/base",
            "_view_module_version": "1.2.0",
            "_view_name": "LayoutView",
            "align_content": null,
            "align_items": null,
            "align_self": null,
            "border": null,
            "bottom": null,
            "display": null,
            "flex": null,
            "flex_flow": null,
            "grid_area": null,
            "grid_auto_columns": null,
            "grid_auto_flow": null,
            "grid_auto_rows": null,
            "grid_column": null,
            "grid_gap": null,
            "grid_row": null,
            "grid_template_areas": null,
            "grid_template_columns": null,
            "grid_template_rows": null,
            "height": null,
            "justify_content": null,
            "justify_items": null,
            "left": null,
            "margin": null,
            "max_height": null,
            "max_width": null,
            "min_height": null,
            "min_width": null,
            "object_fit": null,
            "object_position": null,
            "order": null,
            "overflow": null,
            "overflow_x": null,
            "overflow_y": null,
            "padding": null,
            "right": null,
            "top": null,
            "visibility": null,
            "width": null
          }
        },
        "585764b9de3c4778b1edd237c5eaf7da": {
          "model_module": "@jupyter-widgets/controls",
          "model_name": "DescriptionStyleModel",
          "model_module_version": "1.5.0",
          "state": {
            "_model_module": "@jupyter-widgets/controls",
            "_model_module_version": "1.5.0",
            "_model_name": "DescriptionStyleModel",
            "_view_count": null,
            "_view_module": "@jupyter-widgets/base",
            "_view_module_version": "1.2.0",
            "_view_name": "StyleView",
            "description_width": ""
          }
        },
        "f6c9dbb928004f43b33c147bf0a201b9": {
          "model_module": "@jupyter-widgets/controls",
          "model_name": "HBoxModel",
          "model_module_version": "1.5.0",
          "state": {
            "_dom_classes": [],
            "_model_module": "@jupyter-widgets/controls",
            "_model_module_version": "1.5.0",
            "_model_name": "HBoxModel",
            "_view_count": null,
            "_view_module": "@jupyter-widgets/controls",
            "_view_module_version": "1.5.0",
            "_view_name": "HBoxView",
            "box_style": "",
            "children": [
              "IPY_MODEL_8baba6861e644c549717911c96e0825f",
              "IPY_MODEL_44ef578e87054e7f94ac2f4b96a24c4e",
              "IPY_MODEL_d2df973eb3f44ce69d5a39b25158808a"
            ],
            "layout": "IPY_MODEL_a8f7455c65bb43c0bc2aa7735d5f35e9"
          }
        },
        "8baba6861e644c549717911c96e0825f": {
          "model_module": "@jupyter-widgets/controls",
          "model_name": "HTMLModel",
          "model_module_version": "1.5.0",
          "state": {
            "_dom_classes": [],
            "_model_module": "@jupyter-widgets/controls",
            "_model_module_version": "1.5.0",
            "_model_name": "HTMLModel",
            "_view_count": null,
            "_view_module": "@jupyter-widgets/controls",
            "_view_module_version": "1.5.0",
            "_view_name": "HTMLView",
            "description": "",
            "description_tooltip": null,
            "layout": "IPY_MODEL_5bca14c5e805428bb07c0d44679fe489",
            "placeholder": "​",
            "style": "IPY_MODEL_c99ab584201b4c1e9753d9f3bc02df45",
            "value": "Downloading: 100%"
          }
        },
        "44ef578e87054e7f94ac2f4b96a24c4e": {
          "model_module": "@jupyter-widgets/controls",
          "model_name": "FloatProgressModel",
          "model_module_version": "1.5.0",
          "state": {
            "_dom_classes": [],
            "_model_module": "@jupyter-widgets/controls",
            "_model_module_version": "1.5.0",
            "_model_name": "FloatProgressModel",
            "_view_count": null,
            "_view_module": "@jupyter-widgets/controls",
            "_view_module_version": "1.5.0",
            "_view_name": "ProgressView",
            "bar_style": "success",
            "description": "",
            "description_tooltip": null,
            "layout": "IPY_MODEL_8087e6ee35354718983a2f3d20612ef0",
            "max": 109,
            "min": 0,
            "orientation": "horizontal",
            "style": "IPY_MODEL_df7bd702a4e64ef38b295b064eeb3ed1",
            "value": 109
          }
        },
        "d2df973eb3f44ce69d5a39b25158808a": {
          "model_module": "@jupyter-widgets/controls",
          "model_name": "HTMLModel",
          "model_module_version": "1.5.0",
          "state": {
            "_dom_classes": [],
            "_model_module": "@jupyter-widgets/controls",
            "_model_module_version": "1.5.0",
            "_model_name": "HTMLModel",
            "_view_count": null,
            "_view_module": "@jupyter-widgets/controls",
            "_view_module_version": "1.5.0",
            "_view_name": "HTMLView",
            "description": "",
            "description_tooltip": null,
            "layout": "IPY_MODEL_f622fde0420c4b95b854880f1356eddb",
            "placeholder": "​",
            "style": "IPY_MODEL_c45280784651477fb1f8ee24b63b5950",
            "value": " 109/109 [00:00&lt;00:00, 4.06kB/s]"
          }
        },
        "a8f7455c65bb43c0bc2aa7735d5f35e9": {
          "model_module": "@jupyter-widgets/base",
          "model_name": "LayoutModel",
          "model_module_version": "1.2.0",
          "state": {
            "_model_module": "@jupyter-widgets/base",
            "_model_module_version": "1.2.0",
            "_model_name": "LayoutModel",
            "_view_count": null,
            "_view_module": "@jupyter-widgets/base",
            "_view_module_version": "1.2.0",
            "_view_name": "LayoutView",
            "align_content": null,
            "align_items": null,
            "align_self": null,
            "border": null,
            "bottom": null,
            "display": null,
            "flex": null,
            "flex_flow": null,
            "grid_area": null,
            "grid_auto_columns": null,
            "grid_auto_flow": null,
            "grid_auto_rows": null,
            "grid_column": null,
            "grid_gap": null,
            "grid_row": null,
            "grid_template_areas": null,
            "grid_template_columns": null,
            "grid_template_rows": null,
            "height": null,
            "justify_content": null,
            "justify_items": null,
            "left": null,
            "margin": null,
            "max_height": null,
            "max_width": null,
            "min_height": null,
            "min_width": null,
            "object_fit": null,
            "object_position": null,
            "order": null,
            "overflow": null,
            "overflow_x": null,
            "overflow_y": null,
            "padding": null,
            "right": null,
            "top": null,
            "visibility": null,
            "width": null
          }
        },
        "5bca14c5e805428bb07c0d44679fe489": {
          "model_module": "@jupyter-widgets/base",
          "model_name": "LayoutModel",
          "model_module_version": "1.2.0",
          "state": {
            "_model_module": "@jupyter-widgets/base",
            "_model_module_version": "1.2.0",
            "_model_name": "LayoutModel",
            "_view_count": null,
            "_view_module": "@jupyter-widgets/base",
            "_view_module_version": "1.2.0",
            "_view_name": "LayoutView",
            "align_content": null,
            "align_items": null,
            "align_self": null,
            "border": null,
            "bottom": null,
            "display": null,
            "flex": null,
            "flex_flow": null,
            "grid_area": null,
            "grid_auto_columns": null,
            "grid_auto_flow": null,
            "grid_auto_rows": null,
            "grid_column": null,
            "grid_gap": null,
            "grid_row": null,
            "grid_template_areas": null,
            "grid_template_columns": null,
            "grid_template_rows": null,
            "height": null,
            "justify_content": null,
            "justify_items": null,
            "left": null,
            "margin": null,
            "max_height": null,
            "max_width": null,
            "min_height": null,
            "min_width": null,
            "object_fit": null,
            "object_position": null,
            "order": null,
            "overflow": null,
            "overflow_x": null,
            "overflow_y": null,
            "padding": null,
            "right": null,
            "top": null,
            "visibility": null,
            "width": null
          }
        },
        "c99ab584201b4c1e9753d9f3bc02df45": {
          "model_module": "@jupyter-widgets/controls",
          "model_name": "DescriptionStyleModel",
          "model_module_version": "1.5.0",
          "state": {
            "_model_module": "@jupyter-widgets/controls",
            "_model_module_version": "1.5.0",
            "_model_name": "DescriptionStyleModel",
            "_view_count": null,
            "_view_module": "@jupyter-widgets/base",
            "_view_module_version": "1.2.0",
            "_view_name": "StyleView",
            "description_width": ""
          }
        },
        "8087e6ee35354718983a2f3d20612ef0": {
          "model_module": "@jupyter-widgets/base",
          "model_name": "LayoutModel",
          "model_module_version": "1.2.0",
          "state": {
            "_model_module": "@jupyter-widgets/base",
            "_model_module_version": "1.2.0",
            "_model_name": "LayoutModel",
            "_view_count": null,
            "_view_module": "@jupyter-widgets/base",
            "_view_module_version": "1.2.0",
            "_view_name": "LayoutView",
            "align_content": null,
            "align_items": null,
            "align_self": null,
            "border": null,
            "bottom": null,
            "display": null,
            "flex": null,
            "flex_flow": null,
            "grid_area": null,
            "grid_auto_columns": null,
            "grid_auto_flow": null,
            "grid_auto_rows": null,
            "grid_column": null,
            "grid_gap": null,
            "grid_row": null,
            "grid_template_areas": null,
            "grid_template_columns": null,
            "grid_template_rows": null,
            "height": null,
            "justify_content": null,
            "justify_items": null,
            "left": null,
            "margin": null,
            "max_height": null,
            "max_width": null,
            "min_height": null,
            "min_width": null,
            "object_fit": null,
            "object_position": null,
            "order": null,
            "overflow": null,
            "overflow_x": null,
            "overflow_y": null,
            "padding": null,
            "right": null,
            "top": null,
            "visibility": null,
            "width": null
          }
        },
        "df7bd702a4e64ef38b295b064eeb3ed1": {
          "model_module": "@jupyter-widgets/controls",
          "model_name": "ProgressStyleModel",
          "model_module_version": "1.5.0",
          "state": {
            "_model_module": "@jupyter-widgets/controls",
            "_model_module_version": "1.5.0",
            "_model_name": "ProgressStyleModel",
            "_view_count": null,
            "_view_module": "@jupyter-widgets/base",
            "_view_module_version": "1.2.0",
            "_view_name": "StyleView",
            "bar_color": null,
            "description_width": ""
          }
        },
        "f622fde0420c4b95b854880f1356eddb": {
          "model_module": "@jupyter-widgets/base",
          "model_name": "LayoutModel",
          "model_module_version": "1.2.0",
          "state": {
            "_model_module": "@jupyter-widgets/base",
            "_model_module_version": "1.2.0",
            "_model_name": "LayoutModel",
            "_view_count": null,
            "_view_module": "@jupyter-widgets/base",
            "_view_module_version": "1.2.0",
            "_view_name": "LayoutView",
            "align_content": null,
            "align_items": null,
            "align_self": null,
            "border": null,
            "bottom": null,
            "display": null,
            "flex": null,
            "flex_flow": null,
            "grid_area": null,
            "grid_auto_columns": null,
            "grid_auto_flow": null,
            "grid_auto_rows": null,
            "grid_column": null,
            "grid_gap": null,
            "grid_row": null,
            "grid_template_areas": null,
            "grid_template_columns": null,
            "grid_template_rows": null,
            "height": null,
            "justify_content": null,
            "justify_items": null,
            "left": null,
            "margin": null,
            "max_height": null,
            "max_width": null,
            "min_height": null,
            "min_width": null,
            "object_fit": null,
            "object_position": null,
            "order": null,
            "overflow": null,
            "overflow_x": null,
            "overflow_y": null,
            "padding": null,
            "right": null,
            "top": null,
            "visibility": null,
            "width": null
          }
        },
        "c45280784651477fb1f8ee24b63b5950": {
          "model_module": "@jupyter-widgets/controls",
          "model_name": "DescriptionStyleModel",
          "model_module_version": "1.5.0",
          "state": {
            "_model_module": "@jupyter-widgets/controls",
            "_model_module_version": "1.5.0",
            "_model_name": "DescriptionStyleModel",
            "_view_count": null,
            "_view_module": "@jupyter-widgets/base",
            "_view_module_version": "1.2.0",
            "_view_name": "StyleView",
            "description_width": ""
          }
        }
      }
    }
  },
  "cells": [
    {
      "cell_type": "markdown",
      "metadata": {
        "id": "view-in-github",
        "colab_type": "text"
      },
      "source": [
        "<a href=\"https://colab.research.google.com/github/ParkEunHyeok/AI_Study/blob/main/NLP/GPT2_Chatbot_Pruning_Testing.ipynb\" target=\"_parent\"><img src=\"https://colab.research.google.com/assets/colab-badge.svg\" alt=\"Open In Colab\"/></a>"
      ]
    },
    {
      "cell_type": "code",
      "source": [
        "!nvidia-smi"
      ],
      "metadata": {
        "colab": {
          "base_uri": "https://localhost:8080/"
        },
        "id": "toJfeqecrldL",
        "outputId": "0afb25c1-1f6c-4cbb-b9f3-6c7309c2758e"
      },
      "execution_count": 1,
      "outputs": [
        {
          "output_type": "stream",
          "name": "stdout",
          "text": [
            "Sat Sep  3 17:08:28 2022       \n",
            "+-----------------------------------------------------------------------------+\n",
            "| NVIDIA-SMI 460.32.03    Driver Version: 460.32.03    CUDA Version: 11.2     |\n",
            "|-------------------------------+----------------------+----------------------+\n",
            "| GPU  Name        Persistence-M| Bus-Id        Disp.A | Volatile Uncorr. ECC |\n",
            "| Fan  Temp  Perf  Pwr:Usage/Cap|         Memory-Usage | GPU-Util  Compute M. |\n",
            "|                               |                      |               MIG M. |\n",
            "|===============================+======================+======================|\n",
            "|   0  Tesla P100-PCIE...  Off  | 00000000:00:04.0 Off |                    0 |\n",
            "| N/A   37C    P0    27W / 250W |      0MiB / 16280MiB |      0%      Default |\n",
            "|                               |                      |                  N/A |\n",
            "+-------------------------------+----------------------+----------------------+\n",
            "                                                                               \n",
            "+-----------------------------------------------------------------------------+\n",
            "| Processes:                                                                  |\n",
            "|  GPU   GI   CI        PID   Type   Process name                  GPU Memory |\n",
            "|        ID   ID                                                   Usage      |\n",
            "|=============================================================================|\n",
            "|  No running processes found                                                 |\n",
            "+-----------------------------------------------------------------------------+\n"
          ]
        }
      ]
    },
    {
      "cell_type": "code",
      "metadata": {
        "colab": {
          "base_uri": "https://localhost:8080/"
        },
        "id": "We7023A5wNz6",
        "outputId": "6b1a49dc-a9f2-43de-a374-8521ef04ca84"
      },
      "source": [
        "!pip install tqdm\n",
        "!pip install kobert-transformers==0.4.1\n",
        "!pip install kogpt2-transformers==0.3.0\n",
        "!pip install transformers==3.0.2\n",
        "!pip install torch\n",
        "!pip install tokenizers==0.8.1rc1\n",
        "!pip install kss"
      ],
      "execution_count": 2,
      "outputs": [
        {
          "output_type": "stream",
          "name": "stdout",
          "text": [
            "Looking in indexes: https://pypi.org/simple, https://us-python.pkg.dev/colab-wheels/public/simple/\n",
            "Requirement already satisfied: tqdm in /usr/local/lib/python3.7/dist-packages (4.64.0)\n",
            "Looking in indexes: https://pypi.org/simple, https://us-python.pkg.dev/colab-wheels/public/simple/\n",
            "Collecting kobert-transformers==0.4.1\n",
            "  Downloading kobert_transformers-0.4.1-py3-none-any.whl (12 kB)\n",
            "Requirement already satisfied: torch>=1.1.0 in /usr/local/lib/python3.7/dist-packages (from kobert-transformers==0.4.1) (1.12.1+cu113)\n",
            "Collecting transformers>=2.9.1\n",
            "  Downloading transformers-4.21.2-py3-none-any.whl (4.7 MB)\n",
            "\u001b[K     |████████████████████████████████| 4.7 MB 7.5 MB/s \n",
            "\u001b[?25hRequirement already satisfied: typing-extensions in /usr/local/lib/python3.7/dist-packages (from torch>=1.1.0->kobert-transformers==0.4.1) (4.1.1)\n",
            "Requirement already satisfied: requests in /usr/local/lib/python3.7/dist-packages (from transformers>=2.9.1->kobert-transformers==0.4.1) (2.23.0)\n",
            "Requirement already satisfied: pyyaml>=5.1 in /usr/local/lib/python3.7/dist-packages (from transformers>=2.9.1->kobert-transformers==0.4.1) (6.0)\n",
            "Requirement already satisfied: importlib-metadata in /usr/local/lib/python3.7/dist-packages (from transformers>=2.9.1->kobert-transformers==0.4.1) (4.12.0)\n",
            "Collecting huggingface-hub<1.0,>=0.1.0\n",
            "  Downloading huggingface_hub-0.9.1-py3-none-any.whl (120 kB)\n",
            "\u001b[K     |████████████████████████████████| 120 kB 60.8 MB/s \n",
            "\u001b[?25hRequirement already satisfied: regex!=2019.12.17 in /usr/local/lib/python3.7/dist-packages (from transformers>=2.9.1->kobert-transformers==0.4.1) (2022.6.2)\n",
            "Requirement already satisfied: tqdm>=4.27 in /usr/local/lib/python3.7/dist-packages (from transformers>=2.9.1->kobert-transformers==0.4.1) (4.64.0)\n",
            "Requirement already satisfied: packaging>=20.0 in /usr/local/lib/python3.7/dist-packages (from transformers>=2.9.1->kobert-transformers==0.4.1) (21.3)\n",
            "Requirement already satisfied: numpy>=1.17 in /usr/local/lib/python3.7/dist-packages (from transformers>=2.9.1->kobert-transformers==0.4.1) (1.21.6)\n",
            "Requirement already satisfied: filelock in /usr/local/lib/python3.7/dist-packages (from transformers>=2.9.1->kobert-transformers==0.4.1) (3.8.0)\n",
            "Collecting tokenizers!=0.11.3,<0.13,>=0.11.1\n",
            "  Downloading tokenizers-0.12.1-cp37-cp37m-manylinux_2_12_x86_64.manylinux2010_x86_64.whl (6.6 MB)\n",
            "\u001b[K     |████████████████████████████████| 6.6 MB 48.1 MB/s \n",
            "\u001b[?25hRequirement already satisfied: pyparsing!=3.0.5,>=2.0.2 in /usr/local/lib/python3.7/dist-packages (from packaging>=20.0->transformers>=2.9.1->kobert-transformers==0.4.1) (3.0.9)\n",
            "Requirement already satisfied: zipp>=0.5 in /usr/local/lib/python3.7/dist-packages (from importlib-metadata->transformers>=2.9.1->kobert-transformers==0.4.1) (3.8.1)\n",
            "Requirement already satisfied: chardet<4,>=3.0.2 in /usr/local/lib/python3.7/dist-packages (from requests->transformers>=2.9.1->kobert-transformers==0.4.1) (3.0.4)\n",
            "Requirement already satisfied: urllib3!=1.25.0,!=1.25.1,<1.26,>=1.21.1 in /usr/local/lib/python3.7/dist-packages (from requests->transformers>=2.9.1->kobert-transformers==0.4.1) (1.24.3)\n",
            "Requirement already satisfied: certifi>=2017.4.17 in /usr/local/lib/python3.7/dist-packages (from requests->transformers>=2.9.1->kobert-transformers==0.4.1) (2022.6.15)\n",
            "Requirement already satisfied: idna<3,>=2.5 in /usr/local/lib/python3.7/dist-packages (from requests->transformers>=2.9.1->kobert-transformers==0.4.1) (2.10)\n",
            "Installing collected packages: tokenizers, huggingface-hub, transformers, kobert-transformers\n",
            "Successfully installed huggingface-hub-0.9.1 kobert-transformers-0.4.1 tokenizers-0.12.1 transformers-4.21.2\n",
            "Looking in indexes: https://pypi.org/simple, https://us-python.pkg.dev/colab-wheels/public/simple/\n",
            "Collecting kogpt2-transformers==0.3.0\n",
            "  Downloading kogpt2_transformers-0.3.0-py3-none-any.whl (4.6 kB)\n",
            "Requirement already satisfied: transformers>=3.0.0 in /usr/local/lib/python3.7/dist-packages (from kogpt2-transformers==0.3.0) (4.21.2)\n",
            "Requirement already satisfied: tokenizers>=0.7.0 in /usr/local/lib/python3.7/dist-packages (from kogpt2-transformers==0.3.0) (0.12.1)\n",
            "Requirement already satisfied: torch>=1.1.0 in /usr/local/lib/python3.7/dist-packages (from kogpt2-transformers==0.3.0) (1.12.1+cu113)\n",
            "Requirement already satisfied: typing-extensions in /usr/local/lib/python3.7/dist-packages (from torch>=1.1.0->kogpt2-transformers==0.3.0) (4.1.1)\n",
            "Requirement already satisfied: pyyaml>=5.1 in /usr/local/lib/python3.7/dist-packages (from transformers>=3.0.0->kogpt2-transformers==0.3.0) (6.0)\n",
            "Requirement already satisfied: numpy>=1.17 in /usr/local/lib/python3.7/dist-packages (from transformers>=3.0.0->kogpt2-transformers==0.3.0) (1.21.6)\n",
            "Requirement already satisfied: packaging>=20.0 in /usr/local/lib/python3.7/dist-packages (from transformers>=3.0.0->kogpt2-transformers==0.3.0) (21.3)\n",
            "Requirement already satisfied: regex!=2019.12.17 in /usr/local/lib/python3.7/dist-packages (from transformers>=3.0.0->kogpt2-transformers==0.3.0) (2022.6.2)\n",
            "Requirement already satisfied: requests in /usr/local/lib/python3.7/dist-packages (from transformers>=3.0.0->kogpt2-transformers==0.3.0) (2.23.0)\n",
            "Requirement already satisfied: tqdm>=4.27 in /usr/local/lib/python3.7/dist-packages (from transformers>=3.0.0->kogpt2-transformers==0.3.0) (4.64.0)\n",
            "Requirement already satisfied: huggingface-hub<1.0,>=0.1.0 in /usr/local/lib/python3.7/dist-packages (from transformers>=3.0.0->kogpt2-transformers==0.3.0) (0.9.1)\n",
            "Requirement already satisfied: importlib-metadata in /usr/local/lib/python3.7/dist-packages (from transformers>=3.0.0->kogpt2-transformers==0.3.0) (4.12.0)\n",
            "Requirement already satisfied: filelock in /usr/local/lib/python3.7/dist-packages (from transformers>=3.0.0->kogpt2-transformers==0.3.0) (3.8.0)\n",
            "Requirement already satisfied: pyparsing!=3.0.5,>=2.0.2 in /usr/local/lib/python3.7/dist-packages (from packaging>=20.0->transformers>=3.0.0->kogpt2-transformers==0.3.0) (3.0.9)\n",
            "Requirement already satisfied: zipp>=0.5 in /usr/local/lib/python3.7/dist-packages (from importlib-metadata->transformers>=3.0.0->kogpt2-transformers==0.3.0) (3.8.1)\n",
            "Requirement already satisfied: chardet<4,>=3.0.2 in /usr/local/lib/python3.7/dist-packages (from requests->transformers>=3.0.0->kogpt2-transformers==0.3.0) (3.0.4)\n",
            "Requirement already satisfied: urllib3!=1.25.0,!=1.25.1,<1.26,>=1.21.1 in /usr/local/lib/python3.7/dist-packages (from requests->transformers>=3.0.0->kogpt2-transformers==0.3.0) (1.24.3)\n",
            "Requirement already satisfied: certifi>=2017.4.17 in /usr/local/lib/python3.7/dist-packages (from requests->transformers>=3.0.0->kogpt2-transformers==0.3.0) (2022.6.15)\n",
            "Requirement already satisfied: idna<3,>=2.5 in /usr/local/lib/python3.7/dist-packages (from requests->transformers>=3.0.0->kogpt2-transformers==0.3.0) (2.10)\n",
            "Installing collected packages: kogpt2-transformers\n",
            "Successfully installed kogpt2-transformers-0.3.0\n",
            "Looking in indexes: https://pypi.org/simple, https://us-python.pkg.dev/colab-wheels/public/simple/\n",
            "Collecting transformers==3.0.2\n",
            "  Downloading transformers-3.0.2-py3-none-any.whl (769 kB)\n",
            "\u001b[K     |████████████████████████████████| 769 kB 8.1 MB/s \n",
            "\u001b[?25hRequirement already satisfied: numpy in /usr/local/lib/python3.7/dist-packages (from transformers==3.0.2) (1.21.6)\n",
            "Requirement already satisfied: requests in /usr/local/lib/python3.7/dist-packages (from transformers==3.0.2) (2.23.0)\n",
            "Requirement already satisfied: tqdm>=4.27 in /usr/local/lib/python3.7/dist-packages (from transformers==3.0.2) (4.64.0)\n",
            "Collecting sacremoses\n",
            "  Downloading sacremoses-0.0.53.tar.gz (880 kB)\n",
            "\u001b[K     |████████████████████████████████| 880 kB 61.8 MB/s \n",
            "\u001b[?25hCollecting tokenizers==0.8.1.rc1\n",
            "  Downloading tokenizers-0.8.1rc1-cp37-cp37m-manylinux1_x86_64.whl (3.0 MB)\n",
            "\u001b[K     |████████████████████████████████| 3.0 MB 66.3 MB/s \n",
            "\u001b[?25hRequirement already satisfied: regex!=2019.12.17 in /usr/local/lib/python3.7/dist-packages (from transformers==3.0.2) (2022.6.2)\n",
            "Requirement already satisfied: filelock in /usr/local/lib/python3.7/dist-packages (from transformers==3.0.2) (3.8.0)\n",
            "Collecting sentencepiece!=0.1.92\n",
            "  Downloading sentencepiece-0.1.97-cp37-cp37m-manylinux_2_17_x86_64.manylinux2014_x86_64.whl (1.3 MB)\n",
            "\u001b[K     |████████████████████████████████| 1.3 MB 84.7 MB/s \n",
            "\u001b[?25hRequirement already satisfied: packaging in /usr/local/lib/python3.7/dist-packages (from transformers==3.0.2) (21.3)\n",
            "Requirement already satisfied: pyparsing!=3.0.5,>=2.0.2 in /usr/local/lib/python3.7/dist-packages (from packaging->transformers==3.0.2) (3.0.9)\n",
            "Requirement already satisfied: certifi>=2017.4.17 in /usr/local/lib/python3.7/dist-packages (from requests->transformers==3.0.2) (2022.6.15)\n",
            "Requirement already satisfied: idna<3,>=2.5 in /usr/local/lib/python3.7/dist-packages (from requests->transformers==3.0.2) (2.10)\n",
            "Requirement already satisfied: chardet<4,>=3.0.2 in /usr/local/lib/python3.7/dist-packages (from requests->transformers==3.0.2) (3.0.4)\n",
            "Requirement already satisfied: urllib3!=1.25.0,!=1.25.1,<1.26,>=1.21.1 in /usr/local/lib/python3.7/dist-packages (from requests->transformers==3.0.2) (1.24.3)\n",
            "Requirement already satisfied: six in /usr/local/lib/python3.7/dist-packages (from sacremoses->transformers==3.0.2) (1.15.0)\n",
            "Requirement already satisfied: click in /usr/local/lib/python3.7/dist-packages (from sacremoses->transformers==3.0.2) (7.1.2)\n",
            "Requirement already satisfied: joblib in /usr/local/lib/python3.7/dist-packages (from sacremoses->transformers==3.0.2) (1.1.0)\n",
            "Building wheels for collected packages: sacremoses\n",
            "  Building wheel for sacremoses (setup.py) ... \u001b[?25l\u001b[?25hdone\n",
            "  Created wheel for sacremoses: filename=sacremoses-0.0.53-py3-none-any.whl size=895260 sha256=da02c5807e36fb91a38a9b35e489b27e3349dbcc83b68f6b971d48332d6b3404\n",
            "  Stored in directory: /root/.cache/pip/wheels/87/39/dd/a83eeef36d0bf98e7a4d1933a4ad2d660295a40613079bafc9\n",
            "Successfully built sacremoses\n",
            "Installing collected packages: tokenizers, sentencepiece, sacremoses, transformers\n",
            "  Attempting uninstall: tokenizers\n",
            "    Found existing installation: tokenizers 0.12.1\n",
            "    Uninstalling tokenizers-0.12.1:\n",
            "      Successfully uninstalled tokenizers-0.12.1\n",
            "  Attempting uninstall: transformers\n",
            "    Found existing installation: transformers 4.21.2\n",
            "    Uninstalling transformers-4.21.2:\n",
            "      Successfully uninstalled transformers-4.21.2\n",
            "Successfully installed sacremoses-0.0.53 sentencepiece-0.1.97 tokenizers-0.8.1rc1 transformers-3.0.2\n",
            "Looking in indexes: https://pypi.org/simple, https://us-python.pkg.dev/colab-wheels/public/simple/\n",
            "Requirement already satisfied: torch in /usr/local/lib/python3.7/dist-packages (1.12.1+cu113)\n",
            "Requirement already satisfied: typing-extensions in /usr/local/lib/python3.7/dist-packages (from torch) (4.1.1)\n",
            "Looking in indexes: https://pypi.org/simple, https://us-python.pkg.dev/colab-wheels/public/simple/\n",
            "Requirement already satisfied: tokenizers==0.8.1rc1 in /usr/local/lib/python3.7/dist-packages (0.8.1rc1)\n",
            "Looking in indexes: https://pypi.org/simple, https://us-python.pkg.dev/colab-wheels/public/simple/\n",
            "Collecting kss\n",
            "  Downloading kss-3.5.6.tar.gz (42.4 MB)\n",
            "\u001b[K     |████████████████████████████████| 42.4 MB 397 kB/s \n",
            "\u001b[?25hCollecting emoji==1.2.0\n",
            "  Downloading emoji-1.2.0-py3-none-any.whl (131 kB)\n",
            "\u001b[K     |████████████████████████████████| 131 kB 72.6 MB/s \n",
            "\u001b[?25hRequirement already satisfied: regex in /usr/local/lib/python3.7/dist-packages (from kss) (2022.6.2)\n",
            "Requirement already satisfied: more_itertools in /usr/local/lib/python3.7/dist-packages (from kss) (8.14.0)\n",
            "Building wheels for collected packages: kss\n",
            "  Building wheel for kss (setup.py) ... \u001b[?25l\u001b[?25hdone\n",
            "  Created wheel for kss: filename=kss-3.5.6-py3-none-any.whl size=42448525 sha256=9d87a98b6fc13be3be138764c5bc67174a599ce94669f15f2d55667adb0a824c\n",
            "  Stored in directory: /root/.cache/pip/wheels/f7/1e/7d/a31add1236183845fb9b2dfadd50636429a5fbcabd5f341c86\n",
            "Successfully built kss\n",
            "Installing collected packages: emoji, kss\n",
            "Successfully installed emoji-1.2.0 kss-3.5.6\n"
          ]
        }
      ]
    },
    {
      "cell_type": "code",
      "source": [
        "!pip install konlpy"
      ],
      "metadata": {
        "colab": {
          "base_uri": "https://localhost:8080/"
        },
        "id": "NuaJ6kGlrYnb",
        "outputId": "915e1ac9-061e-489d-b430-a836141e9046"
      },
      "execution_count": 3,
      "outputs": [
        {
          "output_type": "stream",
          "name": "stdout",
          "text": [
            "Looking in indexes: https://pypi.org/simple, https://us-python.pkg.dev/colab-wheels/public/simple/\n",
            "Collecting konlpy\n",
            "  Downloading konlpy-0.6.0-py2.py3-none-any.whl (19.4 MB)\n",
            "\u001b[K     |████████████████████████████████| 19.4 MB 84 kB/s \n",
            "\u001b[?25hRequirement already satisfied: lxml>=4.1.0 in /usr/local/lib/python3.7/dist-packages (from konlpy) (4.9.1)\n",
            "Collecting JPype1>=0.7.0\n",
            "  Downloading JPype1-1.4.0-cp37-cp37m-manylinux_2_5_x86_64.manylinux1_x86_64.whl (453 kB)\n",
            "\u001b[K     |████████████████████████████████| 453 kB 93.3 MB/s \n",
            "\u001b[?25hRequirement already satisfied: numpy>=1.6 in /usr/local/lib/python3.7/dist-packages (from konlpy) (1.21.6)\n",
            "Requirement already satisfied: typing-extensions in /usr/local/lib/python3.7/dist-packages (from JPype1>=0.7.0->konlpy) (4.1.1)\n",
            "Installing collected packages: JPype1, konlpy\n",
            "Successfully installed JPype1-1.4.0 konlpy-0.6.0\n"
          ]
        }
      ]
    },
    {
      "cell_type": "code",
      "metadata": {
        "colab": {
          "base_uri": "https://localhost:8080/"
        },
        "id": "BS9l6LkNwlnj",
        "outputId": "7b40cb32-249f-4674-a4d0-f84fb6031f16"
      },
      "source": [
        "# 구글 드라이브 연결\n",
        "import os\n",
        "import numpy as np\n",
        "from tqdm import tqdm\n",
        "from google.colab import drive\n",
        "drive.mount('/content/gdrive/')\n",
        "path = \"gdrive/My Drive/Colab Notebooks/HelloNewWorld/gpt\""
      ],
      "execution_count": 4,
      "outputs": [
        {
          "output_type": "stream",
          "name": "stdout",
          "text": [
            "Mounted at /content/gdrive/\n"
          ]
        }
      ]
    },
    {
      "cell_type": "code",
      "metadata": {
        "id": "8C27S2uXv70f"
      },
      "source": [
        "import os\n",
        "import numpy as np\n",
        "import torch\n",
        "import torch.nn as nn\n",
        "from kogpt2_transformers import get_kogpt2_tokenizer, get_kogpt2_model\n",
        "import torch.nn.utils.prune as prune"
      ],
      "execution_count": 5,
      "outputs": []
    },
    {
      "cell_type": "code",
      "metadata": {
        "id": "7Cbhh1nLw52U"
      },
      "source": [
        "class DialogKoGPT2(nn.Module):\n",
        "  def __init__(self):\n",
        "    super(DialogKoGPT2, self).__init__()\n",
        "    self.kogpt2 = get_kogpt2_model()\n",
        "\n",
        "  def generate(self,\n",
        "               input_ids,\n",
        "               do_sample=True,\n",
        "               max_length= 60,\n",
        "               top_p=0.92,\n",
        "               top_k=50,\n",
        "               temperature= 0.6,\n",
        "               no_repeat_ngram_size = None,\n",
        "               num_return_sequences=2,\n",
        "               early_stopping=False,\n",
        "               ):\n",
        "    return self.kogpt2.generate(input_ids,\n",
        "               do_sample=do_sample,\n",
        "               max_length=max_length,\n",
        "               top_p = top_p,\n",
        "               top_k=top_k,\n",
        "               temperature=temperature,\n",
        "               no_repeat_ngram_size= no_repeat_ngram_size,\n",
        "               num_return_sequences=num_return_sequences,\n",
        "               early_stopping = early_stopping,\n",
        "              )\n",
        "\n",
        "  def forward(self, input, labels = None):\n",
        "    if labels is not None:\n",
        "      outputs = self.kogpt2(input, labels=labels)\n",
        "    else:\n",
        "      outputs = self.kogpt2(input)\n",
        "\n",
        "    return outputs"
      ],
      "execution_count": 6,
      "outputs": []
    },
    {
      "cell_type": "code",
      "source": [
        "# Global Pruning 적용\n",
        "ctx = \"cuda\" if torch.cuda.is_available() else \"cpu\"\n",
        "device = torch.device(ctx)\n",
        "\n",
        "model = DialogKoGPT2()\n",
        "model.to(device)\n",
        "\n",
        "parameters_to_prune = ()\n",
        "for i in range(12):\n",
        "    parameters_to_prune += (\n",
        "        (model.kogpt2.transformer.h[i].attn.c_attn, 'weight'),\n",
        "        (model.kogpt2.transformer.h[i].attn.c_proj, 'weight'),\n",
        "    )\n",
        "\n",
        "prune.global_unstructured(\n",
        "    parameters_to_prune,\n",
        "    pruning_method=prune.L1Unstructured,\n",
        "    amount=0.2,\n",
        ")"
      ],
      "metadata": {
        "id": "mSZM5IVbs6l1",
        "colab": {
          "base_uri": "https://localhost:8080/",
          "height": 81,
          "referenced_widgets": [
            "64d3eb5fc84a41bbaba13c8e3e5ffbd8",
            "a022fbec578d45a58bfb029343f0e31b",
            "98c5f893f24046998d7e6b28f70ca596",
            "63408f9a1efd402eb4db5a0df3d4fc34",
            "cbc35b4028f84e7b8aa733fc13c345d6",
            "664b089857684e98be759bd64503bb6d",
            "281fea1c8298482db00c3b1dd16bbea4",
            "4872f00c147b4e73bce599f1123dbb51",
            "46baffd410a547bcb9bfe53b25c60d10",
            "49293350dd964d409efb4619932581aa",
            "e4d2c8ccb4c347ca9635b43795cd7a97",
            "0e2fe4ba7edb4298a573b3680b52045c",
            "47b9e2da707246a6938a8217909ab315",
            "3fc511b16abb41bea6122ab9965f84c1",
            "8f9b7ca4c5944d92977837bb5fe5e6ec",
            "d51d24f1472f49c0a753bad149ec2cd8",
            "d55c4b9872384df4a47680a8fefbb108",
            "a5f00aaf70714a81b2436436c0019aa8",
            "4c3bf13ca3b2494a92cc5c3ce3b30578",
            "6617745746f6413f81f927a4cf951eb6",
            "239139e8cfe94ab488ea930cd5fa2e2a",
            "f5f8bc4640bd4eb58314b990a26dce9b"
          ]
        },
        "outputId": "5efdd2fa-703f-4bc1-fd49-dde7ff14af07"
      },
      "execution_count": 7,
      "outputs": [
        {
          "output_type": "display_data",
          "data": {
            "text/plain": [
              "Downloading:   0%|          | 0.00/577 [00:00<?, ?B/s]"
            ],
            "application/vnd.jupyter.widget-view+json": {
              "version_major": 2,
              "version_minor": 0,
              "model_id": "64d3eb5fc84a41bbaba13c8e3e5ffbd8"
            }
          },
          "metadata": {}
        },
        {
          "output_type": "display_data",
          "data": {
            "text/plain": [
              "Downloading:   0%|          | 0.00/510M [00:00<?, ?B/s]"
            ],
            "application/vnd.jupyter.widget-view+json": {
              "version_major": 2,
              "version_minor": 0,
              "model_id": "0e2fe4ba7edb4298a573b3680b52045c"
            }
          },
          "metadata": {}
        }
      ]
    },
    {
      "cell_type": "code",
      "source": [
        "# Global Pruning을 통해 전체 Sparsity를 20%로 만들 수 있음을 알 수 있음.\n",
        "\n",
        "for i in range(12):\n",
        "    print(\n",
        "        \"Sparsity in Layer {}-th c_attn weight: {:.2f}%\".format(\n",
        "            i+1,\n",
        "            100. * float(torch.sum(model.kogpt2.transformer.h[i].attn.c_attn.weight == 0))\n",
        "            / float(model.kogpt2.transformer.h[i].attn.c_attn.weight.nelement())\n",
        "        )\n",
        "    )\n",
        "    print(\n",
        "        \"Sparsity in Layer {}-th c_proj weight: {:.2f}%\".format(\n",
        "            i+1,\n",
        "            100. * float(torch.sum(model.kogpt2.transformer.h[i].attn.c_proj.weight == 0))\n",
        "            / float(model.kogpt2.transformer.h[i].attn.c_proj.weight.nelement())\n",
        "        )\n",
        "    )\n",
        "    print()\n",
        "\n",
        "    \n",
        "numerator, denominator = 0, 0\n",
        "for i in range(12):\n",
        "    numerator += torch.sum(model.kogpt2.transformer.h[i].attn.c_attn.weight == 0)\n",
        "    numerator += torch.sum(model.kogpt2.transformer.h[i].attn.c_proj.weight == 0)\n",
        "\n",
        "    denominator += model.kogpt2.transformer.h[i].attn.c_attn.weight.nelement()\n",
        "    denominator += model.kogpt2.transformer.h[i].attn.c_proj.weight.nelement()\n",
        "    \n",
        "print(\"Global sparsity: {:.2f}%\".format(100. * float(numerator) / float(denominator)))"
      ],
      "metadata": {
        "colab": {
          "base_uri": "https://localhost:8080/"
        },
        "id": "xhXIMXdDtAM_",
        "outputId": "50816e68-0eb6-4f30-9ac0-6fdad85aebff"
      },
      "execution_count": 8,
      "outputs": [
        {
          "output_type": "stream",
          "name": "stdout",
          "text": [
            "Sparsity in Layer 1-th c_attn weight: 28.47%\n",
            "Sparsity in Layer 1-th c_proj weight: 65.74%\n",
            "\n",
            "Sparsity in Layer 2-th c_attn weight: 20.61%\n",
            "Sparsity in Layer 2-th c_proj weight: 24.94%\n",
            "\n",
            "Sparsity in Layer 3-th c_attn weight: 18.73%\n",
            "Sparsity in Layer 3-th c_proj weight: 27.17%\n",
            "\n",
            "Sparsity in Layer 4-th c_attn weight: 17.68%\n",
            "Sparsity in Layer 4-th c_proj weight: 23.86%\n",
            "\n",
            "Sparsity in Layer 5-th c_attn weight: 17.33%\n",
            "Sparsity in Layer 5-th c_proj weight: 21.64%\n",
            "\n",
            "Sparsity in Layer 6-th c_attn weight: 17.04%\n",
            "Sparsity in Layer 6-th c_proj weight: 19.34%\n",
            "\n",
            "Sparsity in Layer 7-th c_attn weight: 17.24%\n",
            "Sparsity in Layer 7-th c_proj weight: 18.92%\n",
            "\n",
            "Sparsity in Layer 8-th c_attn weight: 17.60%\n",
            "Sparsity in Layer 8-th c_proj weight: 19.29%\n",
            "\n",
            "Sparsity in Layer 9-th c_attn weight: 16.98%\n",
            "Sparsity in Layer 9-th c_proj weight: 19.14%\n",
            "\n",
            "Sparsity in Layer 10-th c_attn weight: 17.09%\n",
            "Sparsity in Layer 10-th c_proj weight: 17.16%\n",
            "\n",
            "Sparsity in Layer 11-th c_attn weight: 17.65%\n",
            "Sparsity in Layer 11-th c_proj weight: 15.29%\n",
            "\n",
            "Sparsity in Layer 12-th c_attn weight: 17.77%\n",
            "Sparsity in Layer 12-th c_proj weight: 14.94%\n",
            "\n",
            "Global sparsity: 20.00%\n"
          ]
        }
      ]
    },
    {
      "cell_type": "code",
      "metadata": {
        "id": "qRjjr-vTwVz0",
        "colab": {
          "base_uri": "https://localhost:8080/",
          "height": 145,
          "referenced_widgets": [
            "5dcfdf3865424a2b8ea3227f713b9180",
            "efe809dd054d4fd79a20482ba07a5feb",
            "03c6395cc41b4ed1bd32410417bb9bd7",
            "f31acffedba9415e9f676c68b66838fe",
            "88c12ac4bac44cb981034561457f7c9f",
            "c2ce974415d7400ea52e70bc9b5796c3",
            "92c2ab3708ed40c49d9eb91f527cd1eb",
            "1d2d146dd7cd456db1bee0f9bf5d74e8",
            "0b5d035d27d241db830179a28bd6258c",
            "696dc456b4c847cf9657e5aa5fc8824d",
            "592bff07be044235b036def4b2ca4a80",
            "6d12e4f8f14943bab2729e025e614b9c",
            "289a07cdb91c4d03aed2473b75bc396f",
            "30ec9ae8fa70423ab00e7aeaa41f24d4",
            "0c0ae9d6db9245b9afe1bb4b39cf6172",
            "babd7f0b74364f90ab051616835f90d9",
            "b230a61c9146487292a71710110ce4d6",
            "d5c21d3913154a13a237bf288682fefd",
            "c8f0ab12de7741bb9f1fdfe2a223cbf4",
            "f49bcb7d183e41d7944fd38ec2dbdabc",
            "c06da4c463724680975b946fb7db3241",
            "c569b4b550274b569953f96384d0656a",
            "d9ef64859a554b088e44cd10c3d9a7a9",
            "1d6a6c407cc54d4582a68558abc987b2",
            "0e9cbf5270c14ed992e7bb774c1ac6f5",
            "ed188767254a4b9190e3f910c940a09a",
            "a2ec701b65e349cc81ebbc46fc4b2053",
            "421c21d9eb844d26b680e8697138d94b",
            "5c1c5f0ada76497a85486a3be8204806",
            "594d2ed285c04496beb737df3dcf78c5",
            "1e65b3758ce345a0b87e6ab332c0e691",
            "8b371cb2726b4549a919b0426ebb3df3",
            "585764b9de3c4778b1edd237c5eaf7da",
            "f6c9dbb928004f43b33c147bf0a201b9",
            "8baba6861e644c549717911c96e0825f",
            "44ef578e87054e7f94ac2f4b96a24c4e",
            "d2df973eb3f44ce69d5a39b25158808a",
            "a8f7455c65bb43c0bc2aa7735d5f35e9",
            "5bca14c5e805428bb07c0d44679fe489",
            "c99ab584201b4c1e9753d9f3bc02df45",
            "8087e6ee35354718983a2f3d20612ef0",
            "df7bd702a4e64ef38b295b064eeb3ed1",
            "f622fde0420c4b95b854880f1356eddb",
            "c45280784651477fb1f8ee24b63b5950"
          ]
        },
        "outputId": "8f68210f-843d-4184-c7f9-c95212c78f4f"
      },
      "source": [
        "root_path=path\n",
        "data_path = f\"{root_path}/data/chatbot_wellness_dialog_for_autoregressive.txt\"\n",
        "checkpoint_path =f\"{root_path}/checkpoint\"\n",
        "# save_ckpt_path = f\"{checkpoint_path}/kogpt2-wellnesee-auto-regressive-20210922-add-chatbotdata.pth\"\n",
        "save_ckpt_path = f\"{checkpoint_path}/kogpt2-20220710-add-chatbotdata.pth\"\n",
        "\n",
        "ctx = \"cuda\" if torch.cuda.is_available() else \"cpu\"\n",
        "device = torch.device(ctx)\n",
        "\n",
        "# 저장한 Checkpoint 불러오기\n",
        "checkpoint = torch.load(save_ckpt_path, map_location=device)\n",
        "\n",
        "model.load_state_dict(checkpoint['model_state_dict'])\n",
        "model.to(device)\n",
        "model.eval()\n",
        "\n",
        "tokenizer = get_kogpt2_tokenizer()\n",
        "\n",
        "count = 0\n",
        "output_size = 200 # 출력하고자 하는 토큰 갯수"
      ],
      "execution_count": 9,
      "outputs": [
        {
          "output_type": "display_data",
          "data": {
            "text/plain": [
              "Downloading:   0%|          | 0.00/920k [00:00<?, ?B/s]"
            ],
            "application/vnd.jupyter.widget-view+json": {
              "version_major": 2,
              "version_minor": 0,
              "model_id": "5dcfdf3865424a2b8ea3227f713b9180"
            }
          },
          "metadata": {}
        },
        {
          "output_type": "display_data",
          "data": {
            "text/plain": [
              "Downloading:   0%|          | 0.00/849k [00:00<?, ?B/s]"
            ],
            "application/vnd.jupyter.widget-view+json": {
              "version_major": 2,
              "version_minor": 0,
              "model_id": "6d12e4f8f14943bab2729e025e614b9c"
            }
          },
          "metadata": {}
        },
        {
          "output_type": "display_data",
          "data": {
            "text/plain": [
              "Downloading:   0%|          | 0.00/85.0 [00:00<?, ?B/s]"
            ],
            "application/vnd.jupyter.widget-view+json": {
              "version_major": 2,
              "version_minor": 0,
              "model_id": "d9ef64859a554b088e44cd10c3d9a7a9"
            }
          },
          "metadata": {}
        },
        {
          "output_type": "display_data",
          "data": {
            "text/plain": [
              "Downloading:   0%|          | 0.00/109 [00:00<?, ?B/s]"
            ],
            "application/vnd.jupyter.widget-view+json": {
              "version_major": 2,
              "version_minor": 0,
              "model_id": "f6c9dbb928004f43b33c147bf0a201b9"
            }
          },
          "metadata": {}
        }
      ]
    },
    {
      "cell_type": "code",
      "metadata": {
        "colab": {
          "base_uri": "https://localhost:8080/",
          "height": 1000
        },
        "id": "XjbY2lwZxF5l",
        "outputId": "2ca51bd9-795d-4659-faa8-e4bd8cda1e39"
      },
      "source": [
        "while 1:\n",
        "#for i in range(5):\n",
        "  sent = input('Question: ')  # '요즘 기분이 우울한 느낌이에요'\n",
        "  tokenized_indexs = tokenizer.encode(sent)\n",
        "\n",
        "  input_ids = torch.tensor([tokenizer.bos_token_id,]  + tokenized_indexs +[tokenizer.eos_token_id]).unsqueeze(0).to(device)\n",
        "  # set top_k to 50\n",
        "  sample_output = model.generate(\n",
        "      input_ids=input_ids\n",
        "      ).to(device)\n",
        "\n",
        "\n",
        "  print(\"Answer: \" + tokenizer.decode(sample_output[0].tolist()[len(tokenized_indexs)+1:],skip_special_tokens=True))\n",
        "  print(100 * '-')\n",
        "  # print(sample_output.shape)\n",
        "\n",
        "# for s in kss.split_sentences(sent):\n",
        "#     print(s)"
      ],
      "execution_count": 22,
      "outputs": [
        {
          "name": "stdout",
          "output_type": "stream",
          "text": [
            "Question: 안 그래도 몸이 안 좋은데 잠까지 설치니까 진짜…너무 힘들어.\n"
          ]
        },
        {
          "output_type": "stream",
          "name": "stderr",
          "text": [
            "WARNING:transformers.generation_utils:Setting `pad_token_id` to 50256 (first `eos_token_id`) to generate sequence\n"
          ]
        },
        {
          "name": "stdout",
          "output_type": "stream",
          "text": [
            "Answer: 많이 힘들어 보여요. 힘든 일이 있으면 저에게 털어놓으세요.많이 지쳤나봐요. 곧 기운낼 수 있을 거예요.많이 지쳤나봐요. 곧 기운낼\n",
            "----------------------------------------------------------------------------------------------------\n",
            "Question: 앉아 있으면 그나마 좀 덜해서 침대에 거의 앉아서 자는데 그것도 너무 힘들어요.\n"
          ]
        },
        {
          "output_type": "stream",
          "name": "stderr",
          "text": [
            "WARNING:transformers.generation_utils:Setting `pad_token_id` to 50256 (first `eos_token_id`) to generate sequence\n"
          ]
        },
        {
          "name": "stdout",
          "output_type": "stream",
          "text": [
            "Answer: 가슴이 답답하겠어요. 얼른 시간이 지나버렸으면 좋겠어요.가슴이 답답하면 정말 생활이 불편하죠. 스트레스를 너무 많이 받는다면 고민이 많으시겠어요.\n",
            "----------------------------------------------------------------------------------------------------\n",
            "Question: 너무 힘들었어요.\n"
          ]
        },
        {
          "output_type": "stream",
          "name": "stderr",
          "text": [
            "WARNING:transformers.generation_utils:Setting `pad_token_id` to 50256 (first `eos_token_id`) to generate sequence\n"
          ]
        },
        {
          "name": "stdout",
          "output_type": "stream",
          "text": [
            "Answer: 많이 힘들어 보여요. 힘든 일이 있으면 저에게 털어놓으세요.많이 힘들어 보여요. 힘든 일이 있으면 저에게 털어놓으세요.많이 답답하시겠어요.그런 일이 있으셨군요.그런 일이 있으셨\n",
            "----------------------------------------------------------------------------------------------------\n",
            "Question: 그런데 그래도 힘들고.. 너무 지쳐.\n"
          ]
        },
        {
          "output_type": "stream",
          "name": "stderr",
          "text": [
            "WARNING:transformers.generation_utils:Setting `pad_token_id` to 50256 (first `eos_token_id`) to generate sequence\n"
          ]
        },
        {
          "name": "stdout",
          "output_type": "stream",
          "text": [
            "Answer: 그런 일이 있으셨군요. 조금씩 나아질 거라고 믿어요.힘든 일은 오래 겪으셨어요. 조금씩 나아질 거라고 믿어요.지금은 괜찮으세요? 아직 많이 힘드시겠어요. 하지만 저는\n",
            "----------------------------------------------------------------------------------------------------\n",
            "Question: 최근에 아픈 날이 많아진 거 같아.\n"
          ]
        },
        {
          "output_type": "stream",
          "name": "stderr",
          "text": [
            "WARNING:transformers.generation_utils:Setting `pad_token_id` to 50256 (first `eos_token_id`) to generate sequence\n"
          ]
        },
        {
          "name": "stdout",
          "output_type": "stream",
          "text": [
            "Answer: 그러셨군요. 몸이 아프면 덩달아 마음도 힘들어지는 것 같아요.그런 일이 있으셨군요. 조금씩 나아질 거라고 믿어요. 지금은 괜찮으신가요? 괜찮으시다니 정말 다행이에요.\n",
            "----------------------------------------------------------------------------------------------------\n",
            "Question: 돈 버는 건 힘들어도 쓰는 건 한순간이더라구.\n"
          ]
        },
        {
          "output_type": "stream",
          "name": "stderr",
          "text": [
            "WARNING:transformers.generation_utils:Setting `pad_token_id` to 50256 (first `eos_token_id`) to generate sequence\n"
          ]
        },
        {
          "name": "stdout",
          "output_type": "stream",
          "text": [
            "Answer: 마음이 힘드시겠어요. 그럴 때는 정말 기댈 곳을 찾고 싶어져요. 주저앉지 마세요. 그곳에서 배우는게 좋겠어요. 용기를 드릴게요.우리가 사랑했던\n",
            "----------------------------------------------------------------------------------------------------\n",
            "Question: 남친한테 먼저 헤어지자고 했어.\n"
          ]
        },
        {
          "output_type": "stream",
          "name": "stderr",
          "text": [
            "WARNING:transformers.generation_utils:Setting `pad_token_id` to 50256 (first `eos_token_id`) to generate sequence\n"
          ]
        },
        {
          "name": "stdout",
          "output_type": "stream",
          "text": [
            "Answer: 그렇군요. 서로 오래 모른다고나 할까요?좀 더 알아보고 하세요.더 들려주세요. 더 말씀해주세요. 더 말씀해주세요. 더 말씀해주세요. 더 말씀해주세요.\n",
            "----------------------------------------------------------------------------------------------------\n",
            "Question: 그 새끼가 옆에 젊은 여자 끼고 술을 마시고 있더라구.\n"
          ]
        },
        {
          "output_type": "stream",
          "name": "stderr",
          "text": [
            "WARNING:transformers.generation_utils:Setting `pad_token_id` to 50256 (first `eos_token_id`) to generate sequence\n"
          ]
        },
        {
          "name": "stdout",
          "output_type": "stream",
          "text": [
            "Answer: 그렇군요. 고민이 많으시겠어요. 다른 방법으로 노력을 해보는 건 어떠세요? 용기를 내봐요. 지금 만나보세요. 네, 그렇군요. 그러면요. 조금 기다\n",
            "----------------------------------------------------------------------------------------------------\n",
            "Question: 약을 끊었더니 증상이 예전보다 더 심해진 것 같아.\n"
          ]
        },
        {
          "output_type": "stream",
          "name": "stderr",
          "text": [
            "WARNING:transformers.generation_utils:Setting `pad_token_id` to 50256 (first `eos_token_id`) to generate sequence\n"
          ]
        },
        {
          "name": "stdout",
          "output_type": "stream",
          "text": [
            "Answer: 너무 심하시면 병원을 다시 가보는 건 어떨까요? 검사 결과는 좋으면 계속 곁에 있어요. 당신의 마음도 조금 나아질 거예요. 당신의 마음도 조금 나아질 거예요. 당신의 마음도 변화가 있으\n",
            "----------------------------------------------------------------------------------------------------\n",
            "Question: 특별히 뭐 잘 못 먹은 것도 아닌데 속이 안 좋아요.\n"
          ]
        },
        {
          "output_type": "stream",
          "name": "stderr",
          "text": [
            "WARNING:transformers.generation_utils:Setting `pad_token_id` to 50256 (first `eos_token_id`) to generate sequence\n"
          ]
        },
        {
          "output_type": "stream",
          "name": "stdout",
          "text": [
            "Answer: 소화 기능에 뭔가 문제가 생긴 건 아닐까요? 병원 진찰을 권유해드립니다. 당신의 건망증이 심하셨군요. 혹시 괜찮으신가요? 혹시 괜찮으시다면 저에게 말해보세요\n",
            "----------------------------------------------------------------------------------------------------\n"
          ]
        },
        {
          "output_type": "error",
          "ename": "KeyboardInterrupt",
          "evalue": "ignored",
          "traceback": [
            "\u001b[0;31m---------------------------------------------------------------------------\u001b[0m",
            "\u001b[0;31mKeyboardInterrupt\u001b[0m                         Traceback (most recent call last)",
            "\u001b[0;32m<ipython-input-22-8675686c2864>\u001b[0m in \u001b[0;36m<module>\u001b[0;34m\u001b[0m\n\u001b[1;32m      1\u001b[0m \u001b[0;32mwhile\u001b[0m \u001b[0;36m1\u001b[0m\u001b[0;34m:\u001b[0m\u001b[0;34m\u001b[0m\u001b[0;34m\u001b[0m\u001b[0m\n\u001b[1;32m      2\u001b[0m \u001b[0;31m#for i in range(5):\u001b[0m\u001b[0;34m\u001b[0m\u001b[0;34m\u001b[0m\u001b[0;34m\u001b[0m\u001b[0m\n\u001b[0;32m----> 3\u001b[0;31m   \u001b[0msent\u001b[0m \u001b[0;34m=\u001b[0m \u001b[0minput\u001b[0m\u001b[0;34m(\u001b[0m\u001b[0;34m'Question: '\u001b[0m\u001b[0;34m)\u001b[0m  \u001b[0;31m# '요즘 기분이 우울한 느낌이에요'\u001b[0m\u001b[0;34m\u001b[0m\u001b[0;34m\u001b[0m\u001b[0m\n\u001b[0m\u001b[1;32m      4\u001b[0m   \u001b[0mtokenized_indexs\u001b[0m \u001b[0;34m=\u001b[0m \u001b[0mtokenizer\u001b[0m\u001b[0;34m.\u001b[0m\u001b[0mencode\u001b[0m\u001b[0;34m(\u001b[0m\u001b[0msent\u001b[0m\u001b[0;34m)\u001b[0m\u001b[0;34m\u001b[0m\u001b[0;34m\u001b[0m\u001b[0m\n\u001b[1;32m      5\u001b[0m \u001b[0;34m\u001b[0m\u001b[0m\n",
            "\u001b[0;32m/usr/local/lib/python3.7/dist-packages/ipykernel/kernelbase.py\u001b[0m in \u001b[0;36mraw_input\u001b[0;34m(self, prompt)\u001b[0m\n\u001b[1;32m    861\u001b[0m             \u001b[0mself\u001b[0m\u001b[0;34m.\u001b[0m\u001b[0m_parent_ident\u001b[0m\u001b[0;34m,\u001b[0m\u001b[0;34m\u001b[0m\u001b[0;34m\u001b[0m\u001b[0m\n\u001b[1;32m    862\u001b[0m             \u001b[0mself\u001b[0m\u001b[0;34m.\u001b[0m\u001b[0m_parent_header\u001b[0m\u001b[0;34m,\u001b[0m\u001b[0;34m\u001b[0m\u001b[0;34m\u001b[0m\u001b[0m\n\u001b[0;32m--> 863\u001b[0;31m             \u001b[0mpassword\u001b[0m\u001b[0;34m=\u001b[0m\u001b[0;32mFalse\u001b[0m\u001b[0;34m,\u001b[0m\u001b[0;34m\u001b[0m\u001b[0;34m\u001b[0m\u001b[0m\n\u001b[0m\u001b[1;32m    864\u001b[0m         )\n\u001b[1;32m    865\u001b[0m \u001b[0;34m\u001b[0m\u001b[0m\n",
            "\u001b[0;32m/usr/local/lib/python3.7/dist-packages/ipykernel/kernelbase.py\u001b[0m in \u001b[0;36m_input_request\u001b[0;34m(self, prompt, ident, parent, password)\u001b[0m\n\u001b[1;32m    902\u001b[0m             \u001b[0;32mexcept\u001b[0m \u001b[0mKeyboardInterrupt\u001b[0m\u001b[0;34m:\u001b[0m\u001b[0;34m\u001b[0m\u001b[0;34m\u001b[0m\u001b[0m\n\u001b[1;32m    903\u001b[0m                 \u001b[0;31m# re-raise KeyboardInterrupt, to truncate traceback\u001b[0m\u001b[0;34m\u001b[0m\u001b[0;34m\u001b[0m\u001b[0;34m\u001b[0m\u001b[0m\n\u001b[0;32m--> 904\u001b[0;31m                 \u001b[0;32mraise\u001b[0m \u001b[0mKeyboardInterrupt\u001b[0m\u001b[0;34m(\u001b[0m\u001b[0;34m\"Interrupted by user\"\u001b[0m\u001b[0;34m)\u001b[0m \u001b[0;32mfrom\u001b[0m \u001b[0;32mNone\u001b[0m\u001b[0;34m\u001b[0m\u001b[0;34m\u001b[0m\u001b[0m\n\u001b[0m\u001b[1;32m    905\u001b[0m             \u001b[0;32mexcept\u001b[0m \u001b[0mException\u001b[0m \u001b[0;32mas\u001b[0m \u001b[0me\u001b[0m\u001b[0;34m:\u001b[0m\u001b[0;34m\u001b[0m\u001b[0;34m\u001b[0m\u001b[0m\n\u001b[1;32m    906\u001b[0m                 \u001b[0mself\u001b[0m\u001b[0;34m.\u001b[0m\u001b[0mlog\u001b[0m\u001b[0;34m.\u001b[0m\u001b[0mwarning\u001b[0m\u001b[0;34m(\u001b[0m\u001b[0;34m\"Invalid Message:\"\u001b[0m\u001b[0;34m,\u001b[0m \u001b[0mexc_info\u001b[0m\u001b[0;34m=\u001b[0m\u001b[0;32mTrue\u001b[0m\u001b[0;34m)\u001b[0m\u001b[0;34m\u001b[0m\u001b[0;34m\u001b[0m\u001b[0m\n",
            "\u001b[0;31mKeyboardInterrupt\u001b[0m: Interrupted by user"
          ]
        }
      ]
    },
    {
      "cell_type": "code",
      "source": [
        "from konlpy.tag import Mecab\n",
        "from nltk.translate.bleu_score import sentence_bleu\n",
        "\n",
        "mecab = Mecab()\n",
        "\n",
        "result = []"
      ],
      "metadata": {
        "id": "hi29Ur6vsR2w"
      },
      "execution_count": 37,
      "outputs": []
    },
    {
      "cell_type": "code",
      "metadata": {
        "id": "Sh2v1mnzP-Mb",
        "colab": {
          "base_uri": "https://localhost:8080/"
        },
        "outputId": "895ca5df-e019-4d51-cfdc-a233f2e4cdab"
      },
      "source": [
        "# 안 그래도 몸이 안 좋은데 잠까지 설치니까 진짜…너무 힘들어.\t많이 힘들어 보여요. 힘든 일이 있으면 저에게 털어놓으세요.\n",
        "# 안 그래도 몸이 안 좋은데 잠까지 설치니까 진짜…너무 힘들어.\t그런 일이 있으셨군요. 조금씩 나아질 거라고 믿어요.\n",
        "# 안 그래도 몸이 안 좋은데 잠까지 설치니까 진짜…너무 힘들어.\t가슴이 답답하겠어요. 얼른 시간이 지나버렸으면 좋겠어요.\n",
        "# 안 그래도 몸이 안 좋은데 잠까지 설치니까 진짜…너무 힘들어.\t잘 버티고 있어요. 조금 힘들더라도 조금만 기운을 내요.\n",
        "\n",
        "reference = ['많이 힘들어 보여요.', '힘든 일이 있으면 저에게 털어놓으세요.', '그런 일이 있으셨군요.', '조금씩 나아질 거라고 믿어요.', '가슴이 답답하겠어요.', '얼른 시간이 지나버렸으면 좋겠어요.', '잘 버티고 있어요.', '조금 힘들더라도 조금만 기운을 내요.']\n",
        "reference = [mecab.morphs(s) for s in reference]\n",
        "\n",
        "candidate = mecab.morphs('많이 힘들어 보여요. 힘든 일이 있으면 저에게 털어놓으세요.많이 지쳤나봐요. 곧 기운낼 수 있을 거예요.많이 지쳤나봐요.')\n",
        "\n",
        "print(f'reference: {reference}', )\n",
        "print('candidate:', candidate)\n",
        "print('BLEU:', sentence_bleu(reference, candidate))\n",
        "result.append(sentence_bleu(reference, candidate))"
      ],
      "execution_count": 38,
      "outputs": [
        {
          "output_type": "stream",
          "name": "stdout",
          "text": [
            "reference: [['많이', '힘들', '어', '보여요', '.'], ['힘든', '일', '이', '있', '으면', '저', '에게', '털어놓', '으세요', '.'], ['그런', '일', '이', '있', '으셨', '군요', '.'], ['조금', '씩', '나아질', '거', '라고', '믿', '어요', '.'], ['가슴', '이', '답답', '하', '겠', '어요', '.'], ['얼른', '시간', '이', '지나', '버렸으면', '좋', '겠', '어요', '.'], ['잘', '버티', '고', '있', '어요', '.'], ['조금', '힘들', '더라도', '조금', '만', '기운', '을', '내', '요', '.']]\n",
            "candidate: ['많이', '힘들', '어', '보여요', '.', '힘든', '일', '이', '있', '으면', '저', '에게', '털어놓', '으세요', '.', '많이', '지쳤', '나', '봐요', '.', '곧', '기운', '낼', '수', '있', '을', '거', '예요', '.', '많이', '지쳤', '나', '봐요', '.']\n",
            "BLEU: 0.3744387052073659\n"
          ]
        }
      ]
    },
    {
      "cell_type": "code",
      "source": [
        "# 앉아 있으면 그나마 좀 덜해서 침대에 거의 앉아서 자는데 그것도 너무 힘들어요.\t많이 힘들어 보여요. 힘든 일이 있으면 저에게 털어놓으세요.\n",
        "# 앉아 있으면 그나마 좀 덜해서 침대에 거의 앉아서 자는데 그것도 너무 힘들어요.\t그런 일이 있으셨군요. 조금씩 나아질 거라고 믿어요.\n",
        "# 앉아 있으면 그나마 좀 덜해서 침대에 거의 앉아서 자는데 그것도 너무 힘들어요.\t가슴이 답답하겠어요. 얼른 시간이 지나버렸으면 좋겠어요.\n",
        "# 앉아 있으면 그나마 좀 덜해서 침대에 거의 앉아서 자는데 그것도 너무 힘들어요.\t잘 버티고 있어요. 조금 힘들더라도 조금만 기운을 내요.\n",
        "\n",
        "reference = ['많이 힘들어 보여요.', '힘든 일이 있으면 저에게 털어놓으세요.', '그런 일이 있으셨군요.', '조금씩 나아질 거라고 믿어요.', '가슴이 답답하겠어요.', '얼른 시간이 지나버렸으면 좋겠어요.', '잘 버티고 있어요.', '조금 힘들더라도 조금만 기운을 내요.']\n",
        "reference = [mecab.morphs(s) for s in reference]\n",
        "\n",
        "candidate = mecab.morphs('가슴이 답답하겠어요. 얼른 시간이 지나버렸으면 좋겠어요.가슴이 답답하면 정말 생활이 불편하죠. 스트레스를 너무 많이 받는다면 고민이 많으시겠어요.')\n",
        "\n",
        "print(f'reference: {reference}', )\n",
        "print('candidate:', candidate)\n",
        "print('BLEU:', sentence_bleu(reference, candidate))\n",
        "result.append(sentence_bleu(reference, candidate))"
      ],
      "metadata": {
        "colab": {
          "base_uri": "https://localhost:8080/"
        },
        "id": "nrBAhWUIsT0c",
        "outputId": "dc4e9b41-528d-4324-bc38-6923f91622eb"
      },
      "execution_count": 39,
      "outputs": [
        {
          "output_type": "stream",
          "name": "stdout",
          "text": [
            "reference: [['많이', '힘들', '어', '보여요', '.'], ['힘든', '일', '이', '있', '으면', '저', '에게', '털어놓', '으세요', '.'], ['그런', '일', '이', '있', '으셨', '군요', '.'], ['조금', '씩', '나아질', '거', '라고', '믿', '어요', '.'], ['가슴', '이', '답답', '하', '겠', '어요', '.'], ['얼른', '시간', '이', '지나', '버렸으면', '좋', '겠', '어요', '.'], ['잘', '버티', '고', '있', '어요', '.'], ['조금', '힘들', '더라도', '조금', '만', '기운', '을', '내', '요', '.']]\n",
            "candidate: ['가슴', '이', '답답', '하', '겠', '어요', '.', '얼른', '시간', '이', '지나', '버렸으면', '좋', '겠', '어요', '.', '가슴', '이', '답답', '하', '면', '정말', '생활', '이', '불편', '하', '죠', '.', '스트레스', '를', '너무', '많이', '받', '는다면', '고민', '이', '많', '으시', '겠', '어요', '.']\n",
            "BLEU: 0.2898720273466421\n"
          ]
        }
      ]
    },
    {
      "cell_type": "code",
      "source": [
        "# 너무 힘들었어요.\t많이 힘들어 보여요. 힘든 일이 있으면 저에게 털어놓으세요.\n",
        "# 너무 힘들었어요.\t그런 일이 있으셨군요. 조금씩 나아질 거라고 믿어요.\n",
        "# 너무 힘들었어요.\t가슴이 답답하겠어요. 얼른 시간이 지나버렸으면 좋겠어요.\n",
        "# 너무 힘들었어요.\t잘 버티고 있어요. 조금 힘들더라도 조금만 기운을 내요.\n",
        "\n",
        "reference = ['많이 힘들어 보여요.', '힘든 일이 있으면 저에게 털어놓으세요.', '그런 일이 있으셨군요.', '조금씩 나아질 거라고 믿어요.', '가슴이 답답하겠어요.', '얼른 시간이 지나버렸으면 좋겠어요.', '잘 버티고 있어요.', '조금 힘들더라도 조금만 기운을 내요.']\n",
        "reference = [mecab.morphs(s) for s in reference]\n",
        "\n",
        "candidate = mecab.morphs('많이 힘들어 보여요. 힘든 일이 있으면 저에게 털어놓으세요.많이 답답하시겠어요.그런 일이 있으셨군요.')\n",
        "\n",
        "print(f'reference: {reference}', )\n",
        "print('candidate:', candidate)\n",
        "print('BLEU:', sentence_bleu(reference, candidate))\n",
        "result.append(sentence_bleu(reference, candidate))"
      ],
      "metadata": {
        "colab": {
          "base_uri": "https://localhost:8080/"
        },
        "id": "rVdTGDjot_ud",
        "outputId": "55131549-da2f-4df4-914f-f7b6a4a7c440"
      },
      "execution_count": 40,
      "outputs": [
        {
          "output_type": "stream",
          "name": "stdout",
          "text": [
            "reference: [['많이', '힘들', '어', '보여요', '.'], ['힘든', '일', '이', '있', '으면', '저', '에게', '털어놓', '으세요', '.'], ['그런', '일', '이', '있', '으셨', '군요', '.'], ['조금', '씩', '나아질', '거', '라고', '믿', '어요', '.'], ['가슴', '이', '답답', '하', '겠', '어요', '.'], ['얼른', '시간', '이', '지나', '버렸으면', '좋', '겠', '어요', '.'], ['잘', '버티', '고', '있', '어요', '.'], ['조금', '힘들', '더라도', '조금', '만', '기운', '을', '내', '요', '.']]\n",
            "candidate: ['많이', '힘들', '어', '보여요', '.', '힘든', '일', '이', '있', '으면', '저', '에게', '털어놓', '으세요', '.', '많이', '답답', '하', '시', '겠', '어요', '.', '그런', '일', '이', '있', '으셨', '군요', '.']\n",
            "BLEU: 0.625683743070839\n"
          ]
        }
      ]
    },
    {
      "cell_type": "code",
      "source": [
        "# 그런데 그래도 힘들고.. 너무 지쳐.\t많이 힘들어 보여요. 힘든 일이 있으면 저에게 털어놓으세요.\n",
        "# 그런데 그래도 힘들고.. 너무 지쳐.\t그런 일이 있으셨군요. 조금씩 나아질 거라고 믿어요.\n",
        "# 그런데 그래도 힘들고.. 너무 지쳐.\t가슴이 답답하겠어요. 얼른 시간이 지나버렸으면 좋겠어요.\n",
        "# 그런데 그래도 힘들고.. 너무 지쳐.\t잘 버티고 있어요. 조금 힘들더라도 조금만 기운을 내요.\n",
        "\n",
        "reference = ['많이 힘들어 보여요.', '힘든 일이 있으면 저에게 털어놓으세요.', '그런 일이 있으셨군요.', '조금씩 나아질 거라고 믿어요.', '가슴이 답답하겠어요.', '얼른 시간이 지나버렸으면 좋겠어요.', '잘 버티고 있어요.', '조금 힘들더라도 조금만 기운을 내요.']\n",
        "reference = [mecab.morphs(s) for s in reference]\n",
        "\n",
        "candidate = mecab.morphs('그런 일이 있으셨군요. 조금씩 나아질 거라고 믿어요.힘든 일은 오래 겪으셨어요.지금은 괜찮으세요? 아직 많이 힘드시겠어요.')\n",
        "\n",
        "print(f'reference: {reference}', )\n",
        "print('candidate:', candidate)\n",
        "print('BLEU:', sentence_bleu(reference, candidate))\n",
        "result.append(sentence_bleu(reference, candidate))"
      ],
      "metadata": {
        "colab": {
          "base_uri": "https://localhost:8080/"
        },
        "id": "wd1IShiZuERj",
        "outputId": "608196c5-5f9b-4ef4-a9d0-a851c2174220"
      },
      "execution_count": 41,
      "outputs": [
        {
          "output_type": "stream",
          "name": "stdout",
          "text": [
            "reference: [['많이', '힘들', '어', '보여요', '.'], ['힘든', '일', '이', '있', '으면', '저', '에게', '털어놓', '으세요', '.'], ['그런', '일', '이', '있', '으셨', '군요', '.'], ['조금', '씩', '나아질', '거', '라고', '믿', '어요', '.'], ['가슴', '이', '답답', '하', '겠', '어요', '.'], ['얼른', '시간', '이', '지나', '버렸으면', '좋', '겠', '어요', '.'], ['잘', '버티', '고', '있', '어요', '.'], ['조금', '힘들', '더라도', '조금', '만', '기운', '을', '내', '요', '.']]\n",
            "candidate: ['그런', '일', '이', '있', '으셨', '군요', '.', '조금', '씩', '나아질', '거', '라고', '믿', '어요', '.', '힘든', '일', '은', '오래', '겪', '으셨어요', '.', '지금', '은', '괜찮', '으세요', '?', '아직', '많이', '힘드', '시', '겠', '어요', '.']\n",
            "BLEU: 0.4023191894496083\n"
          ]
        }
      ]
    },
    {
      "cell_type": "code",
      "source": [
        "# 최근에 아픈 날이 많아진 거 같아.\t최근에 건강 때문에 힘드시군요. 건강을 잃은 것만큼 힘든 일은 없죠… 기운 내세요.\n",
        "# 최근에 아픈 날이 많아진 거 같아.\t다시 건강한 삶을 찾을 수 있을 거예요. 걱정 마세요.\n",
        "# 최근에 아픈 날이 많아진 거 같아.\t그러셨군요. 몸이 아프면 덩달아 마음도 힘들어지는 것 같아요.\n",
        "# 최근에 아픈 날이 많아진 거 같아.\t그럴 때일수록 식사와 수면이 중요하다는 거 아시죠? 잘 버텨내보자구요.\n",
        "\n",
        "reference = ['최근에 건강 때문에 힘드시군요.', '건강을 잃은 것만큼 힘든 일은 없죠 기운 내세요.', '다시 건강한 삶을 찾을 수 있을 거예요.', '걱정 마세요.', '몸이 아프면 덩달아 마음도 힘들어지는 것 같아요.', '그럴 때일수록 식사와 수면이 중요하다는 거 아시죠? 잘 버텨내보자구요.']\n",
        "reference = [mecab.morphs(s) for s in reference]\n",
        "\n",
        "candidate = mecab.morphs('그러셨군요. 몸이 아프면 덩달아 마음도 힘들어지는 것 같아요.그런 일이 있으셨군요. 조금씩 나아질 거라고 믿어요. 지금은 괜찮으신가요? 괜찮으시다니 정말 다행이에요.')\n",
        "\n",
        "print(f'reference: {reference}', )\n",
        "print('candidate:', candidate)\n",
        "print('BLEU:', sentence_bleu(reference, candidate))\n",
        "result.append(sentence_bleu(reference, candidate))"
      ],
      "metadata": {
        "colab": {
          "base_uri": "https://localhost:8080/"
        },
        "id": "FwN7iWC1uG59",
        "outputId": "cce0bed8-d119-4692-9aaf-bc3de79bff4c"
      },
      "execution_count": 42,
      "outputs": [
        {
          "output_type": "stream",
          "name": "stdout",
          "text": [
            "reference: [['최근', '에', '건강', '때문', '에', '힘드', '시', '군요', '.'], ['건강', '을', '잃', '은', '것', '만큼', '힘든', '일', '은', '없', '죠', '기운', '내', '세요', '.'], ['다시', '건강', '한', '삶', '을', '찾', '을', '수', '있', '을', '거', '예요', '.'], ['걱정', '마세요', '.'], ['몸', '이', '아프', '면', '덩달', '아', '마음', '도', '힘들', '어', '지', '는', '것', '같', '아요', '.'], ['그럴', '때', '일수록', '식사', '와', '수면', '이', '중요', '하', '다는', '거', '아', '시', '죠', '?', '잘', '버텨', '내', '보', '자구요', '.']]\n",
            "candidate: ['그러', '셨', '군요', '.', '몸', '이', '아프', '면', '덩달', '아', '마음', '도', '힘들', '어', '지', '는', '것', '같', '아요', '.', '그런', '일', '이', '있', '으셨', '군요', '.', '조금', '씩', '나아질', '거', '라고', '믿', '어요', '.', '지금', '은', '괜찮', '으신', '가요', '?', '괜찮', '으시', '다니', '정말', '다행', '이', '에요', '.']\n",
            "BLEU: 0.335027349183485\n"
          ]
        }
      ]
    },
    {
      "cell_type": "code",
      "source": [
        "# 돈 버는 건 힘들어도 쓰는 건 한순간이더라구.\t그럴 땐 정말 막막한 것 같아요. 기운 내세요.\n",
        "# 돈 버는 건 힘들어도 쓰는 건 한순간이더라구.\t마음이 힘드시겠어요.\n",
        "# 돈 버는 건 힘들어도 쓰는 건 한순간이더라구.\t돈이 없어도 되는 세상이 얼른 왔으면 좋겠어요.\n",
        "# 돈 버는 건 힘들어도 쓰는 건 한순간이더라구.\t가슴이 답답하시겠어요. 그럴 때는 든든히 먹고 머리를 비우는 것도 좋은 방법이에요.\n",
        "\n",
        "reference = ['그럴 땐 정말 막막한 것 같아요.', '기운 내세요.', '마음이 힘드시겠어요.', '돈이 없어도 되는 세상이 얼른 왔으면 좋겠어요.', '가슴이 답답하시겠어요.', '그럴 때는 든든히 먹고 머리를 비우는 것도 좋은 방법이에요.']\n",
        "reference = [mecab.morphs(s) for s in reference]\n",
        "\n",
        "candidate = mecab.morphs('마음이 힘드시겠어요. 그럴 때는 정말 기댈 곳을 찾고 싶어져요. 주저앉지 마세요. 그곳에서 배우는게 좋겠어요. 용기를 드릴게요.')\n",
        "\n",
        "print(f'reference: {reference}', )\n",
        "print('candidate:', candidate)\n",
        "print('BLEU:', sentence_bleu(reference, candidate))\n",
        "result.append(sentence_bleu(reference, candidate))"
      ],
      "metadata": {
        "colab": {
          "base_uri": "https://localhost:8080/"
        },
        "id": "lCocQbHFuWzi",
        "outputId": "cba32a20-57eb-47a0-f2bc-31693ba47078"
      },
      "execution_count": 43,
      "outputs": [
        {
          "output_type": "stream",
          "name": "stdout",
          "text": [
            "reference: [['그럴', '땐', '정말', '막막', '한', '것', '같', '아요', '.'], ['기운', '내', '세요', '.'], ['마음', '이', '힘드', '시', '겠', '어요', '.'], ['돈', '이', '없', '어도', '되', '는', '세상', '이', '얼른', '왔', '으면', '좋', '겠', '어요', '.'], ['가슴', '이', '답답', '하', '시', '겠', '어요', '.'], ['그럴', '때', '는', '든든히', '먹', '고', '머리', '를', '비우', '는', '것', '도', '좋', '은', '방법', '이', '에요', '.']]\n",
            "candidate: ['마음', '이', '힘드', '시', '겠', '어요', '.', '그럴', '때', '는', '정말', '기댈', '곳', '을', '찾', '고', '싶', '어', '져요', '.', '주저앉', '지', '마세요', '.', '그곳', '에서', '배우', '는', '게', '좋', '겠', '어요', '.', '용기', '를', '드릴게요', '.']\n",
            "BLEU: 0.23366176703090105\n"
          ]
        }
      ]
    },
    {
      "cell_type": "code",
      "source": [
        "# 남친한테 먼저 헤어지자고 했어. \t그러셨군요. 힘들겠지만 잘 이겨내야죠.\n",
        "# 남친한테 먼저 헤어지자고 했어. \t많이 힘들겠어요. 제가 옆에 있어드릴게요.\n",
        "# 남친한테 먼저 헤어지자고 했어. \t언젠가는 이별이 찾아오기 마련이죠… 괜찮으신가요?\n",
        "\n",
        "reference = ['그러셨군요. 힘들겠지만 잘 이겨내야죠.', '많이 힘들겠어요.', '제가 옆에 있어드릴게요.', '언젠가는 이별이 찾아오기 마련이죠... 괜찮으신가요?']\n",
        "reference = [mecab.morphs(s) for s in reference]\n",
        "\n",
        "candidate = mecab.morphs('그렇군요. 서로 오래 모른다고나 할까요? 좀 더 알아보고 하세요.더 들려주세요. 더 말씀해주세요.')\n",
        "\n",
        "print(f'reference: {reference}', )\n",
        "print('candidate:', candidate)\n",
        "print('BLEU:', sentence_bleu(reference, candidate))\n",
        "result.append(sentence_bleu(reference, candidate))"
      ],
      "metadata": {
        "colab": {
          "base_uri": "https://localhost:8080/"
        },
        "id": "AtfpF94zufsG",
        "outputId": "9755411b-9824-462e-ee8e-04da6e3024d1"
      },
      "execution_count": 44,
      "outputs": [
        {
          "output_type": "stream",
          "name": "stdout",
          "text": [
            "reference: [['그러', '셨', '군요', '.', '힘들', '겠', '지만', '잘', '이겨', '내', '야죠', '.'], ['많이', '힘들', '겠', '어요', '.'], ['제', '가', '옆', '에', '있', '어', '드릴게요', '.'], ['언젠가', '는', '이별', '이', '찾아오', '기', '마련', '이', '죠', '.', '..', '괜찮', '으신', '가요', '?']]\n",
            "candidate: ['그렇', '군요', '.', '서로', '오래', '모른다고', '나', '할까요', '?', '좀', '더', '알아보', '고', '하', '세요', '.', '더', '들려', '주', '세요', '.', '더', '말씀', '해', '주', '세요', '.']\n",
            "BLEU: 4.098292351100502e-155\n"
          ]
        },
        {
          "output_type": "stream",
          "name": "stderr",
          "text": [
            "/usr/local/lib/python3.7/dist-packages/nltk/translate/bleu_score.py:552: UserWarning: \n",
            "The hypothesis contains 0 counts of 3-gram overlaps.\n",
            "Therefore the BLEU score evaluates to 0, independently of\n",
            "how many N-gram overlaps of lower order it contains.\n",
            "Consider using lower n-gram order or use SmoothingFunction()\n",
            "  warnings.warn(_msg)\n",
            "/usr/local/lib/python3.7/dist-packages/nltk/translate/bleu_score.py:552: UserWarning: \n",
            "The hypothesis contains 0 counts of 4-gram overlaps.\n",
            "Therefore the BLEU score evaluates to 0, independently of\n",
            "how many N-gram overlaps of lower order it contains.\n",
            "Consider using lower n-gram order or use SmoothingFunction()\n",
            "  warnings.warn(_msg)\n"
          ]
        }
      ]
    },
    {
      "cell_type": "code",
      "source": [
        "# 그 새끼가 옆에 젊은 여자 끼고 술을 마시고 있더라구.\t충격이 크셨겠어요. \n",
        "# 그 새끼가 옆에 젊은 여자 끼고 술을 마시고 있더라구.\t절대 용서하지 마세요. 제가 대신 욕해드릴게요.\n",
        "# 그 새끼가 옆에 젊은 여자 끼고 술을 마시고 있더라구.\t배신감이 클 것 같아요. 괜찮으세요?\n",
        "\n",
        "reference = ['충격이 크셨겠어요.', '절대 용서하지 마세요.', '제가 대신 욕해드릴게요.', '배신감이 클 것 같아요.', '괜찮으세요?']\n",
        "reference = [mecab.morphs(s) for s in reference]\n",
        "\n",
        "candidate = mecab.morphs('그렇군요. 고민이 많으시겠어요. 다른 방법으로 노력을 해보는 건 어떠세요? 용기를 내봐요. 지금 만나보세요. 네, 그렇군요.')\n",
        "\n",
        "print(f'reference: {reference}', )\n",
        "print('candidate:', candidate)\n",
        "print('BLEU:', sentence_bleu(reference, candidate))\n",
        "result.append(sentence_bleu(reference, candidate))"
      ],
      "metadata": {
        "colab": {
          "base_uri": "https://localhost:8080/"
        },
        "id": "Me2EKSmquwf1",
        "outputId": "3e20c836-7925-4770-cf15-e818beceef94"
      },
      "execution_count": 45,
      "outputs": [
        {
          "output_type": "stream",
          "name": "stdout",
          "text": [
            "reference: [['충격', '이', '크', '셨', '겠', '어요', '.'], ['절대', '용서', '하', '지', '마세요', '.'], ['제', '가', '대신', '욕해', '드릴게요', '.'], ['배신감', '이', '클', '것', '같', '아요', '.'], ['괜찮', '으세요', '?']]\n",
            "candidate: ['그렇', '군요', '.', '고민', '이', '많', '으시', '겠', '어요', '.', '다른', '방법', '으로', '노력', '을', '해', '보', '는', '건', '어떠세요', '?', '용기', '를', '내', '봐요', '.', '지금', '만나', '보', '세요', '.', '네', ',', '그렇', '군요', '.']\n",
            "BLEU: 1.5096412088766302e-78\n"
          ]
        }
      ]
    },
    {
      "cell_type": "code",
      "source": [
        "# 약을 끊었더니 증상이 예전보다 더 심해진 것 같아.\t상태가 더 안 좋아지셨군요. 걱정이 되네요.\n",
        "# 약을 끊었더니 증상이 예전보다 더 심해진 것 같아.\t정말 힘드시겠어요. 지금도 증상이 심하신가요?\n",
        "# 약을 끊었더니 증상이 예전보다 더 심해진 것 같아.\t너무 심하시면 병원을 다시 가보는 건 어떨까요?\n",
        "\n",
        "reference = ['상태가 더 안 좋아지셨군요.', '걱정이 되네요.', '정말 힘드시겠어요.', '지금도 증상이 심하신가요?', '너무 심하시면 병원을 다시 가보는 건 어떨까요?']\n",
        "reference = [mecab.morphs(s) for s in reference]\n",
        "\n",
        "candidate = mecab.morphs('너무 심하시면 병원을 다시 가보는 건 어떨까요? 검사 결과는 좋으면 계속 곁에 있어요. 당신의 마음도 조금 나아질 거예요.')\n",
        "\n",
        "print(f'reference: {reference}', )\n",
        "print('candidate:', candidate)\n",
        "print('BLEU:', sentence_bleu(reference, candidate))\n",
        "result.append(sentence_bleu(reference, candidate))"
      ],
      "metadata": {
        "colab": {
          "base_uri": "https://localhost:8080/"
        },
        "id": "sRor5RSKu4cb",
        "outputId": "70dd4212-f954-4ac2-a86e-6e413f14fc91"
      },
      "execution_count": 46,
      "outputs": [
        {
          "output_type": "stream",
          "name": "stdout",
          "text": [
            "reference: [['상태', '가', '더', '안', '좋', '아', '지', '셨', '군요', '.'], ['걱정', '이', '되', '네요', '.'], ['정말', '힘드', '시', '겠', '어요', '.'], ['지금', '도', '증상', '이', '심하', '신가요', '?'], ['너무', '심하', '시', '면', '병원', '을', '다시', '가', '보', '는', '건', '어떨까', '요', '?']]\n",
            "candidate: ['너무', '심하', '시', '면', '병원', '을', '다시', '가', '보', '는', '건', '어떨까', '요', '?', '검사', '결과', '는', '좋', '으면', '계속', '곁', '에', '있', '어요', '.', '당신', '의', '마음', '도', '조금', '나아질', '거', '예요', '.']\n",
            "BLEU: 0.41578372496714516\n"
          ]
        }
      ]
    },
    {
      "cell_type": "code",
      "source": [
        "# 특별히 뭐 잘 못 먹은 것도 아닌데 속이 안 좋아요.\t소화 기능에 뭔가 문제가 생긴 건 아닐까요? 병원 진찰을 권유해드립니다.\n",
        "# 특별히 뭐 잘 못 먹은 것도 아닌데 속이 안 좋아요.\t속이 불편하시군요. 천천히 심호흡을 하면 조금은 편해질 수도 있어요.\n",
        "# 특별히 뭐 잘 못 먹은 것도 아닌데 속이 안 좋아요.\t속이 좋지 않으면 정말 힘들죠. 병원에 가보는 건 어떨까요?\n",
        "\n",
        "reference = ['소화 기능에 뭔가 문제가 생긴 건 아닐까요?', '병원 진찰을 권유해드립니다.', '속이 불편하시군요.', '천천히 심호흡을 하면 조금은 편해질 수도 있어요.', '속이 좋지 않으면 정말 힘들죠.', '병원에 가보는 건 어떨까요?']\n",
        "reference = [mecab.morphs(s) for s in reference]\n",
        "\n",
        "candidate = mecab.morphs('소화 기능에 뭔가 문제가 생긴 건 아닐까요? 병원 진찰을 권유해드립니다. 당신의 건망증이 심하셨군요. 혹시 괜찮으신가요? 혹시 괜찮으시다면 저에게 말해보세요')\n",
        "\n",
        "print(f'reference: {reference}', )\n",
        "print('candidate:', candidate)\n",
        "print('BLEU:', sentence_bleu(reference, candidate))\n",
        "result.append(sentence_bleu(reference, candidate))"
      ],
      "metadata": {
        "colab": {
          "base_uri": "https://localhost:8080/"
        },
        "id": "dEw6ZI27u670",
        "outputId": "f6cda855-023c-4475-dd03-cc3bbf76dfda"
      },
      "execution_count": 47,
      "outputs": [
        {
          "output_type": "stream",
          "name": "stdout",
          "text": [
            "reference: [['소화', '기능', '에', '뭔가', '문제', '가', '생긴', '건', '아닐까요', '?'], ['병원', '진찰', '을', '권유', '해', '드립니다', '.'], ['속', '이', '불편', '하', '시', '군요', '.'], ['천천히', '심호흡', '을', '하', '면', '조금', '은', '편해질', '수', '도', '있', '어요', '.'], ['속', '이', '좋', '지', '않', '으면', '정말', '힘들', '죠', '.'], ['병원', '에', '가', '보', '는', '건', '어떨까', '요', '?']]\n",
            "candidate: ['소화', '기능', '에', '뭔가', '문제', '가', '생긴', '건', '아닐까요', '?', '병원', '진찰', '을', '권유', '해', '드립니다', '.', '당신', '의', '건망증', '이', '심하', '셨', '군요', '.', '혹시', '괜찮', '으신', '가요', '?', '혹시', '괜찮', '으시', '다면', '저', '에게', '말', '해', '보', '세요']\n",
            "BLEU: 0.3800528767347385\n"
          ]
        }
      ]
    },
    {
      "cell_type": "code",
      "source": [
        "print(\"BLEU 10개 평균 : \", sum(result)/10)"
      ],
      "metadata": {
        "colab": {
          "base_uri": "https://localhost:8080/"
        },
        "id": "Kdi65hlCXePz",
        "outputId": "a4ccd7ec-4588-4585-f45c-1682a5bc5bf2"
      },
      "execution_count": 48,
      "outputs": [
        {
          "output_type": "stream",
          "name": "stdout",
          "text": [
            "BLEU 10개 평균 :  0.30568393829907253\n"
          ]
        }
      ]
    }
  ]
}