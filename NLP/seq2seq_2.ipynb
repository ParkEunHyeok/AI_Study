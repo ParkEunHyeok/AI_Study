{
  "nbformat": 4,
  "nbformat_minor": 0,
  "metadata": {
    "colab": {
      "name": "seq2seq_2.ipynb",
      "provenance": [],
      "authorship_tag": "ABX9TyMEvKEtje6SKXyzVYz1Z9aN",
      "include_colab_link": true
    },
    "kernelspec": {
      "name": "python3",
      "display_name": "Python 3"
    },
    "language_info": {
      "name": "python"
    }
  },
  "cells": [
    {
      "cell_type": "markdown",
      "metadata": {
        "id": "view-in-github",
        "colab_type": "text"
      },
      "source": [
        "<a href=\"https://colab.research.google.com/github/ParkEunHyeok/AI_Study/blob/main/NLP/seq2seq_2.ipynb\" target=\"_parent\"><img src=\"https://colab.research.google.com/assets/colab-badge.svg\" alt=\"Open In Colab\"/></a>"
      ]
    },
    {
      "cell_type": "code",
      "metadata": {
        "id": "kR3QDEnmYNea"
      },
      "source": [
        "import numpy as np\n",
        "import re\n",
        "import pandas as pd\n",
        "import csv\n",
        "import tensorflow as tf\n",
        "from tensorflow import keras\n",
        "from keras.models import Model, load_model, save_model\n",
        "from tensorflow.keras.preprocessing.text import Tokenizer\n",
        "from tensorflow.keras.preprocessing.sequence import pad_sequences\n",
        "from tensorflow.keras.callbacks import EarlyStopping, ModelCheckpoint\n",
        "from tensorflow.keras.layers import Input, LSTM, Embedding, Dense, Masking\n",
        "from tensorflow.keras.models import Model"
      ],
      "execution_count": 49,
      "outputs": []
    },
    {
      "cell_type": "code",
      "metadata": {
        "colab": {
          "base_uri": "https://localhost:8080/"
        },
        "id": "KY4zavPdYhPT",
        "outputId": "e6ac3815-c7ce-4988-a8e0-f60e272b6d6a"
      },
      "source": [
        "import os\n",
        "from google.colab import drive\n",
        "drive.mount('/content/gdrive/')\n",
        "path = \"gdrive/My Drive/Colab Notebooks/squad\""
      ],
      "execution_count": 50,
      "outputs": [
        {
          "output_type": "stream",
          "text": [
            "Drive already mounted at /content/gdrive/; to attempt to forcibly remount, call drive.mount(\"/content/gdrive/\", force_remount=True).\n"
          ],
          "name": "stdout"
        }
      ]
    },
    {
      "cell_type": "code",
      "metadata": {
        "colab": {
          "base_uri": "https://localhost:8080/",
          "height": 204
        },
        "id": "oxcbF3AhYjaG",
        "outputId": "5c51c80a-8685-4ae9-f261-5379fb3d01b8"
      },
      "source": [
        "train = pd.read_csv(path+\"/songysData.csv\")\n",
        "train[:5]"
      ],
      "execution_count": 51,
      "outputs": [
        {
          "output_type": "execute_result",
          "data": {
            "text/html": [
              "<div>\n",
              "<style scoped>\n",
              "    .dataframe tbody tr th:only-of-type {\n",
              "        vertical-align: middle;\n",
              "    }\n",
              "\n",
              "    .dataframe tbody tr th {\n",
              "        vertical-align: top;\n",
              "    }\n",
              "\n",
              "    .dataframe thead th {\n",
              "        text-align: right;\n",
              "    }\n",
              "</style>\n",
              "<table border=\"1\" class=\"dataframe\">\n",
              "  <thead>\n",
              "    <tr style=\"text-align: right;\">\n",
              "      <th></th>\n",
              "      <th>Q</th>\n",
              "      <th>A</th>\n",
              "      <th>label</th>\n",
              "    </tr>\n",
              "  </thead>\n",
              "  <tbody>\n",
              "    <tr>\n",
              "      <th>0</th>\n",
              "      <td>12시 땡!</td>\n",
              "      <td>하루가 또 가네요.</td>\n",
              "      <td>0</td>\n",
              "    </tr>\n",
              "    <tr>\n",
              "      <th>1</th>\n",
              "      <td>1지망 학교 떨어졌어</td>\n",
              "      <td>위로해 드립니다.</td>\n",
              "      <td>0</td>\n",
              "    </tr>\n",
              "    <tr>\n",
              "      <th>2</th>\n",
              "      <td>3박4일 놀러가고 싶다</td>\n",
              "      <td>여행은 언제나 좋죠.</td>\n",
              "      <td>0</td>\n",
              "    </tr>\n",
              "    <tr>\n",
              "      <th>3</th>\n",
              "      <td>3박4일 정도 놀러가고 싶다</td>\n",
              "      <td>여행은 언제나 좋죠.</td>\n",
              "      <td>0</td>\n",
              "    </tr>\n",
              "    <tr>\n",
              "      <th>4</th>\n",
              "      <td>PPL 심하네</td>\n",
              "      <td>눈살이 찌푸려지죠.</td>\n",
              "      <td>0</td>\n",
              "    </tr>\n",
              "  </tbody>\n",
              "</table>\n",
              "</div>"
            ],
            "text/plain": [
              "                 Q            A  label\n",
              "0           12시 땡!   하루가 또 가네요.      0\n",
              "1      1지망 학교 떨어졌어    위로해 드립니다.      0\n",
              "2     3박4일 놀러가고 싶다  여행은 언제나 좋죠.      0\n",
              "3  3박4일 정도 놀러가고 싶다  여행은 언제나 좋죠.      0\n",
              "4          PPL 심하네   눈살이 찌푸려지죠.      0"
            ]
          },
          "metadata": {
            "tags": []
          },
          "execution_count": 51
        }
      ]
    },
    {
      "cell_type": "code",
      "metadata": {
        "colab": {
          "base_uri": "https://localhost:8080/",
          "height": 204
        },
        "id": "D0Ijlwf8YoYU",
        "outputId": "684e5c11-bf4b-4c9c-e422-27b5080cfa35"
      },
      "source": [
        "# 데이터 불러오기, 데이터에서 숫자, 문자가 아닌 문자 제거\n",
        "train['Q'] = train['Q'].str.replace(\"[^\\w]\", \" \")\n",
        "train['A'] = train['A'].str.replace(\"[^\\w]\", \" \")\n",
        "train[:5]"
      ],
      "execution_count": 52,
      "outputs": [
        {
          "output_type": "execute_result",
          "data": {
            "text/html": [
              "<div>\n",
              "<style scoped>\n",
              "    .dataframe tbody tr th:only-of-type {\n",
              "        vertical-align: middle;\n",
              "    }\n",
              "\n",
              "    .dataframe tbody tr th {\n",
              "        vertical-align: top;\n",
              "    }\n",
              "\n",
              "    .dataframe thead th {\n",
              "        text-align: right;\n",
              "    }\n",
              "</style>\n",
              "<table border=\"1\" class=\"dataframe\">\n",
              "  <thead>\n",
              "    <tr style=\"text-align: right;\">\n",
              "      <th></th>\n",
              "      <th>Q</th>\n",
              "      <th>A</th>\n",
              "      <th>label</th>\n",
              "    </tr>\n",
              "  </thead>\n",
              "  <tbody>\n",
              "    <tr>\n",
              "      <th>0</th>\n",
              "      <td>12시 땡</td>\n",
              "      <td>하루가 또 가네요</td>\n",
              "      <td>0</td>\n",
              "    </tr>\n",
              "    <tr>\n",
              "      <th>1</th>\n",
              "      <td>1지망 학교 떨어졌어</td>\n",
              "      <td>위로해 드립니다</td>\n",
              "      <td>0</td>\n",
              "    </tr>\n",
              "    <tr>\n",
              "      <th>2</th>\n",
              "      <td>3박4일 놀러가고 싶다</td>\n",
              "      <td>여행은 언제나 좋죠</td>\n",
              "      <td>0</td>\n",
              "    </tr>\n",
              "    <tr>\n",
              "      <th>3</th>\n",
              "      <td>3박4일 정도 놀러가고 싶다</td>\n",
              "      <td>여행은 언제나 좋죠</td>\n",
              "      <td>0</td>\n",
              "    </tr>\n",
              "    <tr>\n",
              "      <th>4</th>\n",
              "      <td>PPL 심하네</td>\n",
              "      <td>눈살이 찌푸려지죠</td>\n",
              "      <td>0</td>\n",
              "    </tr>\n",
              "  </tbody>\n",
              "</table>\n",
              "</div>"
            ],
            "text/plain": [
              "                 Q            A  label\n",
              "0           12시 땡    하루가 또 가네요       0\n",
              "1      1지망 학교 떨어졌어    위로해 드립니다       0\n",
              "2     3박4일 놀러가고 싶다  여행은 언제나 좋죠       0\n",
              "3  3박4일 정도 놀러가고 싶다  여행은 언제나 좋죠       0\n",
              "4          PPL 심하네   눈살이 찌푸려지죠       0"
            ]
          },
          "metadata": {
            "tags": []
          },
          "execution_count": 52
        }
      ]
    },
    {
      "cell_type": "code",
      "metadata": {
        "id": "uzCLvdm_YsP8"
      },
      "source": [
        "# 데이터를 단어별로 나누고, <start>, <end> 태그 바르기\n",
        "encoder_input, decoder_input, decoder_output = [], [], []\n",
        "\n",
        "for stc in train['Q']:\n",
        "    encoder_input.append(stc.split())\n",
        "\n",
        "for stc in train['A']:\n",
        "    decoder_input.append((\"<start> \"+stc).split())\n",
        "\n",
        "for stc in train['A']:\n",
        "    decoder_output.append((stc+\" <end>\").split())"
      ],
      "execution_count": 53,
      "outputs": []
    },
    {
      "cell_type": "code",
      "metadata": {
        "id": "CFnPwAHfY0Aj"
      },
      "source": [
        "# tokenizer 객체 생성해서 fit, tokenize\n",
        "tokenizer_q = Tokenizer()\n",
        "tokenizer_q.fit_on_texts(encoder_input)\n",
        "encoder_input = tokenizer_q.texts_to_sequences(encoder_input)\n",
        "\n",
        "tokenizer_a = Tokenizer()\n",
        "tokenizer_a.fit_on_texts(decoder_input)\n",
        "tokenizer_a.fit_on_texts(decoder_output)\n",
        "decoder_input = tokenizer_a.texts_to_sequences(decoder_input)\n",
        "decoder_output = tokenizer_a.texts_to_sequences(decoder_output)"
      ],
      "execution_count": 54,
      "outputs": []
    },
    {
      "cell_type": "code",
      "metadata": {
        "id": "FQfn1DHgZCIt"
      },
      "source": [
        "# padding\n",
        "encoder_input = pad_sequences(encoder_input, padding=\"post\")\n",
        "decoder_input = pad_sequences(decoder_input, padding=\"post\")\n",
        "decoder_output = pad_sequences(decoder_output, padding=\"post\")"
      ],
      "execution_count": 55,
      "outputs": []
    },
    {
      "cell_type": "code",
      "metadata": {
        "id": "TdFbxyxvZFGL"
      },
      "source": [
        "a_to_index = tokenizer_a.word_index\n",
        "index_to_a = tokenizer_a.index_word"
      ],
      "execution_count": 56,
      "outputs": []
    },
    {
      "cell_type": "code",
      "metadata": {
        "id": "u3PdrcGQZiPD"
      },
      "source": [
        "# 학습 데이터와 테스트 데이터 가르기\n",
        "test_size = 2500\n",
        "encoder_input_train = encoder_input[:-test_size]\n",
        "decoder_input_train = decoder_input[:-test_size]\n",
        "decoder_output_train = decoder_output[:-test_size]\n",
        "\n",
        "encoder_input_test = encoder_input[-test_size:]\n",
        "decoder_input_test = decoder_input[-test_size:]\n",
        "decoder_output_test = decoder_output[-test_size:]"
      ],
      "execution_count": 57,
      "outputs": []
    },
    {
      "cell_type": "code",
      "metadata": {
        "id": "zYzqb8SgZoX6"
      },
      "source": [
        "# 인코더 신경망 설계\n",
        "encoder_inputs = Input(shape=(15,))\n",
        "encoder_embed = Embedding(len(tokenizer_q.word_index)+1, 50)(encoder_inputs)\n",
        "encoder_mask = Masking(mask_value=0)(encoder_embed)\n",
        "encoder_outputs, h_state, c_state = LSTM(50, return_state=True)(encoder_mask)\n",
        "\n",
        "\n",
        "# 디코더 신경망 설계\n",
        "decoder_inputs = Input(shape=(22,))\n",
        "decoder_embed = Embedding(len(tokenizer_a.word_index)+1, 50)(decoder_inputs)\n",
        "decoder_mask = Masking(mask_value=0)(decoder_embed)\n",
        "\n",
        "decoder_lstm = LSTM(50, return_sequences=True, return_state=True)\n",
        "decoder_outputs, _, _ = decoder_lstm(decoder_mask, initial_state=[h_state, c_state])\n",
        "\n",
        "decoder_dense = Dense(len(tokenizer_a.word_index)+1, activation='softmax')\n",
        "decoder_softmax_outputs = decoder_dense(decoder_outputs)"
      ],
      "execution_count": 58,
      "outputs": []
    },
    {
      "cell_type": "code",
      "metadata": {
        "id": "T8T3JQkUaCFh"
      },
      "source": [
        "model = Model([encoder_inputs, decoder_inputs], decoder_softmax_outputs)\n",
        "model.compile(optimizer='rmsprop', loss='sparse_categorical_crossentropy', metrics=['acc'])"
      ],
      "execution_count": 59,
      "outputs": []
    },
    {
      "cell_type": "code",
      "metadata": {
        "id": "ASoi6hq2aEFf"
      },
      "source": [
        "if not(os.path.isdir(path)):\n",
        "    os.makedirs(os.path.join(path))\n",
        "\n",
        "model.load_weights(os.path.join('gdrive/My Drive/Colab Notebooks/squad/best_model_save.h5'))"
      ],
      "execution_count": 66,
      "outputs": []
    },
    {
      "cell_type": "code",
      "metadata": {
        "id": "1GL8LylubvVi"
      },
      "source": [
        "callback = ModelCheckpoint('gdrive/My Drive/Colab Notebooks/squad/best_model_save.h5', monitor = 'val_acc', verbose =10, save_best_only= True,\n",
        "                            save_weights_only =True)\n",
        "earlystop = EarlyStopping(monitor ='val_acc', min_delta = 0.001, patience =30)"
      ],
      "execution_count": 79,
      "outputs": []
    },
    {
      "cell_type": "code",
      "metadata": {
        "colab": {
          "base_uri": "https://localhost:8080/"
        },
        "id": "mwabbgxTafIk",
        "outputId": "718b8a89-a6bd-4324-a0a4-f36e2153a265"
      },
      "source": [
        "model.fit(x = [encoder_input_train, decoder_input_train],\n",
        "          y = decoder_output_train,\n",
        "          validation_data = ([encoder_input_test,\n",
        "                              decoder_input_test],\n",
        "                             decoder_output_test),\n",
        "          batch_size = 128, epochs = 100,\n",
        "          callbacks = [earlystop, callback])"
      ],
      "execution_count": 80,
      "outputs": [
        {
          "output_type": "stream",
          "text": [
            "Epoch 1/100\n",
            "73/73 [==============================] - 53s 734ms/step - loss: 1.1437 - acc: 0.8448 - val_loss: 1.8979 - val_acc: 0.7978\n",
            "\n",
            "Epoch 00001: val_acc improved from -inf to 0.79782, saving model to gdrive/My Drive/Colab Notebooks/squad/best_model_save.h5\n",
            "Epoch 2/100\n",
            "73/73 [==============================] - 55s 755ms/step - loss: 1.1301 - acc: 0.8458 - val_loss: 1.8803 - val_acc: 0.7990\n",
            "\n",
            "Epoch 00002: val_acc improved from 0.79782 to 0.79904, saving model to gdrive/My Drive/Colab Notebooks/squad/best_model_save.h5\n",
            "Epoch 3/100\n",
            "73/73 [==============================] - 53s 733ms/step - loss: 1.1164 - acc: 0.8464 - val_loss: 1.8872 - val_acc: 0.7995\n",
            "\n",
            "Epoch 00003: val_acc improved from 0.79904 to 0.79949, saving model to gdrive/My Drive/Colab Notebooks/squad/best_model_save.h5\n",
            "Epoch 4/100\n",
            "73/73 [==============================] - 53s 726ms/step - loss: 1.1033 - acc: 0.8468 - val_loss: 1.9302 - val_acc: 0.7996\n",
            "\n",
            "Epoch 00004: val_acc improved from 0.79949 to 0.79964, saving model to gdrive/My Drive/Colab Notebooks/squad/best_model_save.h5\n",
            "Epoch 5/100\n",
            "73/73 [==============================] - 53s 730ms/step - loss: 1.0900 - acc: 0.8473 - val_loss: 1.9324 - val_acc: 0.7998\n",
            "\n",
            "Epoch 00005: val_acc improved from 0.79964 to 0.79984, saving model to gdrive/My Drive/Colab Notebooks/squad/best_model_save.h5\n",
            "Epoch 6/100\n",
            "73/73 [==============================] - 54s 739ms/step - loss: 1.0769 - acc: 0.8477 - val_loss: 1.9342 - val_acc: 0.7997\n",
            "\n",
            "Epoch 00006: val_acc did not improve from 0.79984\n",
            "Epoch 7/100\n",
            "73/73 [==============================] - 53s 728ms/step - loss: 1.0641 - acc: 0.8482 - val_loss: 1.9468 - val_acc: 0.8003\n",
            "\n",
            "Epoch 00007: val_acc improved from 0.79984 to 0.80029, saving model to gdrive/My Drive/Colab Notebooks/squad/best_model_save.h5\n",
            "Epoch 8/100\n",
            "73/73 [==============================] - 53s 731ms/step - loss: 1.0511 - acc: 0.8488 - val_loss: 1.9557 - val_acc: 0.8001\n",
            "\n",
            "Epoch 00008: val_acc did not improve from 0.80029\n",
            "Epoch 9/100\n",
            "73/73 [==============================] - 53s 732ms/step - loss: 1.0386 - acc: 0.8492 - val_loss: 1.9569 - val_acc: 0.8003\n",
            "\n",
            "Epoch 00009: val_acc did not improve from 0.80029\n",
            "Epoch 10/100\n",
            "73/73 [==============================] - 53s 729ms/step - loss: 1.0264 - acc: 0.8498 - val_loss: 1.9572 - val_acc: 0.8006\n",
            "\n",
            "Epoch 00010: val_acc improved from 0.80029 to 0.80056, saving model to gdrive/My Drive/Colab Notebooks/squad/best_model_save.h5\n",
            "Epoch 11/100\n",
            "73/73 [==============================] - 53s 733ms/step - loss: 1.0148 - acc: 0.8504 - val_loss: 2.0004 - val_acc: 0.8007\n",
            "\n",
            "Epoch 00011: val_acc improved from 0.80056 to 0.80065, saving model to gdrive/My Drive/Colab Notebooks/squad/best_model_save.h5\n",
            "Epoch 12/100\n",
            "73/73 [==============================] - 53s 733ms/step - loss: 1.0039 - acc: 0.8509 - val_loss: 1.9858 - val_acc: 0.8007\n",
            "\n",
            "Epoch 00012: val_acc did not improve from 0.80065\n",
            "Epoch 13/100\n",
            "73/73 [==============================] - 53s 728ms/step - loss: 0.9934 - acc: 0.8514 - val_loss: 2.0229 - val_acc: 0.8008\n",
            "\n",
            "Epoch 00013: val_acc improved from 0.80065 to 0.80082, saving model to gdrive/My Drive/Colab Notebooks/squad/best_model_save.h5\n",
            "Epoch 14/100\n",
            "73/73 [==============================] - 53s 731ms/step - loss: 0.9833 - acc: 0.8521 - val_loss: 2.0078 - val_acc: 0.8012\n",
            "\n",
            "Epoch 00014: val_acc improved from 0.80082 to 0.80122, saving model to gdrive/My Drive/Colab Notebooks/squad/best_model_save.h5\n",
            "Epoch 15/100\n",
            "73/73 [==============================] - 53s 729ms/step - loss: 0.9727 - acc: 0.8526 - val_loss: 1.9957 - val_acc: 0.8012\n",
            "\n",
            "Epoch 00015: val_acc did not improve from 0.80122\n",
            "Epoch 16/100\n",
            "73/73 [==============================] - 53s 727ms/step - loss: 0.9623 - acc: 0.8532 - val_loss: 2.0257 - val_acc: 0.8012\n",
            "\n",
            "Epoch 00016: val_acc did not improve from 0.80122\n",
            "Epoch 17/100\n",
            "73/73 [==============================] - 54s 736ms/step - loss: 0.9518 - acc: 0.8541 - val_loss: 2.0306 - val_acc: 0.8014\n",
            "\n",
            "Epoch 00017: val_acc improved from 0.80122 to 0.80136, saving model to gdrive/My Drive/Colab Notebooks/squad/best_model_save.h5\n",
            "Epoch 18/100\n",
            "73/73 [==============================] - 54s 738ms/step - loss: 0.9411 - acc: 0.8550 - val_loss: 2.0403 - val_acc: 0.8015\n",
            "\n",
            "Epoch 00018: val_acc improved from 0.80136 to 0.80145, saving model to gdrive/My Drive/Colab Notebooks/squad/best_model_save.h5\n",
            "Epoch 19/100\n",
            "73/73 [==============================] - 54s 739ms/step - loss: 0.9311 - acc: 0.8560 - val_loss: 2.0319 - val_acc: 0.8017\n",
            "\n",
            "Epoch 00019: val_acc improved from 0.80145 to 0.80175, saving model to gdrive/My Drive/Colab Notebooks/squad/best_model_save.h5\n",
            "Epoch 20/100\n",
            "73/73 [==============================] - 55s 759ms/step - loss: 0.9202 - acc: 0.8567 - val_loss: 2.0356 - val_acc: 0.8018\n",
            "\n",
            "Epoch 00020: val_acc improved from 0.80175 to 0.80180, saving model to gdrive/My Drive/Colab Notebooks/squad/best_model_save.h5\n",
            "Epoch 21/100\n",
            "73/73 [==============================] - 55s 760ms/step - loss: 0.9096 - acc: 0.8578 - val_loss: 2.0628 - val_acc: 0.8018\n",
            "\n",
            "Epoch 00021: val_acc improved from 0.80180 to 0.80184, saving model to gdrive/My Drive/Colab Notebooks/squad/best_model_save.h5\n",
            "Epoch 22/100\n",
            "73/73 [==============================] - 54s 745ms/step - loss: 0.8999 - acc: 0.8588 - val_loss: 2.0613 - val_acc: 0.8019\n",
            "\n",
            "Epoch 00022: val_acc improved from 0.80184 to 0.80193, saving model to gdrive/My Drive/Colab Notebooks/squad/best_model_save.h5\n",
            "Epoch 23/100\n",
            "73/73 [==============================] - 55s 750ms/step - loss: 0.8905 - acc: 0.8597 - val_loss: 2.0711 - val_acc: 0.8020\n",
            "\n",
            "Epoch 00023: val_acc improved from 0.80193 to 0.80204, saving model to gdrive/My Drive/Colab Notebooks/squad/best_model_save.h5\n",
            "Epoch 24/100\n",
            "73/73 [==============================] - 55s 749ms/step - loss: 0.8811 - acc: 0.8606 - val_loss: 2.0765 - val_acc: 0.8021\n",
            "\n",
            "Epoch 00024: val_acc improved from 0.80204 to 0.80209, saving model to gdrive/My Drive/Colab Notebooks/squad/best_model_save.h5\n",
            "Epoch 25/100\n",
            "73/73 [==============================] - 54s 738ms/step - loss: 0.8718 - acc: 0.8612 - val_loss: 2.0635 - val_acc: 0.8023\n",
            "\n",
            "Epoch 00025: val_acc improved from 0.80209 to 0.80227, saving model to gdrive/My Drive/Colab Notebooks/squad/best_model_save.h5\n",
            "Epoch 26/100\n",
            "73/73 [==============================] - 54s 738ms/step - loss: 0.8628 - acc: 0.8624 - val_loss: 2.0848 - val_acc: 0.8024\n",
            "\n",
            "Epoch 00026: val_acc improved from 0.80227 to 0.80244, saving model to gdrive/My Drive/Colab Notebooks/squad/best_model_save.h5\n",
            "Epoch 27/100\n",
            "73/73 [==============================] - 54s 743ms/step - loss: 0.8531 - acc: 0.8633 - val_loss: 2.0912 - val_acc: 0.8020\n",
            "\n",
            "Epoch 00027: val_acc did not improve from 0.80244\n",
            "Epoch 28/100\n",
            "73/73 [==============================] - 54s 743ms/step - loss: 0.8445 - acc: 0.8642 - val_loss: 2.0929 - val_acc: 0.8028\n",
            "\n",
            "Epoch 00028: val_acc improved from 0.80244 to 0.80284, saving model to gdrive/My Drive/Colab Notebooks/squad/best_model_save.h5\n",
            "Epoch 29/100\n",
            "73/73 [==============================] - 54s 734ms/step - loss: 0.8350 - acc: 0.8652 - val_loss: 2.1084 - val_acc: 0.8022\n",
            "\n",
            "Epoch 00029: val_acc did not improve from 0.80284\n",
            "Epoch 30/100\n",
            "73/73 [==============================] - 54s 740ms/step - loss: 0.8255 - acc: 0.8665 - val_loss: 2.1064 - val_acc: 0.8025\n",
            "\n",
            "Epoch 00030: val_acc did not improve from 0.80284\n",
            "Epoch 31/100\n",
            "73/73 [==============================] - 54s 745ms/step - loss: 0.8171 - acc: 0.8677 - val_loss: 2.1165 - val_acc: 0.8025\n",
            "\n",
            "Epoch 00031: val_acc did not improve from 0.80284\n",
            "Epoch 32/100\n",
            "73/73 [==============================] - 54s 747ms/step - loss: 0.8079 - acc: 0.8688 - val_loss: 2.1187 - val_acc: 0.8027\n",
            "\n",
            "Epoch 00032: val_acc did not improve from 0.80284\n",
            "Epoch 33/100\n",
            "73/73 [==============================] - 53s 733ms/step - loss: 0.7997 - acc: 0.8698 - val_loss: 2.1161 - val_acc: 0.8026\n",
            "\n",
            "Epoch 00033: val_acc did not improve from 0.80284\n",
            "Epoch 34/100\n",
            "73/73 [==============================] - 55s 749ms/step - loss: 0.7909 - acc: 0.8711 - val_loss: 2.1156 - val_acc: 0.8023\n",
            "\n",
            "Epoch 00034: val_acc did not improve from 0.80284\n",
            "Epoch 35/100\n",
            "73/73 [==============================] - 55s 755ms/step - loss: 0.7828 - acc: 0.8720 - val_loss: 2.1139 - val_acc: 0.8025\n",
            "\n",
            "Epoch 00035: val_acc did not improve from 0.80284\n",
            "Epoch 36/100\n",
            "73/73 [==============================] - 54s 743ms/step - loss: 0.7750 - acc: 0.8733 - val_loss: 2.1257 - val_acc: 0.8024\n",
            "\n",
            "Epoch 00036: val_acc did not improve from 0.80284\n",
            "Epoch 37/100\n",
            "73/73 [==============================] - 55s 759ms/step - loss: 0.7670 - acc: 0.8745 - val_loss: 2.1336 - val_acc: 0.8025\n",
            "\n",
            "Epoch 00037: val_acc did not improve from 0.80284\n",
            "Epoch 38/100\n",
            "73/73 [==============================] - 55s 760ms/step - loss: 0.7591 - acc: 0.8753 - val_loss: 2.1433 - val_acc: 0.8028\n",
            "\n",
            "Epoch 00038: val_acc did not improve from 0.80284\n",
            "Epoch 39/100\n",
            "73/73 [==============================] - 55s 749ms/step - loss: 0.7514 - acc: 0.8764 - val_loss: 2.1323 - val_acc: 0.8026\n",
            "\n",
            "Epoch 00039: val_acc did not improve from 0.80284\n",
            "Epoch 40/100\n",
            "73/73 [==============================] - 57s 776ms/step - loss: 0.7441 - acc: 0.8778 - val_loss: 2.1358 - val_acc: 0.8024\n",
            "\n",
            "Epoch 00040: val_acc did not improve from 0.80284\n",
            "Epoch 41/100\n",
            "73/73 [==============================] - 54s 742ms/step - loss: 0.7369 - acc: 0.8787 - val_loss: 2.1399 - val_acc: 0.8026\n",
            "\n",
            "Epoch 00041: val_acc did not improve from 0.80284\n",
            "Epoch 42/100\n",
            "73/73 [==============================] - 55s 758ms/step - loss: 0.7290 - acc: 0.8799 - val_loss: 2.1498 - val_acc: 0.8031\n",
            "\n",
            "Epoch 00042: val_acc improved from 0.80284 to 0.80311, saving model to gdrive/My Drive/Colab Notebooks/squad/best_model_save.h5\n",
            "Epoch 43/100\n",
            "73/73 [==============================] - 54s 740ms/step - loss: 0.7219 - acc: 0.8809 - val_loss: 2.1478 - val_acc: 0.8028\n",
            "\n",
            "Epoch 00043: val_acc did not improve from 0.80311\n",
            "Epoch 44/100\n",
            "73/73 [==============================] - 54s 737ms/step - loss: 0.7145 - acc: 0.8820 - val_loss: 2.1496 - val_acc: 0.8030\n",
            "\n",
            "Epoch 00044: val_acc did not improve from 0.80311\n",
            "Epoch 45/100\n",
            "73/73 [==============================] - 55s 751ms/step - loss: 0.7074 - acc: 0.8830 - val_loss: 2.1462 - val_acc: 0.8025\n",
            "\n",
            "Epoch 00045: val_acc did not improve from 0.80311\n",
            "Epoch 46/100\n",
            "73/73 [==============================] - 54s 743ms/step - loss: 0.7006 - acc: 0.8841 - val_loss: 2.1580 - val_acc: 0.8027\n",
            "\n",
            "Epoch 00046: val_acc did not improve from 0.80311\n",
            "Epoch 47/100\n",
            "73/73 [==============================] - 54s 744ms/step - loss: 0.6927 - acc: 0.8854 - val_loss: 2.1502 - val_acc: 0.8027\n",
            "\n",
            "Epoch 00047: val_acc did not improve from 0.80311\n",
            "Epoch 48/100\n",
            "73/73 [==============================] - 54s 735ms/step - loss: 0.6861 - acc: 0.8863 - val_loss: 2.1620 - val_acc: 0.8027\n",
            "\n",
            "Epoch 00048: val_acc did not improve from 0.80311\n",
            "Epoch 49/100\n",
            "73/73 [==============================] - 54s 737ms/step - loss: 0.6785 - acc: 0.8876 - val_loss: 2.1617 - val_acc: 0.8028\n",
            "\n",
            "Epoch 00049: val_acc did not improve from 0.80311\n",
            "Epoch 50/100\n",
            "73/73 [==============================] - 54s 744ms/step - loss: 0.6715 - acc: 0.8887 - val_loss: 2.1684 - val_acc: 0.8030\n",
            "\n",
            "Epoch 00050: val_acc did not improve from 0.80311\n",
            "Epoch 51/100\n",
            "73/73 [==============================] - 54s 739ms/step - loss: 0.6643 - acc: 0.8899 - val_loss: 2.1659 - val_acc: 0.8031\n",
            "\n",
            "Epoch 00051: val_acc did not improve from 0.80311\n",
            "Epoch 52/100\n",
            "73/73 [==============================] - 55s 756ms/step - loss: 0.6576 - acc: 0.8907 - val_loss: 2.1672 - val_acc: 0.8031\n",
            "\n",
            "Epoch 00052: val_acc improved from 0.80311 to 0.80315, saving model to gdrive/My Drive/Colab Notebooks/squad/best_model_save.h5\n",
            "Epoch 53/100\n",
            "73/73 [==============================] - 55s 754ms/step - loss: 0.6506 - acc: 0.8916 - val_loss: 2.1802 - val_acc: 0.8031\n",
            "\n",
            "Epoch 00053: val_acc did not improve from 0.80315\n",
            "Epoch 54/100\n",
            "73/73 [==============================] - 54s 742ms/step - loss: 0.6439 - acc: 0.8926 - val_loss: 2.1786 - val_acc: 0.8029\n",
            "\n",
            "Epoch 00054: val_acc did not improve from 0.80315\n",
            "Epoch 55/100\n",
            "73/73 [==============================] - 54s 747ms/step - loss: 0.6373 - acc: 0.8939 - val_loss: 2.1844 - val_acc: 0.8031\n",
            "\n",
            "Epoch 00055: val_acc did not improve from 0.80315\n",
            "Epoch 56/100\n",
            "73/73 [==============================] - 54s 737ms/step - loss: 0.6304 - acc: 0.8948 - val_loss: 2.1849 - val_acc: 0.8029\n",
            "\n",
            "Epoch 00056: val_acc did not improve from 0.80315\n"
          ],
          "name": "stdout"
        },
        {
          "output_type": "execute_result",
          "data": {
            "text/plain": [
              "<tensorflow.python.keras.callbacks.History at 0x7ff98d1e68d0>"
            ]
          },
          "metadata": {
            "tags": []
          },
          "execution_count": 80
        }
      ]
    },
    {
      "cell_type": "code",
      "metadata": {
        "id": "yrzpP9C2bi72"
      },
      "source": [
        "# 인코딩 결과로 발생할 상태값을 반환할 모델\n",
        "encoder_model = Model(encoder_inputs, [h_state, c_state])"
      ],
      "execution_count": 81,
      "outputs": []
    },
    {
      "cell_type": "code",
      "metadata": {
        "id": "Viq-sL87fX1E"
      },
      "source": [
        "# input : 디코더 모델 만들기\n",
        "# decoder_lstm : decoder_mask 거침\n",
        "# decoder_dense : 결과치를 가지고 softmax 결과를 뽑아내 단어를 찾음\n",
        "\n",
        "encoder_h_state = Input(shape=(50,))\n",
        "encoder_c_state = Input(shape=(50,))\n",
        "\n",
        "pd_decoder_outputs, pd_h_state, pd_c_state = decoder_lstm(decoder_mask, initial_state=[encoder_h_state, encoder_c_state])\n",
        "\n",
        "pd_decoder_softmax_outputs = decoder_dense(pd_decoder_outputs)\n",
        "\n",
        "decoder_model = Model([decoder_inputs, encoder_h_state, encoder_c_state], [pd_decoder_softmax_outputs, pd_h_state, pd_c_state])"
      ],
      "execution_count": 82,
      "outputs": []
    },
    {
      "cell_type": "code",
      "metadata": {
        "colab": {
          "base_uri": "https://localhost:8080/"
        },
        "id": "7YInZot0f1Nc",
        "outputId": "7afb9742-ab05-446a-b9f9-3e559763b97d"
      },
      "source": [
        "input_stc = input()\n",
        "token_stc = input_stc.split()\n",
        "encode_stc = tokenizer_q.texts_to_sequences([token_stc])\n",
        "pad_stc = pad_sequences(encode_stc, maxlen=15, padding=\"post\")\n",
        "\n",
        "states_value = encoder_model.predict(pad_stc)\n",
        "\n",
        "predicted_seq = np.zeros((1,1))\n",
        "predicted_seq[0, 0] = a_to_index['<start>']\n",
        "\n",
        "decoded_stc = []\n",
        "\n",
        "while True:\n",
        "    output_words, h, c = decoder_model.predict([predicted_seq] + states_value)\n",
        "\n",
        "    predicted_word = index_to_a[np.argmax(output_words[0,0])]\n",
        "\n",
        "    if predicted_word == '<end>':\n",
        "        break\n",
        "\n",
        "    decoded_stc.append(predicted_word)\n",
        "\n",
        "    predicted_seq = np.zeros((1,1))\n",
        "    predicted_seq[0,0] = np.argmax(output_words[0,0])\n",
        "\n",
        "    states_value = [h, c]\n",
        "\n",
        "print(' '.join(decoded_stc))"
      ],
      "execution_count": 83,
      "outputs": [
        {
          "output_type": "stream",
          "text": [
            "나 우울해\n",
            "WARNING:tensorflow:Model was constructed with shape (None, 22) for input KerasTensor(type_spec=TensorSpec(shape=(None, 22), dtype=tf.float32, name='input_4'), name='input_4', description=\"created by layer 'input_4'\"), but it was called on an input with incompatible shape (None, 1).\n",
            "자신을 해야 안에\n"
          ],
          "name": "stdout"
        }
      ]
    },
    {
      "cell_type": "code",
      "metadata": {
        "id": "tEFRcw5wf_no"
      },
      "source": [
        ""
      ],
      "execution_count": null,
      "outputs": []
    }
  ]
}