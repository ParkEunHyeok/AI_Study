{
  "nbformat": 4,
  "nbformat_minor": 0,
  "metadata": {
    "colab": {
      "name": "Untitled7.ipynb",
      "provenance": [],
      "authorship_tag": "ABX9TyNcn50T3JtC94rmYR0mvz48",
      "include_colab_link": true
    },
    "kernelspec": {
      "name": "python3",
      "display_name": "Python 3"
    },
    "language_info": {
      "name": "python"
    },
    "accelerator": "GPU"
  },
  "cells": [
    {
      "cell_type": "markdown",
      "metadata": {
        "id": "view-in-github",
        "colab_type": "text"
      },
      "source": [
        "<a href=\"https://colab.research.google.com/github/ParkEunHyeok/AI_Study/blob/main/NLP/Tensorflow_Seq2Seq_Translation.ipynb\" target=\"_parent\"><img src=\"https://colab.research.google.com/assets/colab-badge.svg\" alt=\"Open In Colab\"/></a>"
      ]
    },
    {
      "cell_type": "code",
      "metadata": {
        "id": "VQzo3DAEURiw"
      },
      "source": [
        "import numpy as np\n",
        "import pandas as pd\n",
        "import re\n",
        "import shutil\n",
        "import os\n",
        "import unicodedata\n",
        "import urllib3\n",
        "import zipfile\n",
        "import tensorflow as tf\n",
        "from tensorflow.keras.preprocessing.text import Tokenizer\n",
        "from tensorflow.keras.preprocessing.sequence import pad_sequences"
      ],
      "execution_count": 1,
      "outputs": []
    },
    {
      "cell_type": "code",
      "metadata": {
        "id": "X7bl8nEvUhsQ"
      },
      "source": [
        "http = urllib3.PoolManager()\n",
        "url ='http://www.manythings.org/anki/fra-eng.zip'\n",
        "filename = 'fra-eng.zip'\n",
        "path = os.getcwd()\n",
        "zipfilename = os.path.join(path, filename)\n",
        "with http.request('GET', url, preload_content=False) as r, open(zipfilename, 'wb') as out_file:       \n",
        "    shutil.copyfileobj(r, out_file)\n",
        "\n",
        "with zipfile.ZipFile(zipfilename, 'r') as zip_ref:\n",
        "    zip_ref.extractall(path)"
      ],
      "execution_count": 2,
      "outputs": []
    },
    {
      "cell_type": "code",
      "metadata": {
        "id": "wmPbvgbKUk-0"
      },
      "source": [
        "num_samples = 33000"
      ],
      "execution_count": 3,
      "outputs": []
    },
    {
      "cell_type": "code",
      "metadata": {
        "id": "1MO7cVcypn5n"
      },
      "source": [
        "def unicode_to_ascii(s):\n",
        "  return ''.join(c for c in unicodedata.normalize('NFD', s)\n",
        "      if unicodedata.category(c) != 'Mn')"
      ],
      "execution_count": 4,
      "outputs": []
    },
    {
      "cell_type": "code",
      "metadata": {
        "id": "VITJfoKjpx78"
      },
      "source": [
        "def preprocess_sentence(sent):\n",
        "  sent = unicode_to_ascii(sent.lower())\n",
        "  sent = re.sub(r\"([?.!,¿])\", r\" \\1\", sent)\n",
        "  sent = re.sub(r\"([?.!,¿])\", r\" \\1\", sent)\n",
        "  sent = re.sub(r\"[^a-zA-Z!.?]+\", r\" \", sent)\n",
        "\n",
        "  sent = re.sub(r\"\\s+\", \" \", sent)\n",
        "  return sent"
      ],
      "execution_count": 5,
      "outputs": []
    },
    {
      "cell_type": "code",
      "metadata": {
        "colab": {
          "base_uri": "https://localhost:8080/"
        },
        "id": "wLXoYCWLqAOd",
        "outputId": "4fe638a1-c167-4bff-935f-e3693feb32c6"
      },
      "source": [
        "en_sent = u\"Have you had dinner?\"\n",
        "fr_sent = u\"Avez-vous déjà diné?\"\n",
        "print(preprocess_sentence(en_sent))\n",
        "print(preprocess_sentence(fr_sent).encode('utf-8'))"
      ],
      "execution_count": 7,
      "outputs": [
        {
          "output_type": "stream",
          "name": "stdout",
          "text": [
            "have you had dinner ?\n",
            "b'avez vous deja dine ?'\n"
          ]
        }
      ]
    },
    {
      "cell_type": "code",
      "metadata": {
        "id": "57b-KdUfqFEk"
      },
      "source": [
        "def load_preprocessed_data():\n",
        "  encoder_input, decoder_input, decoder_target = [], [], []\n",
        "\n",
        "  with open(\"fra.txt\", \"r\") as lines:\n",
        "    for i, line in enumerate(lines):\n",
        "      src_line, tar_line, _ = line.strip().split('\\t')\n",
        "      src_line_input = [w for w in preprocess_sentence(src_line).split()]\n",
        "\n",
        "      tar_line = preprocess_sentence(tar_line)\n",
        "      tar_line_input = [w for w in (\"<SOS> \" + tar_line).split()]\n",
        "      tar_line_target = [w for w in (tar_line + \" <EOS>\").split()]\n",
        "\n",
        "      encoder_input.append(src_line_input)\n",
        "      decoder_input.append(tar_line_input)\n",
        "      decoder_target.append(tar_line_target)\n",
        "\n",
        "      if i==num_samples - 1:\n",
        "        break\n",
        "  return encoder_input, decoder_input, decoder_target"
      ],
      "execution_count": 8,
      "outputs": []
    },
    {
      "cell_type": "code",
      "metadata": {
        "colab": {
          "base_uri": "https://localhost:8080/"
        },
        "id": "R1mljMOwrPn1",
        "outputId": "e60d2482-8ac3-4f82-865b-6889c93201f8"
      },
      "source": [
        "sents_en_in, sents_fra_in, sents_fra_out = load_preprocessed_data()\n",
        "print(sents_en_in[:5])\n",
        "print(sents_fra_in[:5])\n",
        "print(sents_fra_out[:5])"
      ],
      "execution_count": 13,
      "outputs": [
        {
          "output_type": "stream",
          "name": "stdout",
          "text": [
            "[['go', '.'], ['go', '.'], ['go', '.'], ['hi', '.'], ['hi', '.']]\n",
            "[['<SOS>', 'va', '!'], ['<SOS>', 'marche', '.'], ['<SOS>', 'bouge', '!'], ['<SOS>', 'salut', '!'], ['<SOS>', 'salut', '.']]\n",
            "[['va', '!', '<EOS>'], ['marche', '.', '<EOS>'], ['bouge', '!', '<EOS>'], ['salut', '!', '<EOS>'], ['salut', '.', '<EOS>']]\n"
          ]
        }
      ]
    },
    {
      "cell_type": "code",
      "metadata": {
        "id": "sO79A6pLriH3"
      },
      "source": [
        "tokenizer_en = Tokenizer(filters=\"\", lower=False)\n",
        "tokenizer_en.fit_on_texts(sents_en_in)\n",
        "encoder_input = tokenizer_en.texts_to_sequences(sents_en_in)\n",
        "\n",
        "tokenizer_fra = Tokenizer(filters=\"\", lower=False)\n",
        "tokenizer_fra.fit_on_texts(sents_fra_in)\n",
        "tokenizer_fra.fit_on_texts(sents_fra_out)\n",
        "\n",
        "decoder_input = tokenizer_fra.texts_to_sequences(sents_fra_in)\n",
        "decoder_target = tokenizer_fra.texts_to_sequences(sents_fra_out)"
      ],
      "execution_count": 14,
      "outputs": []
    },
    {
      "cell_type": "code",
      "metadata": {
        "id": "KrjMuPHqs2kf"
      },
      "source": [
        "encoder_input = pad_sequences(encoder_input, padding=\"post\")\n",
        "decoder_input = pad_sequences(decoder_input, padding=\"post\")\n",
        "decoder_target = pad_sequences(decoder_target, padding=\"post\")"
      ],
      "execution_count": 15,
      "outputs": []
    },
    {
      "cell_type": "code",
      "metadata": {
        "colab": {
          "base_uri": "https://localhost:8080/"
        },
        "id": "b9OEo5HAtSxY",
        "outputId": "71991af4-f32e-44fc-f4ad-e0f18189386e"
      },
      "source": [
        "src_vocab_size = len(tokenizer_en.word_index) + 1\n",
        "tar_vocab_size = len(tokenizer_fra.word_index) + 1\n",
        "print(\"영어 단어 집합의 크기 : {:d}, 프랑스어 단어 집합의 크기 : {:d}\".format(src_vocab_size, tar_vocab_size))"
      ],
      "execution_count": 16,
      "outputs": [
        {
          "output_type": "stream",
          "name": "stdout",
          "text": [
            "영어 단어 집합의 크기 : 4606, 프랑스어 단어 집합의 크기 : 8107\n"
          ]
        }
      ]
    },
    {
      "cell_type": "code",
      "metadata": {
        "id": "eJseqGaJtYPi"
      },
      "source": [
        "src_to_index = tokenizer_en.word_index\n",
        "index_to_src = tokenizer_en.index_word # 훈련 후 결과 비교할 때 사용\n",
        "tar_to_index = tokenizer_fra.word_index # 훈련 후 예측 과정에서 사용\n",
        "index_to_tar = tokenizer_fra.index_word # 훈련 후 결과 비교할 때 사용"
      ],
      "execution_count": 18,
      "outputs": []
    },
    {
      "cell_type": "code",
      "metadata": {
        "colab": {
          "base_uri": "https://localhost:8080/"
        },
        "id": "ALYKRcDQufeG",
        "outputId": "fc4ef638-4132-4372-971e-44f088928804"
      },
      "source": [
        "indices = np.arange(encoder_input.shape[0])\n",
        "np.random.shuffle(indices)\n",
        "print(indices)"
      ],
      "execution_count": 20,
      "outputs": [
        {
          "output_type": "stream",
          "name": "stdout",
          "text": [
            "[ 5577 21179 22000 ...  4508 11406 28974]\n"
          ]
        }
      ]
    },
    {
      "cell_type": "code",
      "metadata": {
        "id": "mO6yQ4KNutZG"
      },
      "source": [
        "encoder_input = encoder_input[indices]\n",
        "decoder_input = decoder_input[indices]\n",
        "decoder_target = decoder_target[indices]"
      ],
      "execution_count": 21,
      "outputs": []
    },
    {
      "cell_type": "code",
      "metadata": {
        "colab": {
          "base_uri": "https://localhost:8080/"
        },
        "id": "HVCQ4j3Lu4ms",
        "outputId": "6a841738-18d9-4feb-85ef-8d0a77d21d6f"
      },
      "source": [
        "print(encoder_input[30997])\n",
        "print(decoder_input[30997])\n",
        "print(decoder_target[30997])"
      ],
      "execution_count": 24,
      "outputs": [
        {
          "output_type": "stream",
          "name": "stdout",
          "text": [
            "[714  26 471  23   0   0   0   0]\n",
            "[  2 502  33 570  10   0   0   0   0   0   0   0   0   0   0   0]\n",
            "[502  33 570  10   3   0   0   0   0   0   0   0   0   0   0   0]\n"
          ]
        }
      ]
    },
    {
      "cell_type": "code",
      "metadata": {
        "colab": {
          "base_uri": "https://localhost:8080/"
        },
        "id": "28BzHyc_u76j",
        "outputId": "cf0bddb4-09c2-4c33-ed13-0ec1813fe77f"
      },
      "source": [
        "n_of_val = int(33000 * 0.1)\n",
        "print(n_of_val)"
      ],
      "execution_count": 25,
      "outputs": [
        {
          "output_type": "stream",
          "name": "stdout",
          "text": [
            "3300\n"
          ]
        }
      ]
    },
    {
      "cell_type": "code",
      "metadata": {
        "id": "rCNu5rmOvNtD"
      },
      "source": [
        "encoder_input_train = encoder_input[:-n_of_val]\n",
        "decoder_input_train = decoder_input[:-n_of_val]\n",
        "decoder_target_train = decoder_target[:-n_of_val]\n",
        "\n",
        "encoder_input_test = encoder_input[-n_of_val:]\n",
        "decoder_input_test = decoder_input[-n_of_val:]\n",
        "decoder_target_test = decoder_target[-n_of_val:]"
      ],
      "execution_count": 28,
      "outputs": []
    },
    {
      "cell_type": "code",
      "metadata": {
        "colab": {
          "base_uri": "https://localhost:8080/"
        },
        "id": "ctnLeLKyvwN-",
        "outputId": "5f60f855-eeea-418b-8855-c89b7ae69483"
      },
      "source": [
        "print(encoder_input_train.shape)\n",
        "print(decoder_input_train.shape)\n",
        "print(decoder_target_train.shape)\n",
        "print(encoder_input_test.shape)\n",
        "print(decoder_input_test.shape)\n",
        "print(decoder_target_test.shape)"
      ],
      "execution_count": 29,
      "outputs": [
        {
          "output_type": "stream",
          "name": "stdout",
          "text": [
            "(29700, 8)\n",
            "(29700, 16)\n",
            "(29700, 16)\n",
            "(3300, 8)\n",
            "(3300, 16)\n",
            "(3300, 16)\n"
          ]
        }
      ]
    },
    {
      "cell_type": "code",
      "metadata": {
        "id": "-XRYrYiQv3PA"
      },
      "source": [
        "from tensorflow.keras.layers import Input, LSTM, Embedding, Dense, Masking\n",
        "from tensorflow.keras.models import Model"
      ],
      "execution_count": 30,
      "outputs": []
    },
    {
      "cell_type": "code",
      "metadata": {
        "id": "CbztnsGwv_64"
      },
      "source": [
        "latent_dim = 50"
      ],
      "execution_count": 31,
      "outputs": []
    },
    {
      "cell_type": "code",
      "metadata": {
        "id": "aOz-hSCdwDro"
      },
      "source": [
        "encoder_inputs = Input(shape=(None,))\n",
        "enc_emb = Embedding(src_vocab_size, latent_dim)(encoder_inputs)\n",
        "enc_masking = Masking(mask_value=0.0)(enc_emb)\n",
        "encoder_lstm = LSTM(latent_dim, return_state=True)\n",
        "\n",
        "encoder_outputs, state_h, state_c = encoder_lstm(enc_masking)\n",
        "encoder_states = [state_h, state_c]"
      ],
      "execution_count": 33,
      "outputs": []
    },
    {
      "cell_type": "code",
      "metadata": {
        "id": "ubibF1SmwtfS"
      },
      "source": [
        "decoder_inputs = Input(shape=(None,))\n",
        "dec_emb_layer = Embedding(tar_vocab_size, latent_dim)\n",
        "dec_emb = dec_emb_layer(decoder_inputs)\n",
        "dec_masking = Masking(mask_value=0.0)(dec_emb)\n",
        "\n",
        "decoder_lstm = LSTM(latent_dim, return_sequences=True, return_state=True)\n",
        "\n",
        "decoder_outputs, _, _ = decoder_lstm(dec_masking,\n",
        "                                     initial_state=encoder_states)\n",
        "\n",
        "decoder_dense = Dense(tar_vocab_size, activation='softmax')\n",
        "decoder_outputs = decoder_dense(decoder_outputs)"
      ],
      "execution_count": 34,
      "outputs": []
    },
    {
      "cell_type": "code",
      "metadata": {
        "id": "zDEm9MBSxbZv"
      },
      "source": [
        "model = Model([encoder_inputs, decoder_inputs], decoder_outputs)"
      ],
      "execution_count": 35,
      "outputs": []
    },
    {
      "cell_type": "code",
      "metadata": {
        "id": "FTJSI0rLxi47"
      },
      "source": [
        "model.compile(optimizer='rmsprop', loss='sparse_categorical_crossentropy', metrics=['acc'])"
      ],
      "execution_count": 36,
      "outputs": []
    },
    {
      "cell_type": "code",
      "metadata": {
        "colab": {
          "base_uri": "https://localhost:8080/"
        },
        "id": "WetPTawOxk5U",
        "outputId": "09472d4c-d814-491a-fa4c-9737bcf9ed97"
      },
      "source": [
        "model.summary()"
      ],
      "execution_count": 37,
      "outputs": [
        {
          "output_type": "stream",
          "name": "stdout",
          "text": [
            "Model: \"model\"\n",
            "__________________________________________________________________________________________________\n",
            "Layer (type)                    Output Shape         Param #     Connected to                     \n",
            "==================================================================================================\n",
            "input_1 (InputLayer)            [(None, None)]       0                                            \n",
            "__________________________________________________________________________________________________\n",
            "input_2 (InputLayer)            [(None, None)]       0                                            \n",
            "__________________________________________________________________________________________________\n",
            "embedding (Embedding)           (None, None, 50)     230300      input_1[0][0]                    \n",
            "__________________________________________________________________________________________________\n",
            "embedding_1 (Embedding)         (None, None, 50)     405350      input_2[0][0]                    \n",
            "__________________________________________________________________________________________________\n",
            "masking (Masking)               (None, None, 50)     0           embedding[0][0]                  \n",
            "__________________________________________________________________________________________________\n",
            "masking_1 (Masking)             (None, None, 50)     0           embedding_1[0][0]                \n",
            "__________________________________________________________________________________________________\n",
            "lstm (LSTM)                     [(None, 50), (None,  20200       masking[0][0]                    \n",
            "__________________________________________________________________________________________________\n",
            "lstm_1 (LSTM)                   [(None, None, 50), ( 20200       masking_1[0][0]                  \n",
            "                                                                 lstm[0][1]                       \n",
            "                                                                 lstm[0][2]                       \n",
            "__________________________________________________________________________________________________\n",
            "dense (Dense)                   (None, None, 8107)   413457      lstm_1[0][0]                     \n",
            "==================================================================================================\n",
            "Total params: 1,089,507\n",
            "Trainable params: 1,089,507\n",
            "Non-trainable params: 0\n",
            "__________________________________________________________________________________________________\n"
          ]
        }
      ]
    },
    {
      "cell_type": "code",
      "metadata": {
        "colab": {
          "base_uri": "https://localhost:8080/"
        },
        "id": "1YbyMUhJxmPq",
        "outputId": "dc844c8c-ccdf-47af-cb3f-8ae74ffb5283"
      },
      "source": [
        "model.fit(x = [encoder_input_train, decoder_input_train], y = decoder_target_train, \\\n",
        "          validation_data = ([encoder_input_test, decoder_input_test], decoder_target_test),\n",
        "          batch_size = 128, epochs = 50)"
      ],
      "execution_count": 38,
      "outputs": [
        {
          "output_type": "stream",
          "name": "stdout",
          "text": [
            "Epoch 1/50\n",
            "233/233 [==============================] - 26s 54ms/step - loss: 3.1231 - acc: 0.6183 - val_loss: 1.8472 - val_acc: 0.7033\n",
            "Epoch 2/50\n",
            "233/233 [==============================] - 9s 40ms/step - loss: 1.6731 - acc: 0.7388 - val_loss: 1.5634 - val_acc: 0.7580\n",
            "Epoch 3/50\n",
            "233/233 [==============================] - 9s 41ms/step - loss: 1.4902 - acc: 0.7577 - val_loss: 1.4416 - val_acc: 0.7644\n",
            "Epoch 4/50\n",
            "233/233 [==============================] - 9s 40ms/step - loss: 1.3858 - acc: 0.7741 - val_loss: 1.3556 - val_acc: 0.7864\n",
            "Epoch 5/50\n",
            "233/233 [==============================] - 10s 41ms/step - loss: 1.2999 - acc: 0.7908 - val_loss: 1.2903 - val_acc: 0.7973\n",
            "Epoch 6/50\n",
            "233/233 [==============================] - 10s 41ms/step - loss: 1.2335 - acc: 0.8004 - val_loss: 1.2390 - val_acc: 0.8044\n",
            "Epoch 7/50\n",
            "233/233 [==============================] - 10s 41ms/step - loss: 1.1816 - acc: 0.8078 - val_loss: 1.1960 - val_acc: 0.8096\n",
            "Epoch 8/50\n",
            "233/233 [==============================] - 10s 41ms/step - loss: 1.1362 - acc: 0.8147 - val_loss: 1.1700 - val_acc: 0.8158\n",
            "Epoch 9/50\n",
            "233/233 [==============================] - 10s 42ms/step - loss: 1.0966 - acc: 0.8202 - val_loss: 1.1411 - val_acc: 0.8174\n",
            "Epoch 10/50\n",
            "233/233 [==============================] - 10s 42ms/step - loss: 1.0634 - acc: 0.8250 - val_loss: 1.1045 - val_acc: 0.8242\n",
            "Epoch 11/50\n",
            "233/233 [==============================] - 10s 42ms/step - loss: 1.0344 - acc: 0.8293 - val_loss: 1.0822 - val_acc: 0.8271\n",
            "Epoch 12/50\n",
            "233/233 [==============================] - 9s 40ms/step - loss: 1.0085 - acc: 0.8330 - val_loss: 1.0777 - val_acc: 0.8299\n",
            "Epoch 13/50\n",
            "233/233 [==============================] - 9s 40ms/step - loss: 0.9852 - acc: 0.8364 - val_loss: 1.0422 - val_acc: 0.8344\n",
            "Epoch 14/50\n",
            "233/233 [==============================] - 9s 40ms/step - loss: 0.9634 - acc: 0.8392 - val_loss: 1.0325 - val_acc: 0.8362\n",
            "Epoch 15/50\n",
            "233/233 [==============================] - 9s 40ms/step - loss: 0.9428 - acc: 0.8416 - val_loss: 1.0271 - val_acc: 0.8364\n",
            "Epoch 16/50\n",
            "233/233 [==============================] - 9s 40ms/step - loss: 0.9243 - acc: 0.8442 - val_loss: 1.0251 - val_acc: 0.8364\n",
            "Epoch 17/50\n",
            "233/233 [==============================] - 9s 40ms/step - loss: 0.9069 - acc: 0.8463 - val_loss: 1.0136 - val_acc: 0.8355\n",
            "Epoch 18/50\n",
            "233/233 [==============================] - 10s 41ms/step - loss: 0.8902 - acc: 0.8482 - val_loss: 1.0003 - val_acc: 0.8390\n",
            "Epoch 19/50\n",
            "233/233 [==============================] - 9s 40ms/step - loss: 0.8742 - acc: 0.8503 - val_loss: 0.9658 - val_acc: 0.8438\n",
            "Epoch 20/50\n",
            "233/233 [==============================] - 9s 40ms/step - loss: 0.8592 - acc: 0.8522 - val_loss: 0.9582 - val_acc: 0.8451\n",
            "Epoch 21/50\n",
            "233/233 [==============================] - 10s 41ms/step - loss: 0.8456 - acc: 0.8538 - val_loss: 0.9590 - val_acc: 0.8445\n",
            "Epoch 22/50\n",
            "233/233 [==============================] - 9s 41ms/step - loss: 0.8332 - acc: 0.8556 - val_loss: 0.9448 - val_acc: 0.8469\n",
            "Epoch 23/50\n",
            "233/233 [==============================] - 10s 42ms/step - loss: 0.8220 - acc: 0.8573 - val_loss: 0.9391 - val_acc: 0.8468\n",
            "Epoch 24/50\n",
            "233/233 [==============================] - 9s 41ms/step - loss: 0.8109 - acc: 0.8590 - val_loss: 0.9381 - val_acc: 0.8473\n",
            "Epoch 25/50\n",
            "233/233 [==============================] - 10s 41ms/step - loss: 0.8014 - acc: 0.8603 - val_loss: 0.9343 - val_acc: 0.8474\n",
            "Epoch 26/50\n",
            "233/233 [==============================] - 9s 40ms/step - loss: 0.7919 - acc: 0.8619 - val_loss: 0.9354 - val_acc: 0.8490\n",
            "Epoch 27/50\n",
            "233/233 [==============================] - 9s 40ms/step - loss: 0.7830 - acc: 0.8633 - val_loss: 0.9238 - val_acc: 0.8497\n",
            "Epoch 28/50\n",
            "233/233 [==============================] - 9s 40ms/step - loss: 0.7744 - acc: 0.8651 - val_loss: 0.9142 - val_acc: 0.8507\n",
            "Epoch 29/50\n",
            "233/233 [==============================] - 9s 41ms/step - loss: 0.7662 - acc: 0.8666 - val_loss: 0.9143 - val_acc: 0.8503\n",
            "Epoch 30/50\n",
            "233/233 [==============================] - 9s 41ms/step - loss: 0.7576 - acc: 0.8682 - val_loss: 0.9062 - val_acc: 0.8522\n",
            "Epoch 31/50\n",
            "233/233 [==============================] - 10s 41ms/step - loss: 0.7482 - acc: 0.8695 - val_loss: 0.8987 - val_acc: 0.8536\n",
            "Epoch 32/50\n",
            "233/233 [==============================] - 9s 40ms/step - loss: 0.7383 - acc: 0.8710 - val_loss: 0.9035 - val_acc: 0.8527\n",
            "Epoch 33/50\n",
            "233/233 [==============================] - 9s 41ms/step - loss: 0.7292 - acc: 0.8722 - val_loss: 0.8923 - val_acc: 0.8544\n",
            "Epoch 34/50\n",
            "233/233 [==============================] - 9s 41ms/step - loss: 0.7217 - acc: 0.8740 - val_loss: 0.8849 - val_acc: 0.8556\n",
            "Epoch 35/50\n",
            "233/233 [==============================] - 10s 41ms/step - loss: 0.7150 - acc: 0.8752 - val_loss: 0.8879 - val_acc: 0.8563\n",
            "Epoch 36/50\n",
            "233/233 [==============================] - 9s 41ms/step - loss: 0.7083 - acc: 0.8764 - val_loss: 0.8804 - val_acc: 0.8566\n",
            "Epoch 37/50\n",
            "233/233 [==============================] - 10s 43ms/step - loss: 0.7021 - acc: 0.8778 - val_loss: 0.8879 - val_acc: 0.8545\n",
            "Epoch 38/50\n",
            "233/233 [==============================] - 10s 43ms/step - loss: 0.6959 - acc: 0.8790 - val_loss: 0.8797 - val_acc: 0.8566\n",
            "Epoch 39/50\n",
            "233/233 [==============================] - 10s 42ms/step - loss: 0.6899 - acc: 0.8801 - val_loss: 0.8785 - val_acc: 0.8578\n",
            "Epoch 40/50\n",
            "233/233 [==============================] - 10s 42ms/step - loss: 0.6842 - acc: 0.8812 - val_loss: 0.8737 - val_acc: 0.8583\n",
            "Epoch 41/50\n",
            "233/233 [==============================] - 10s 42ms/step - loss: 0.6788 - acc: 0.8824 - val_loss: 0.8699 - val_acc: 0.8594\n",
            "Epoch 42/50\n",
            "233/233 [==============================] - 10s 43ms/step - loss: 0.6734 - acc: 0.8834 - val_loss: 0.8698 - val_acc: 0.8597\n",
            "Epoch 43/50\n",
            "233/233 [==============================] - 9s 41ms/step - loss: 0.6680 - acc: 0.8846 - val_loss: 0.8713 - val_acc: 0.8588\n",
            "Epoch 44/50\n",
            "233/233 [==============================] - 9s 41ms/step - loss: 0.6627 - acc: 0.8855 - val_loss: 0.8693 - val_acc: 0.8590\n",
            "Epoch 45/50\n",
            "233/233 [==============================] - 9s 40ms/step - loss: 0.6577 - acc: 0.8864 - val_loss: 0.8627 - val_acc: 0.8605\n",
            "Epoch 46/50\n",
            "233/233 [==============================] - 9s 40ms/step - loss: 0.6527 - acc: 0.8873 - val_loss: 0.8592 - val_acc: 0.8608\n",
            "Epoch 47/50\n",
            "233/233 [==============================] - 9s 40ms/step - loss: 0.6478 - acc: 0.8883 - val_loss: 0.8618 - val_acc: 0.8612\n",
            "Epoch 48/50\n",
            "233/233 [==============================] - 9s 41ms/step - loss: 0.6428 - acc: 0.8893 - val_loss: 0.8562 - val_acc: 0.8621\n",
            "Epoch 49/50\n",
            "233/233 [==============================] - 9s 40ms/step - loss: 0.6381 - acc: 0.8901 - val_loss: 0.8568 - val_acc: 0.8619\n",
            "Epoch 50/50\n",
            "233/233 [==============================] - 10s 42ms/step - loss: 0.6336 - acc: 0.8909 - val_loss: 0.8594 - val_acc: 0.8614\n"
          ]
        },
        {
          "output_type": "execute_result",
          "data": {
            "text/plain": [
              "<keras.callbacks.History at 0x7f9b7afea090>"
            ]
          },
          "metadata": {},
          "execution_count": 38
        }
      ]
    },
    {
      "cell_type": "code",
      "metadata": {
        "id": "YF9seDFXxq0p"
      },
      "source": [
        "encoder_model = Model(encoder_inputs, encoder_states)"
      ],
      "execution_count": 39,
      "outputs": []
    },
    {
      "cell_type": "code",
      "metadata": {
        "id": "8pdJforKxzth"
      },
      "source": [
        "decoder_state_input_h = Input(shape=(latent_dim,))\n",
        "decoder_state_input_c = Input(shape=(latent_dim,))\n",
        "decoder_states_inputs = [decoder_state_input_h, decoder_state_input_c]\n",
        "\n",
        "dec_emb2 = dec_emb_layer(decoder_inputs)\n",
        "\n",
        "decoder_outputs2, state_h2, state_c2 = decoder_lstm(dec_emb2,\n",
        "                                                    initial_state=decoder_states_inputs)\n",
        "decoder_states2 = [state_h2, state_c2]\n",
        "\n",
        "decoder_outputs2 = decoder_dense(decoder_outputs2)"
      ],
      "execution_count": 40,
      "outputs": []
    },
    {
      "cell_type": "code",
      "metadata": {
        "id": "7gqnOO7uyfT9"
      },
      "source": [
        "decoder_model = Model(\n",
        "    [decoder_inputs] + decoder_states_inputs,\n",
        "    [decoder_outputs2] + decoder_states2\n",
        ")"
      ],
      "execution_count": 41,
      "outputs": []
    },
    {
      "cell_type": "code",
      "metadata": {
        "id": "tjQxubZxyn_c"
      },
      "source": [
        "def decode_sequence(input_seq):\n",
        "  states_value = encoder_model.predict(input_seq)\n",
        "\n",
        "  target_seq = np.zeros((1,1))\n",
        "  target_seq[0,0] = tar_to_index['<SOS>']\n",
        "\n",
        "  stop_condition = False\n",
        "  decoded_sentence = ''\n",
        "\n",
        "  while not stop_condition:\n",
        "    output_tokens, h, c=decoder_model.predict([target_seq] + states_value)\n",
        "\n",
        "    sampled_token_index = np.argmax(output_tokens[0, -1, :])\n",
        "    sampled_char = index_to_tar[sampled_token_index]\n",
        "\n",
        "    decoded_sentence += ' ' + sampled_char\n",
        "\n",
        "    if (sampled_char=='<EOS>' or len(decoded_sentence) > 50):\n",
        "      stop_condition = True\n",
        "\n",
        "    target_seq = np.zeros((1,1))\n",
        "    target_seq[0,0] = sampled_token_index\n",
        "\n",
        "    states_value = [h, c]\n",
        "\n",
        "  return decoded_sentence"
      ],
      "execution_count": 42,
      "outputs": []
    },
    {
      "cell_type": "code",
      "metadata": {
        "id": "LsyYJ4Sjz1Yv"
      },
      "source": [
        "# 원문의 정수 시퀀스를 텍스트 시퀀스로 변환\n",
        "def seq2src(input_seq):\n",
        "    temp=''\n",
        "    for i in input_seq:\n",
        "        if(i!=0):\n",
        "            temp = temp + index_to_src[i]+' '\n",
        "    return temp\n",
        "\n",
        "# 번역문의 정수 시퀀스를 텍스트 시퀀스로 변환\n",
        "def seq2tar(input_seq):\n",
        "    temp=''\n",
        "    for i in input_seq:\n",
        "        if((i!=0 and i!=tar_to_index['<SOS>']) and i!=tar_to_index['<EOS>']):\n",
        "            temp = temp + index_to_tar[i] + ' '\n",
        "    return temp"
      ],
      "execution_count": 44,
      "outputs": []
    },
    {
      "cell_type": "code",
      "metadata": {
        "colab": {
          "base_uri": "https://localhost:8080/"
        },
        "id": "RLn7n35Fz56g",
        "outputId": "3cd23db7-9ca9-41ff-8bd5-f85a184df76f"
      },
      "source": [
        "for seq_index in [3,50,100,300,1001]:\n",
        "  input_seq = encoder_input_train[seq_index: seq_index+1]\n",
        "  decoded_sentence = decode_sequence(input_seq)\n",
        "\n",
        "  print(\"원문 : \",seq2src(encoder_input_train[seq_index]))\n",
        "  print(\"번역문 :\",seq2tar(decoder_input_train[seq_index]))\n",
        "  print(\"예측문 :\",decoded_sentence[:-5])\n",
        "  print(\"\\n\")"
      ],
      "execution_count": 45,
      "outputs": [
        {
          "output_type": "stream",
          "name": "stdout",
          "text": [
            "원문 :  the fight is over . \n",
            "번역문 : le combat est termine . \n",
            "예측문 :  le prix est pret . \n",
            "\n",
            "\n",
            "원문 :  what do you advise ? \n",
            "번역문 : que conseilles tu ? \n",
            "예측문 :  que se passe t il il mange ? \n",
            "\n",
            "\n",
            "원문 :  please stop . \n",
            "번역문 : s il vous plait arretez . \n",
            "예측문 :  s il vous plait . \n",
            "\n",
            "\n",
            "원문 :  fear nothing . \n",
            "번역문 : n aie aucune crainte . \n",
            "예측문 :  n as pas peur . \n",
            "\n",
            "\n",
            "원문 :  is that you ? \n",
            "번역문 : est ce toi ? \n",
            "예측문 :  est ce que tu ? \n",
            "\n",
            "\n"
          ]
        }
      ]
    },
    {
      "cell_type": "code",
      "metadata": {
        "colab": {
          "base_uri": "https://localhost:8080/"
        },
        "id": "phQIF8bp0KUV",
        "outputId": "1ecdf142-b0b6-4bc6-e57a-60bbc7381505"
      },
      "source": [
        "for seq_index in [3,50,100,300,1001]:\n",
        "  input_seq = encoder_input_test[seq_index: seq_index + 1]\n",
        "  decoded_sentence = decode_sequence(input_seq)\n",
        "\n",
        "  print(\"원문 : \",seq2src(encoder_input_test[seq_index]))\n",
        "  print(\"번역문 :\",seq2tar(decoder_input_test[seq_index]))\n",
        "  print(\"예측문 :\",decoded_sentence[:-5])\n",
        "  print(\"\\n\")"
      ],
      "execution_count": 46,
      "outputs": [
        {
          "output_type": "stream",
          "name": "stdout",
          "text": [
            "원문 :  he came downstairs . \n",
            "번역문 : il est descendu . \n",
            "예측문 :  il est en train de faire de l aide . \n",
            "\n",
            "\n",
            "원문 :  how about tomorrow ? \n",
            "번역문 : que dites vous de demain ? \n",
            "예측문 :  que se sont nous ? \n",
            "\n",
            "\n",
            "원문 :  i have a new car . \n",
            "번역문 : j ai une voiture neuve . \n",
            "예측문 :  j ai une voiture ! \n",
            "\n",
            "\n",
            "원문 :  i need sugar . \n",
            "번역문 : j ai besoin de sucre . \n",
            "예측문 :  j ai besoin de la tete . \n",
            "\n",
            "\n",
            "원문 :  leave tomorrow . \n",
            "번역문 : partez demain . \n",
            "예측문 :  laisse demain . \n",
            "\n",
            "\n"
          ]
        }
      ]
    },
    {
      "cell_type": "code",
      "metadata": {
        "id": "wsAu70Xh0QrR"
      },
      "source": [
        ""
      ],
      "execution_count": null,
      "outputs": []
    }
  ]
}