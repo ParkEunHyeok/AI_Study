{
  "nbformat": 4,
  "nbformat_minor": 0,
  "metadata": {
    "colab": {
      "name": "Binary_Classification.ipynb",
      "provenance": [],
      "authorship_tag": "ABX9TyMjblaE7egntjr70DlBpNgc",
      "include_colab_link": true
    },
    "kernelspec": {
      "name": "python3",
      "display_name": "Python 3"
    },
    "language_info": {
      "name": "python"
    }
  },
  "cells": [
    {
      "cell_type": "markdown",
      "metadata": {
        "id": "view-in-github",
        "colab_type": "text"
      },
      "source": [
        "<a href=\"https://colab.research.google.com/github/ParkEunHyeok/MachineLearningExamples/blob/main/Binary_Classification.ipynb\" target=\"_parent\"><img src=\"https://colab.research.google.com/assets/colab-badge.svg\" alt=\"Open In Colab\"/></a>"
      ]
    },
    {
      "cell_type": "code",
      "metadata": {
        "id": "3aNTviz5wyZq"
      },
      "source": [
        "import numpy as np\n",
        "import matplotlib.pyplot as plt"
      ],
      "execution_count": 2,
      "outputs": []
    },
    {
      "cell_type": "code",
      "metadata": {
        "id": "w6ZhF50MxEs4"
      },
      "source": [
        "x = np.array([2, 4, 6, 7, 8, 10, 11, 12, 13, 14])\n",
        "y = np.array([0, 0, 0, 0, 0, 1, 1, 1, 1, 1])"
      ],
      "execution_count": 6,
      "outputs": []
    },
    {
      "cell_type": "code",
      "metadata": {
        "colab": {
          "base_uri": "https://localhost:8080/",
          "height": 349
        },
        "id": "Zuqu4zFpxdJ0",
        "outputId": "0f08d306-82ad-49b3-d1d7-c052c8d7fb5b"
      },
      "source": [
        "fig = plt.figure()\n",
        "fig, ax_lst = plt.subplots(1, 1, figsize=(8,4), constrained_layout=True)\n",
        "ax_lst.scatter(x, y, label = \"\", c = None)\n",
        "ax_lst.set_title(\"data\")\n",
        "ax_lst.set_xlabel(\"Study\")\n",
        "ax_lst.set_ylabel(\"point\")\n",
        "ax_lst.legend(loc='best')\n",
        "plt.show()"
      ],
      "execution_count": 14,
      "outputs": [
        {
          "output_type": "stream",
          "text": [
            "No handles with labels found to put in legend.\n"
          ],
          "name": "stderr"
        },
        {
          "output_type": "display_data",
          "data": {
            "text/plain": [
              "<Figure size 432x288 with 0 Axes>"
            ]
          },
          "metadata": {
            "tags": []
          }
        },
        {
          "output_type": "display_data",
          "data": {
            "image/png": "[encoded data removed]",
            "text/plain": [
              "<Figure size 576x288 with 1 Axes>"
            ]
          },
          "metadata": {
            "tags": [],
            "needs_background": "light"
          }
        }
      ]
    },
    {
      "cell_type": "code",
      "metadata": {
        "id": "uKYwMUV3yOc-"
      },
      "source": [
        "learning_rate = 0.01\n",
        "epoch = 2000\n",
        "\n",
        "a = 0\n",
        "b = 0\n",
        "\n",
        "x_len = len(x)"
      ],
      "execution_count": 18,
      "outputs": []
    },
    {
      "cell_type": "code",
      "metadata": {
        "id": "Cmsqa4afzne3"
      },
      "source": [
        "def sigmoid(x):\n",
        "  return 1/(1+np.exp(-x))"
      ],
      "execution_count": 19,
      "outputs": []
    },
    {
      "cell_type": "code",
      "metadata": {
        "id": "daF0PW0S0Rxs"
      },
      "source": [
        "for i in range(epoch):\n",
        "  for j in range(x_len):\n",
        "    cur_x = x[j]\n",
        "    cur_y = y[j]\n",
        "\n",
        "    a_diff = cur_x * (sigmoid((a*cur_x+b)) - cur_y)\n",
        "    b_diff = (sigmoid((a*cur_x+b)) - cur_y)\n",
        "\n",
        "    a = a - (learning_rate * a_diff)\n",
        "    b = b - (learning_rate * b_diff)\n",
        "    pred = sigmoid((a*x+b))"
      ],
      "execution_count": 20,
      "outputs": []
    },
    {
      "cell_type": "code",
      "metadata": {
        "colab": {
          "base_uri": "https://localhost:8080/"
        },
        "id": "4FOxAt2k2zbY",
        "outputId": "861fe34b-59aa-4852-8b0f-ad182f955243"
      },
      "source": [
        "print(sigmoid(a * 14 + b))"
      ],
      "execution_count": 25,
      "outputs": [
        {
          "output_type": "stream",
          "text": [
            "0.9952946948212814\n"
          ],
          "name": "stdout"
        }
      ]
    },
    {
      "cell_type": "code",
      "metadata": {
        "colab": {
          "base_uri": "https://localhost:8080/",
          "height": 265
        },
        "id": "l-6VPxBS3JOV",
        "outputId": "5163c0e4-9e1c-4b97-e4ca-e424039ed5b0"
      },
      "source": [
        "X = np.arange(0, 20)\n",
        "plt.plot(sigmoid(a*X+b))\n",
        "plt.show()"
      ],
      "execution_count": 32,
      "outputs": [
        {
          "output_type": "display_data",
          "data": {
            "image/png": "[encoded data removed]",
            "text/plain": [
              "<Figure size 432x288 with 1 Axes>"
            ]
          },
          "metadata": {
            "tags": [],
            "needs_background": "light"
          }
        }
      ]
    },
    {
      "cell_type": "code",
      "metadata": {
        "id": "OlrB2g3z4Cst"
      },
      "source": [
        ""
      ],
      "execution_count": null,
      "outputs": []
    }
  ]
}
