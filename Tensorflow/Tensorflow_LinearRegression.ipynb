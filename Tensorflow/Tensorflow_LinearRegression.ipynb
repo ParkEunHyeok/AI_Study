{
  "nbformat": 4,
  "nbformat_minor": 0,
  "metadata": {
    "colab": {
      "name": "Tensorflow_LinearRegression.ipynb",
      "provenance": [],
      "collapsed_sections": [],
      "authorship_tag": "ABX9TyPfLSNypw6Vt5ma/crg7NDL",
      "include_colab_link": true
    },
    "kernelspec": {
      "name": "python3",
      "display_name": "Python 3"
    },
    "language_info": {
      "name": "python"
    }
  },
  "cells": [
    {
      "cell_type": "markdown",
      "metadata": {
        "id": "view-in-github",
        "colab_type": "text"
      },
      "source": [
        "<a href=\"https://colab.research.google.com/github/ParkEunHyeok/MachineLearningExamples/blob/main/Tensorflow/Tensorflow_LinearRegression.ipynb\" target=\"_parent\"><img src=\"https://colab.research.google.com/assets/colab-badge.svg\" alt=\"Open In Colab\"/></a>"
      ]
    },
    {
      "cell_type": "code",
      "metadata": {
        "colab": {
          "base_uri": "https://localhost:8080/"
        },
        "id": "TGKXcvrnf28q",
        "outputId": "d5ba78d6-41d2-489b-bc33-79f1ed76e766"
      },
      "source": [
        "import tensorflow.compat.v1 as tf\n",
        "tf.disable_v2_behavior()\n",
        "\n",
        "# X, Y placeholder 만들어놓기\n",
        "X = tf.placeholder(tf.float32, shape=[None])\n",
        "Y = tf.placeholder(tf.float32, shape=[None])\n",
        "\n",
        "# tf.Variable은 Tensorflow에서 사용하는 변수\n",
        "W = tf.Variable(tf.random_normal([1]), name='weight')\n",
        "b = tf.Variable(tf.random_normal([1]), name='bias')\n",
        "\n",
        "# H(x) 함수\n",
        "hypothesis = x_train * W + b\n",
        "\n",
        "# tf.square : Tensorflow 제곱 연산\n",
        "# tf.reduce_mean : Tensorflow 평균 연산\n",
        "cost = tf.reduce_mean(tf.square(hypothesis - y_train))\n",
        "\n",
        "# 선형회귀에서 선을 그엇을 때 가장 데이터의 성질을 잘 나타내는 직선을 긋기 위해서는\n",
        "# cost의 값이 최소이여야함\n",
        "# cost를 최소화하기 위해서 GradientDescent\n",
        "# minimize 그래프 구현하깅\n",
        "optimizer = tf.train.GradientDescentOptimizer(learning_rate=0.01)\n",
        "train = optimizer.minimize(cost)\n",
        "\n",
        "# 그래프를 실행하고 업데이트 해주기 위해서\n",
        "# 세션을 만들고 실행\n",
        "sess = tf.Session()\n",
        "# w, b라는 variable을 사용하기 전에는 반드시 initialize를 해주어야 한다고 함\n",
        "sess.run(tf.global_variables_initializer())\n",
        "\n",
        "for step in range(2001):\n",
        "  cost_val, W_val, b_val, _ = sess.run([cost, W, b, train], feed_dict={X:[1,2,3,4,5], Y:[2.1, 3.1, 4.1, 5.1, 6.1]})\n",
        "  if step % 100 == 0:\n",
        "      print(step, sess.run(cost), sess.run(W), sess.run(b))"
      ],
      "execution_count": null,
      "outputs": [
        {
          "output_type": "stream",
          "text": [
            "0 4.6706696 [0.35058782] [-0.7962919]\n",
            "100 0.016225472 [1.1479366] [-0.3363122]\n",
            "200 0.010026342 [1.1162966] [-0.26436973]\n",
            "300 0.006195672 [1.0914198] [-0.20781852]\n",
            "400 0.0038285528 [1.0718642] [-0.1633644]\n",
            "500 0.0023658117 [1.0564919] [-0.12841934]\n",
            "600 0.0014619263 [1.0444077] [-0.10094935]\n",
            "700 0.0009033845 [1.0349087] [-0.0793555]\n",
            "800 0.00055823586 [1.0274414] [-0.06238062]\n",
            "900 0.0003449598 [1.0215716] [-0.04903701]\n",
            "1000 0.00021316037 [1.0169569] [-0.03854719]\n",
            "1100 0.00013171995 [1.0133297] [-0.03030163]\n",
            "1200 8.139538e-05 [1.0104785] [-0.02381988]\n",
            "1300 5.0298026e-05 [1.008237] [-0.01872465]\n",
            "1400 3.1081723e-05 [1.0064751] [-0.0147194]\n",
            "1500 1.9206438e-05 [1.0050901] [-0.01157087]\n",
            "1600 1.186884e-05 [1.0040014] [-0.00909584]\n",
            "1700 7.3343704e-06 [1.0031453] [-0.00715018]\n",
            "1800 4.532322e-06 [1.0024728] [-0.00562087]\n",
            "1900 2.8009745e-06 [1.001944] [-0.00441874]\n",
            "2000 1.7311553e-06 [1.0015283] [-0.00347377]\n"
          ],
          "name": "stdout"
        }
      ]
    },
    {
      "cell_type": "code",
      "metadata": {
        "id": "U8MyFA5Wf-_T"
      },
      "source": [
        ""
      ],
      "execution_count": null,
      "outputs": []
    }
  ]
}